{
 "cells": [
  {
   "cell_type": "code",
   "execution_count": 49,
   "metadata": {
    "id": "QhBxU5HWjWbB"
   },
   "outputs": [],
   "source": [
    "import pandas as pd\n",
    "import matplotlib.pyplot as plt\n",
    "import seaborn as sns"
   ]
  },
  {
   "cell_type": "code",
   "execution_count": 50,
   "metadata": {
    "colab": {
     "base_uri": "https://localhost:8080/",
     "height": 206
    },
    "id": "ekkKN5-lk6xx",
    "outputId": "1fbb14b5-fceb-47d6-b8e8-001192f5f7fe"
   },
   "outputs": [
    {
     "data": {
      "text/html": [
       "<div>\n",
       "<style scoped>\n",
       "    .dataframe tbody tr th:only-of-type {\n",
       "        vertical-align: middle;\n",
       "    }\n",
       "\n",
       "    .dataframe tbody tr th {\n",
       "        vertical-align: top;\n",
       "    }\n",
       "\n",
       "    .dataframe thead th {\n",
       "        text-align: right;\n",
       "    }\n",
       "</style>\n",
       "<table border=\"1\" class=\"dataframe\">\n",
       "  <thead>\n",
       "    <tr style=\"text-align: right;\">\n",
       "      <th></th>\n",
       "      <th>Short description</th>\n",
       "      <th>Description</th>\n",
       "      <th>Caller</th>\n",
       "      <th>Assignment group</th>\n",
       "    </tr>\n",
       "  </thead>\n",
       "  <tbody>\n",
       "    <tr>\n",
       "      <th>0</th>\n",
       "      <td>login issue</td>\n",
       "      <td>-verified user details.(employee# &amp; manager na...</td>\n",
       "      <td>spxjnwir pjlcoqds</td>\n",
       "      <td>GRP_0</td>\n",
       "    </tr>\n",
       "    <tr>\n",
       "      <th>1</th>\n",
       "      <td>outlook</td>\n",
       "      <td>_x000D_\\n_x000D_\\nreceived from: hmjdrvpb.komu...</td>\n",
       "      <td>hmjdrvpb komuaywn</td>\n",
       "      <td>GRP_0</td>\n",
       "    </tr>\n",
       "    <tr>\n",
       "      <th>2</th>\n",
       "      <td>cant log in to vpn</td>\n",
       "      <td>_x000D_\\n_x000D_\\nreceived from: eylqgodm.ybqk...</td>\n",
       "      <td>eylqgodm ybqkwiam</td>\n",
       "      <td>GRP_0</td>\n",
       "    </tr>\n",
       "    <tr>\n",
       "      <th>3</th>\n",
       "      <td>unable to access hr_tool page</td>\n",
       "      <td>unable to access hr_tool page</td>\n",
       "      <td>xbkucsvz gcpydteq</td>\n",
       "      <td>GRP_0</td>\n",
       "    </tr>\n",
       "    <tr>\n",
       "      <th>4</th>\n",
       "      <td>skype error</td>\n",
       "      <td>skype error</td>\n",
       "      <td>owlgqjme qhcozdfx</td>\n",
       "      <td>GRP_0</td>\n",
       "    </tr>\n",
       "  </tbody>\n",
       "</table>\n",
       "</div>"
      ],
      "text/plain": [
       "               Short description  \\\n",
       "0                    login issue   \n",
       "1                        outlook   \n",
       "2             cant log in to vpn   \n",
       "3  unable to access hr_tool page   \n",
       "4                   skype error    \n",
       "\n",
       "                                         Description             Caller  \\\n",
       "0  -verified user details.(employee# & manager na...  spxjnwir pjlcoqds   \n",
       "1  _x000D_\\n_x000D_\\nreceived from: hmjdrvpb.komu...  hmjdrvpb komuaywn   \n",
       "2  _x000D_\\n_x000D_\\nreceived from: eylqgodm.ybqk...  eylqgodm ybqkwiam   \n",
       "3                      unable to access hr_tool page  xbkucsvz gcpydteq   \n",
       "4                                       skype error   owlgqjme qhcozdfx   \n",
       "\n",
       "  Assignment group  \n",
       "0            GRP_0  \n",
       "1            GRP_0  \n",
       "2            GRP_0  \n",
       "3            GRP_0  \n",
       "4            GRP_0  "
      ]
     },
     "execution_count": 50,
     "metadata": {},
     "output_type": "execute_result"
    }
   ],
   "source": [
    "df = pd.read_excel('input_data.xlsx')\n",
    "df.head()"
   ]
  },
  {
   "cell_type": "code",
   "execution_count": 51,
   "metadata": {
    "colab": {
     "base_uri": "https://localhost:8080/"
    },
    "id": "QTDXynjM24po",
    "outputId": "41b87c00-245e-4475-8d44-801498762524"
   },
   "outputs": [
    {
     "name": "stdout",
     "output_type": "stream",
     "text": [
      "<class 'pandas.core.frame.DataFrame'>\n",
      "RangeIndex: 8500 entries, 0 to 8499\n",
      "Data columns (total 4 columns):\n",
      " #   Column             Non-Null Count  Dtype \n",
      "---  ------             --------------  ----- \n",
      " 0   Short description  8492 non-null   object\n",
      " 1   Description        8499 non-null   object\n",
      " 2   Caller             8500 non-null   object\n",
      " 3   Assignment group   8500 non-null   object\n",
      "dtypes: object(4)\n",
      "memory usage: 265.8+ KB\n"
     ]
    }
   ],
   "source": [
    "df.info()"
   ]
  },
  {
   "cell_type": "markdown",
   "metadata": {
    "id": "aaKfuiV3CyAM"
   },
   "source": [
    "### Observations\n",
    "'Shore Description' and 'Description' have 8 and 1 null values.\n",
    "\n",
    "Caller can be dropped.\n",
    "\n",
    "'Assignment group' column is Y which has multiple classes. This is a supervised ML"
   ]
  },
  {
   "cell_type": "code",
   "execution_count": 52,
   "metadata": {
    "id": "6GnBC_l7zayp"
   },
   "outputs": [],
   "source": [
    "df.drop(['Caller'], axis=1, inplace=True) # it will not provide any important imformation for classification"
   ]
  },
  {
   "cell_type": "code",
   "execution_count": 53,
   "metadata": {
    "colab": {
     "base_uri": "https://localhost:8080/",
     "height": 332
    },
    "id": "9ni73hFWB_Z4",
    "outputId": "a1b7ba7d-f356-4244-e3fb-8fa93e191c4e"
   },
   "outputs": [
    {
     "data": {
      "text/html": [
       "<div>\n",
       "<style scoped>\n",
       "    .dataframe tbody tr th:only-of-type {\n",
       "        vertical-align: middle;\n",
       "    }\n",
       "\n",
       "    .dataframe tbody tr th {\n",
       "        vertical-align: top;\n",
       "    }\n",
       "\n",
       "    .dataframe thead th {\n",
       "        text-align: right;\n",
       "    }\n",
       "</style>\n",
       "<table border=\"1\" class=\"dataframe\">\n",
       "  <thead>\n",
       "    <tr style=\"text-align: right;\">\n",
       "      <th></th>\n",
       "      <th>Short description</th>\n",
       "      <th>Description</th>\n",
       "      <th>Assignment group</th>\n",
       "    </tr>\n",
       "  </thead>\n",
       "  <tbody>\n",
       "    <tr>\n",
       "      <th>2604</th>\n",
       "      <td>NaN</td>\n",
       "      <td>_x000D_\\n_x000D_\\nreceived from: ohdrnswl.rezu...</td>\n",
       "      <td>GRP_34</td>\n",
       "    </tr>\n",
       "    <tr>\n",
       "      <th>3383</th>\n",
       "      <td>NaN</td>\n",
       "      <td>_x000D_\\n-connected to the user system using t...</td>\n",
       "      <td>GRP_0</td>\n",
       "    </tr>\n",
       "    <tr>\n",
       "      <th>3906</th>\n",
       "      <td>NaN</td>\n",
       "      <td>-user unable  tologin to vpn._x000D_\\n-connect...</td>\n",
       "      <td>GRP_0</td>\n",
       "    </tr>\n",
       "    <tr>\n",
       "      <th>3910</th>\n",
       "      <td>NaN</td>\n",
       "      <td>-user unable  tologin to vpn._x000D_\\n-connect...</td>\n",
       "      <td>GRP_0</td>\n",
       "    </tr>\n",
       "    <tr>\n",
       "      <th>3915</th>\n",
       "      <td>NaN</td>\n",
       "      <td>-user unable  tologin to vpn._x000D_\\n-connect...</td>\n",
       "      <td>GRP_0</td>\n",
       "    </tr>\n",
       "    <tr>\n",
       "      <th>3921</th>\n",
       "      <td>NaN</td>\n",
       "      <td>-user unable  tologin to vpn._x000D_\\n-connect...</td>\n",
       "      <td>GRP_0</td>\n",
       "    </tr>\n",
       "    <tr>\n",
       "      <th>3924</th>\n",
       "      <td>NaN</td>\n",
       "      <td>name:wvqgbdhm fwchqjor\\nlanguage:\\nbrowser:mic...</td>\n",
       "      <td>GRP_0</td>\n",
       "    </tr>\n",
       "    <tr>\n",
       "      <th>4341</th>\n",
       "      <td>NaN</td>\n",
       "      <td>_x000D_\\n_x000D_\\nreceived from: eqmuniov.ehxk...</td>\n",
       "      <td>GRP_0</td>\n",
       "    </tr>\n",
       "    <tr>\n",
       "      <th>4395</th>\n",
       "      <td>i am locked out of skype</td>\n",
       "      <td>NaN</td>\n",
       "      <td>GRP_0</td>\n",
       "    </tr>\n",
       "  </tbody>\n",
       "</table>\n",
       "</div>"
      ],
      "text/plain": [
       "             Short description  \\\n",
       "2604                       NaN   \n",
       "3383                       NaN   \n",
       "3906                       NaN   \n",
       "3910                       NaN   \n",
       "3915                       NaN   \n",
       "3921                       NaN   \n",
       "3924                       NaN   \n",
       "4341                       NaN   \n",
       "4395  i am locked out of skype   \n",
       "\n",
       "                                            Description Assignment group  \n",
       "2604  _x000D_\\n_x000D_\\nreceived from: ohdrnswl.rezu...           GRP_34  \n",
       "3383  _x000D_\\n-connected to the user system using t...            GRP_0  \n",
       "3906  -user unable  tologin to vpn._x000D_\\n-connect...            GRP_0  \n",
       "3910  -user unable  tologin to vpn._x000D_\\n-connect...            GRP_0  \n",
       "3915  -user unable  tologin to vpn._x000D_\\n-connect...            GRP_0  \n",
       "3921  -user unable  tologin to vpn._x000D_\\n-connect...            GRP_0  \n",
       "3924  name:wvqgbdhm fwchqjor\\nlanguage:\\nbrowser:mic...            GRP_0  \n",
       "4341  _x000D_\\n_x000D_\\nreceived from: eqmuniov.ehxk...            GRP_0  \n",
       "4395                                                NaN            GRP_0  "
      ]
     },
     "execution_count": 53,
     "metadata": {},
     "output_type": "execute_result"
    }
   ],
   "source": [
    "df[df.isna().any(axis=1)] # check the missing values"
   ]
  },
  {
   "cell_type": "code",
   "execution_count": 54,
   "metadata": {
    "colab": {
     "base_uri": "https://localhost:8080/"
    },
    "id": "lQ9_2fwwJXTz",
    "outputId": "b6febaa3-ad63-4185-d767-0c308e41765a"
   },
   "outputs": [
    {
     "data": {
      "text/plain": [
       "Short description     0\n",
       "Description           0\n",
       "Assignment group      0\n",
       "merged_description    0\n",
       "dtype: int64"
      ]
     },
     "execution_count": 54,
     "metadata": {},
     "output_type": "execute_result"
    }
   ],
   "source": [
    "# we can merge short description and description column and create a new feature\n",
    "df.fillna('', inplace=True)\n",
    "df['merged_description'] = df['Short description'] + ' ' +df['Description']\n",
    "df.isna().sum()"
   ]
  },
  {
   "cell_type": "code",
   "execution_count": 55,
   "metadata": {
    "id": "ZFTMFT34-x9Z"
   },
   "outputs": [],
   "source": [
    "import re\n",
    "def clean_text(text):\n",
    "    return re.sub(r'[^a-zA-Z0-9\\s]', '', text)  # Remove non-alphanumeric characters except for whitespace\n",
    "\n",
    "def remove_numbers(text):\n",
    "    # Remove all digits from the text\n",
    "    return \" \".join([word for word in text.split() if not re.search(r'\\d', word)])\n",
    "\n",
    "df['Cleaned_Text'] = df['merged_description'].apply(clean_text)  # Create a new column with cleaned text\n",
    "df['Cleaned_Text'] = df['Cleaned_Text'].apply(remove_numbers)  # Create a new column without numbers"
   ]
  },
  {
   "cell_type": "code",
   "execution_count": 69,
   "metadata": {
    "colab": {
     "base_uri": "https://localhost:8080/"
    },
    "id": "wjMsRZsiCbMF",
    "outputId": "fe4e4c44-41e2-43f2-8b36-5adde8243cda"
   },
   "outputs": [
    {
     "data": {
      "text/plain": [
       "0       login issue verified user detailsemployee mana...\n",
       "1       outlook received from hello my meetingsskype m...\n",
       "2       cant log in to vpn received from i cannot log ...\n",
       "3       unable to access hrtool page unable to access ...\n",
       "4                                 skype error skype error\n",
       "                              ...                        \n",
       "8495    emails not coming in from zz mail received fro...\n",
       "8496      telephonysoftware issue telephonysoftware issue\n",
       "8497    windows password reset for tifpdchb pedxruyf w...\n",
       "8498    machine no est funcionando i am unable to acce...\n",
       "8499    an mehreren pcs lassen sich verschiedene prgra...\n",
       "Name: Cleaned_Text, Length: 8500, dtype: object"
      ]
     },
     "execution_count": 69,
     "metadata": {},
     "output_type": "execute_result"
    }
   ],
   "source": [
    "X = df['Cleaned_Text']\n",
    "X"
   ]
  },
  {
   "cell_type": "code",
   "execution_count": 70,
   "metadata": {
    "colab": {
     "base_uri": "https://localhost:8080/",
     "height": 632
    },
    "id": "ueOK9Li9fIVm",
    "outputId": "00845596-20f2-4383-e6a6-492ac12e8fe3"
   },
   "outputs": [
    {
     "name": "stderr",
     "output_type": "stream",
     "text": [
      "[nltk_data] Downloading package punkt to\n",
      "[nltk_data]     /home/akshirsagar/nltk_data...\n",
      "[nltk_data]   Package punkt is already up-to-date!\n"
     ]
    },
    {
     "data": {
      "text/html": [
       "<div>\n",
       "<style scoped>\n",
       "    .dataframe tbody tr th:only-of-type {\n",
       "        vertical-align: middle;\n",
       "    }\n",
       "\n",
       "    .dataframe tbody tr th {\n",
       "        vertical-align: top;\n",
       "    }\n",
       "\n",
       "    .dataframe thead th {\n",
       "        text-align: right;\n",
       "    }\n",
       "</style>\n",
       "<table border=\"1\" class=\"dataframe\">\n",
       "  <thead>\n",
       "    <tr style=\"text-align: right;\">\n",
       "      <th></th>\n",
       "      <th>Short description</th>\n",
       "      <th>Description</th>\n",
       "      <th>Assignment group</th>\n",
       "      <th>merged_description</th>\n",
       "      <th>Cleaned_Text</th>\n",
       "      <th>Cleaned_Tokens</th>\n",
       "      <th>Filtered_Word_Tokens</th>\n",
       "      <th>Stems</th>\n",
       "    </tr>\n",
       "  </thead>\n",
       "  <tbody>\n",
       "    <tr>\n",
       "      <th>0</th>\n",
       "      <td>login issue</td>\n",
       "      <td>-verified user details.(employee# &amp; manager na...</td>\n",
       "      <td>GRP_0</td>\n",
       "      <td>login issue -verified user details.(employee# ...</td>\n",
       "      <td>login issue verified user detailsemployee mana...</td>\n",
       "      <td>[login, issue, verified, user, detailsemployee...</td>\n",
       "      <td>[login, issue, verified, user, detailsemployee...</td>\n",
       "      <td>[login, issu, verifi, user, detailsemploye, ma...</td>\n",
       "    </tr>\n",
       "    <tr>\n",
       "      <th>1</th>\n",
       "      <td>outlook</td>\n",
       "      <td>_x000D_\\n_x000D_\\nreceived from: hmjdrvpb.komu...</td>\n",
       "      <td>GRP_0</td>\n",
       "      <td>outlook _x000D_\\n_x000D_\\nreceived from: hmjdr...</td>\n",
       "      <td>outlook received from hello my meetingsskype m...</td>\n",
       "      <td>[outlook, received, from, hello, my, meetingss...</td>\n",
       "      <td>[outlook, received, hello, meetingsskype, meet...</td>\n",
       "      <td>[outlook, receiv, hello, meetingsskyp, meet, e...</td>\n",
       "    </tr>\n",
       "    <tr>\n",
       "      <th>2</th>\n",
       "      <td>cant log in to vpn</td>\n",
       "      <td>_x000D_\\n_x000D_\\nreceived from: eylqgodm.ybqk...</td>\n",
       "      <td>GRP_0</td>\n",
       "      <td>cant log in to vpn _x000D_\\n_x000D_\\nreceived ...</td>\n",
       "      <td>cant log in to vpn received from i cannot log ...</td>\n",
       "      <td>[cant, log, in, to, vpn, received, from, i, ca...</td>\n",
       "      <td>[cant, log, vpn, received, log, best]</td>\n",
       "      <td>[cant, log, vpn, receiv, log, best]</td>\n",
       "    </tr>\n",
       "    <tr>\n",
       "      <th>3</th>\n",
       "      <td>unable to access hr_tool page</td>\n",
       "      <td>unable to access hr_tool page</td>\n",
       "      <td>GRP_0</td>\n",
       "      <td>unable to access hr_tool page unable to access...</td>\n",
       "      <td>unable to access hrtool page unable to access ...</td>\n",
       "      <td>[unable, to, access, hrtool, page, unable, to,...</td>\n",
       "      <td>[unable, access, hrtool, page, unable, access,...</td>\n",
       "      <td>[unabl, access, hrtool, page, unabl, access, h...</td>\n",
       "    </tr>\n",
       "    <tr>\n",
       "      <th>4</th>\n",
       "      <td>skype error</td>\n",
       "      <td>skype error</td>\n",
       "      <td>GRP_0</td>\n",
       "      <td>skype error  skype error</td>\n",
       "      <td>skype error skype error</td>\n",
       "      <td>[skype, error, skype, error]</td>\n",
       "      <td>[skype, error, skype, error]</td>\n",
       "      <td>[skype, error, skype, error]</td>\n",
       "    </tr>\n",
       "    <tr>\n",
       "      <th>...</th>\n",
       "      <td>...</td>\n",
       "      <td>...</td>\n",
       "      <td>...</td>\n",
       "      <td>...</td>\n",
       "      <td>...</td>\n",
       "      <td>...</td>\n",
       "      <td>...</td>\n",
       "      <td>...</td>\n",
       "    </tr>\n",
       "    <tr>\n",
       "      <th>8495</th>\n",
       "      <td>emails not coming in from zz mail</td>\n",
       "      <td>_x000D_\\n_x000D_\\nreceived from: avglmrts.vhqm...</td>\n",
       "      <td>GRP_29</td>\n",
       "      <td>emails not coming in from zz mail _x000D_\\n_x0...</td>\n",
       "      <td>emails not coming in from zz mail received fro...</td>\n",
       "      <td>[emails, not, coming, in, from, zz, mail, rece...</td>\n",
       "      <td>[emails, coming, zz, mail, received, good, rec...</td>\n",
       "      <td>[email, come, zz, mail, receiv, good, receiv, ...</td>\n",
       "    </tr>\n",
       "    <tr>\n",
       "      <th>8496</th>\n",
       "      <td>telephony_software issue</td>\n",
       "      <td>telephony_software issue</td>\n",
       "      <td>GRP_0</td>\n",
       "      <td>telephony_software issue telephony_software issue</td>\n",
       "      <td>telephonysoftware issue telephonysoftware issue</td>\n",
       "      <td>[telephonysoftware, issue, telephonysoftware, ...</td>\n",
       "      <td>[telephonysoftware, issue, telephonysoftware, ...</td>\n",
       "      <td>[telephonysoftwar, issu, telephonysoftwar, issu]</td>\n",
       "    </tr>\n",
       "    <tr>\n",
       "      <th>8497</th>\n",
       "      <td>vip2: windows password reset for tifpdchb pedx...</td>\n",
       "      <td>vip2: windows password reset for tifpdchb pedx...</td>\n",
       "      <td>GRP_0</td>\n",
       "      <td>vip2: windows password reset for tifpdchb pedx...</td>\n",
       "      <td>windows password reset for tifpdchb pedxruyf w...</td>\n",
       "      <td>[windows, password, reset, for, tifpdchb, pedx...</td>\n",
       "      <td>[windows, password, reset, tifpdchb, pedxruyf,...</td>\n",
       "      <td>[window, password, reset, tifpdchb, pedxruyf, ...</td>\n",
       "    </tr>\n",
       "    <tr>\n",
       "      <th>8498</th>\n",
       "      <td>machine nÃ£o estÃ¡ funcionando</td>\n",
       "      <td>i am unable to access the machine utilities to...</td>\n",
       "      <td>GRP_62</td>\n",
       "      <td>machine nÃ£o estÃ¡ funcionando i am unable to ...</td>\n",
       "      <td>machine no est funcionando i am unable to acce...</td>\n",
       "      <td>[machine, no, est, funcionando, i, am, unable,...</td>\n",
       "      <td>[machine, est, funcionando, unable, access, ma...</td>\n",
       "      <td>[machin, est, funcionando, unabl, access, mach...</td>\n",
       "    </tr>\n",
       "    <tr>\n",
       "      <th>8499</th>\n",
       "      <td>an mehreren pc`s lassen sich verschiedene prgr...</td>\n",
       "      <td>an mehreren pc`s lassen sich verschiedene prgr...</td>\n",
       "      <td>GRP_49</td>\n",
       "      <td>an mehreren pc`s lassen sich verschiedene prgr...</td>\n",
       "      <td>an mehreren pcs lassen sich verschiedene prgra...</td>\n",
       "      <td>[an, mehreren, pcs, lassen, sich, verschiedene...</td>\n",
       "      <td>[mehreren, pcs, lassen, sich, verschiedene, pr...</td>\n",
       "      <td>[mehreren, pc, lassen, sich, verschieden, prgr...</td>\n",
       "    </tr>\n",
       "  </tbody>\n",
       "</table>\n",
       "<p>8500 rows × 8 columns</p>\n",
       "</div>"
      ],
      "text/plain": [
       "                                      Short description  \\\n",
       "0                                           login issue   \n",
       "1                                               outlook   \n",
       "2                                    cant log in to vpn   \n",
       "3                         unable to access hr_tool page   \n",
       "4                                          skype error    \n",
       "...                                                 ...   \n",
       "8495                  emails not coming in from zz mail   \n",
       "8496                           telephony_software issue   \n",
       "8497  vip2: windows password reset for tifpdchb pedx...   \n",
       "8498                     machine nÃ£o estÃ¡ funcionando   \n",
       "8499  an mehreren pc`s lassen sich verschiedene prgr...   \n",
       "\n",
       "                                            Description Assignment group  \\\n",
       "0     -verified user details.(employee# & manager na...            GRP_0   \n",
       "1     _x000D_\\n_x000D_\\nreceived from: hmjdrvpb.komu...            GRP_0   \n",
       "2     _x000D_\\n_x000D_\\nreceived from: eylqgodm.ybqk...            GRP_0   \n",
       "3                         unable to access hr_tool page            GRP_0   \n",
       "4                                          skype error             GRP_0   \n",
       "...                                                 ...              ...   \n",
       "8495  _x000D_\\n_x000D_\\nreceived from: avglmrts.vhqm...           GRP_29   \n",
       "8496                           telephony_software issue            GRP_0   \n",
       "8497  vip2: windows password reset for tifpdchb pedx...            GRP_0   \n",
       "8498  i am unable to access the machine utilities to...           GRP_62   \n",
       "8499  an mehreren pc`s lassen sich verschiedene prgr...           GRP_49   \n",
       "\n",
       "                                     merged_description  \\\n",
       "0     login issue -verified user details.(employee# ...   \n",
       "1     outlook _x000D_\\n_x000D_\\nreceived from: hmjdr...   \n",
       "2     cant log in to vpn _x000D_\\n_x000D_\\nreceived ...   \n",
       "3     unable to access hr_tool page unable to access...   \n",
       "4                             skype error  skype error    \n",
       "...                                                 ...   \n",
       "8495  emails not coming in from zz mail _x000D_\\n_x0...   \n",
       "8496  telephony_software issue telephony_software issue   \n",
       "8497  vip2: windows password reset for tifpdchb pedx...   \n",
       "8498  machine nÃ£o estÃ¡ funcionando i am unable to ...   \n",
       "8499  an mehreren pc`s lassen sich verschiedene prgr...   \n",
       "\n",
       "                                           Cleaned_Text  \\\n",
       "0     login issue verified user detailsemployee mana...   \n",
       "1     outlook received from hello my meetingsskype m...   \n",
       "2     cant log in to vpn received from i cannot log ...   \n",
       "3     unable to access hrtool page unable to access ...   \n",
       "4                               skype error skype error   \n",
       "...                                                 ...   \n",
       "8495  emails not coming in from zz mail received fro...   \n",
       "8496    telephonysoftware issue telephonysoftware issue   \n",
       "8497  windows password reset for tifpdchb pedxruyf w...   \n",
       "8498  machine no est funcionando i am unable to acce...   \n",
       "8499  an mehreren pcs lassen sich verschiedene prgra...   \n",
       "\n",
       "                                         Cleaned_Tokens  \\\n",
       "0     [login, issue, verified, user, detailsemployee...   \n",
       "1     [outlook, received, from, hello, my, meetingss...   \n",
       "2     [cant, log, in, to, vpn, received, from, i, ca...   \n",
       "3     [unable, to, access, hrtool, page, unable, to,...   \n",
       "4                          [skype, error, skype, error]   \n",
       "...                                                 ...   \n",
       "8495  [emails, not, coming, in, from, zz, mail, rece...   \n",
       "8496  [telephonysoftware, issue, telephonysoftware, ...   \n",
       "8497  [windows, password, reset, for, tifpdchb, pedx...   \n",
       "8498  [machine, no, est, funcionando, i, am, unable,...   \n",
       "8499  [an, mehreren, pcs, lassen, sich, verschiedene...   \n",
       "\n",
       "                                   Filtered_Word_Tokens  \\\n",
       "0     [login, issue, verified, user, detailsemployee...   \n",
       "1     [outlook, received, hello, meetingsskype, meet...   \n",
       "2                 [cant, log, vpn, received, log, best]   \n",
       "3     [unable, access, hrtool, page, unable, access,...   \n",
       "4                          [skype, error, skype, error]   \n",
       "...                                                 ...   \n",
       "8495  [emails, coming, zz, mail, received, good, rec...   \n",
       "8496  [telephonysoftware, issue, telephonysoftware, ...   \n",
       "8497  [windows, password, reset, tifpdchb, pedxruyf,...   \n",
       "8498  [machine, est, funcionando, unable, access, ma...   \n",
       "8499  [mehreren, pcs, lassen, sich, verschiedene, pr...   \n",
       "\n",
       "                                                  Stems  \n",
       "0     [login, issu, verifi, user, detailsemploye, ma...  \n",
       "1     [outlook, receiv, hello, meetingsskyp, meet, e...  \n",
       "2                   [cant, log, vpn, receiv, log, best]  \n",
       "3     [unabl, access, hrtool, page, unabl, access, h...  \n",
       "4                          [skype, error, skype, error]  \n",
       "...                                                 ...  \n",
       "8495  [email, come, zz, mail, receiv, good, receiv, ...  \n",
       "8496   [telephonysoftwar, issu, telephonysoftwar, issu]  \n",
       "8497  [window, password, reset, tifpdchb, pedxruyf, ...  \n",
       "8498  [machin, est, funcionando, unabl, access, mach...  \n",
       "8499  [mehreren, pc, lassen, sich, verschieden, prgr...  \n",
       "\n",
       "[8500 rows x 8 columns]"
      ]
     },
     "execution_count": 70,
     "metadata": {},
     "output_type": "execute_result"
    }
   ],
   "source": [
    "#Tokenization\n",
    "\n",
    "import nltk\n",
    "from nltk.tokenize import word_tokenize\n",
    "nltk.download('punkt')\n",
    "\n",
    "def tokenize_words(text):\n",
    "    return word_tokenize(text)  # Return list of word tokens\n",
    "\n",
    "df['Cleaned_Tokens'] = df['Cleaned_Text'].apply(tokenize_words)\n",
    "df"
   ]
  },
  {
   "cell_type": "code",
   "execution_count": 71,
   "metadata": {
    "colab": {
     "base_uri": "https://localhost:8080/"
    },
    "id": "mMh1jaxsg-AL",
    "outputId": "370fbf1f-bf71-4996-fde5-cdef8d4fb7ae"
   },
   "outputs": [
    {
     "name": "stdout",
     "output_type": "stream",
     "text": [
      "                                         Cleaned_Tokens  \\\n",
      "0     [login, issue, verified, user, detailsemployee...   \n",
      "1     [outlook, received, from, hello, my, meetingss...   \n",
      "2     [cant, log, in, to, vpn, received, from, i, ca...   \n",
      "3     [unable, to, access, hrtool, page, unable, to,...   \n",
      "4                          [skype, error, skype, error]   \n",
      "...                                                 ...   \n",
      "8495  [emails, not, coming, in, from, zz, mail, rece...   \n",
      "8496  [telephonysoftware, issue, telephonysoftware, ...   \n",
      "8497  [windows, password, reset, for, tifpdchb, pedx...   \n",
      "8498  [machine, no, est, funcionando, i, am, unable,...   \n",
      "8499  [an, mehreren, pcs, lassen, sich, verschiedene...   \n",
      "\n",
      "                                   Filtered_Word_Tokens  \n",
      "0     [login, issue, verified, user, detailsemployee...  \n",
      "1     [outlook, received, hello, meetingsskype, meet...  \n",
      "2                 [cant, log, vpn, received, log, best]  \n",
      "3     [unable, access, hrtool, page, unable, access,...  \n",
      "4                          [skype, error, skype, error]  \n",
      "...                                                 ...  \n",
      "8495  [emails, coming, zz, mail, received, good, rec...  \n",
      "8496  [telephonysoftware, issue, telephonysoftware, ...  \n",
      "8497  [windows, password, reset, tifpdchb, pedxruyf,...  \n",
      "8498  [machine, est, funcionando, unable, access, ma...  \n",
      "8499  [mehreren, pcs, lassen, sich, verschiedene, pr...  \n",
      "\n",
      "[8500 rows x 2 columns]\n"
     ]
    },
    {
     "name": "stderr",
     "output_type": "stream",
     "text": [
      "[nltk_data] Downloading package stopwords to\n",
      "[nltk_data]     /home/akshirsagar/nltk_data...\n",
      "[nltk_data]   Package stopwords is already up-to-date!\n"
     ]
    }
   ],
   "source": [
    "from nltk.corpus import stopwords\n",
    "\n",
    "nltk.download('stopwords')\n",
    "\n",
    "stop_words = set(stopwords.words('english'))\n",
    "\n",
    "def remove_stopwords(tokens):\n",
    "    return [word for word in tokens if word.lower() not in stop_words]\n",
    "\n",
    "# Apply the function to remove stopwords from 'Word_Tokens'\n",
    "df['Filtered_Word_Tokens'] = df['Cleaned_Tokens'].apply(remove_stopwords)\n",
    "\n",
    "print(df[['Cleaned_Tokens', 'Filtered_Word_Tokens']])\n"
   ]
  },
  {
   "cell_type": "code",
   "execution_count": 72,
   "metadata": {
    "colab": {
     "base_uri": "https://localhost:8080/"
    },
    "id": "5Ds7vkyhjGa3",
    "outputId": "6fe4ba6f-5390-418b-8404-41a3d66f05cf"
   },
   "outputs": [
    {
     "name": "stdout",
     "output_type": "stream",
     "text": [
      "                                   Filtered_Word_Tokens  \\\n",
      "0     [login, issue, verified, user, detailsemployee...   \n",
      "1     [outlook, received, hello, meetingsskype, meet...   \n",
      "2                 [cant, log, vpn, received, log, best]   \n",
      "3     [unable, access, hrtool, page, unable, access,...   \n",
      "4                          [skype, error, skype, error]   \n",
      "...                                                 ...   \n",
      "8495  [emails, coming, zz, mail, received, good, rec...   \n",
      "8496  [telephonysoftware, issue, telephonysoftware, ...   \n",
      "8497  [windows, password, reset, tifpdchb, pedxruyf,...   \n",
      "8498  [machine, est, funcionando, unable, access, ma...   \n",
      "8499  [mehreren, pcs, lassen, sich, verschiedene, pr...   \n",
      "\n",
      "                                                  Stems  \n",
      "0     [login, issu, verifi, user, detailsemploye, ma...  \n",
      "1     [outlook, receiv, hello, meetingsskyp, meet, e...  \n",
      "2                   [cant, log, vpn, receiv, log, best]  \n",
      "3     [unabl, access, hrtool, page, unabl, access, h...  \n",
      "4                          [skype, error, skype, error]  \n",
      "...                                                 ...  \n",
      "8495  [email, come, zz, mail, receiv, good, receiv, ...  \n",
      "8496   [telephonysoftwar, issu, telephonysoftwar, issu]  \n",
      "8497  [window, password, reset, tifpdchb, pedxruyf, ...  \n",
      "8498  [machin, est, funcionando, unabl, access, mach...  \n",
      "8499  [mehreren, pc, lassen, sich, verschieden, prgr...  \n",
      "\n",
      "[8500 rows x 2 columns]\n"
     ]
    }
   ],
   "source": [
    "from nltk.stem import PorterStemmer\n",
    "\n",
    "stemmer = PorterStemmer()\n",
    "\n",
    "def apply_stemming(tokens):\n",
    "    return [stemmer.stem(word) for word in tokens]\n",
    "\n",
    "df['Stems'] = df['Filtered_Word_Tokens'].apply(apply_stemming)\n",
    "\n",
    "print(df[['Filtered_Word_Tokens', 'Stems']])\n"
   ]
  },
  {
   "cell_type": "code",
   "execution_count": 73,
   "metadata": {
    "id": "oGOy9R_NpGhG"
   },
   "outputs": [],
   "source": [
    "X= df['Stems'].apply(lambda tokens: \" \".join(tokens))"
   ]
  },
  {
   "cell_type": "code",
   "execution_count": 74,
   "metadata": {
    "colab": {
     "base_uri": "https://localhost:8080/"
    },
    "id": "10ehp9wmKOvE",
    "outputId": "025fba7e-5256-466b-9dc1-2879874a41f4"
   },
   "outputs": [
    {
     "name": "stdout",
     "output_type": "stream",
     "text": [
      "TfidfVectorizer(max_df=0.5, max_features=100, stop_words='english')\n"
     ]
    },
    {
     "data": {
      "text/plain": [
       "<8500x100 sparse matrix of type '<class 'numpy.float64'>'\n",
       "\twith 39081 stored elements in Compressed Sparse Row format>"
      ]
     },
     "execution_count": 74,
     "metadata": {},
     "output_type": "execute_result"
    }
   ],
   "source": [
    "from sklearn.feature_extraction.text import TfidfVectorizer\n",
    "\n",
    "vectorizer = TfidfVectorizer(stop_words='english',\n",
    "max_features= 100, # keep top 100 terms\n",
    "max_df = 0.5,\n",
    "smooth_idf=True)\n",
    "\n",
    "print(vectorizer)\n",
    "transformed_vector = vectorizer.fit_transform(X)\n",
    "transformed_vector\n",
    "\n",
    "\n",
    "# The given code snippet initializes a TfidfVectorizer from the sklearn.feature_extraction.text module to convert a collection of text documents into a matrix of TF-IDF features. Here's what each part of the code snippet does:\n",
    "\n",
    "# TfidfVectorizer\n",
    "# TF-IDF:\n",
    "# TF-IDF stands for Term Frequency-Inverse Document Frequency. It is a statistical measure used to evaluate the importance of a term in a document relative to a collection of documents (corpus).\n",
    "# Term Frequency (TF): Measures how often a term appears in a document.\n",
    "# Inverse Document Frequency (IDF): Measures how often a term appears across the entire corpus. The more frequently a term appears, the lower its IDF value (i.e., it's less unique or distinctive).\n",
    "# Purpose of TfidfVectorizer:\n",
    "# Converts a collection of text documents into a TF-IDF matrix.\n",
    "# Each row represents a document, and each column represents a term.\n",
    "# The value at each cell is the TF-IDF score for that term in that document.\n",
    "# Parameters of TfidfVectorizer\n",
    "# stop_words='english':\n",
    "# Specifies that common English words (like \"and\", \"the\", \"is\", etc.) should be ignored (filtered out).\n",
    "# max_features=1000:\n",
    "# Limits the number of features (terms) to the top 1,000 by their TF-IDF scores. This helps reduce dimensionality and improves computational efficiency.\n",
    "# max_df=0.5:\n",
    "# If a term appears in more than 50% of the documents, it's considered too common and is ignored. This helps eliminate stop words or terms that are not useful for distinguishing between documents.\n",
    "# smooth_idf=True:\n",
    "# Adds a small constant to the IDF calculation to avoid division by zero and ensure the IDF value isn't zero. This smoothing helps prevent issues when a term doesn't appear in some documents.\n",
    "# fit_transform(X)\n",
    "# X:\n",
    "# This is your dataset, typically a list of text documents (strings).\n",
    "# fit_transform():\n",
    "# Fits the vectorizer to the dataset X (determines vocabulary and computes IDF).\n",
    "# Transforms the dataset into a TF-IDF matrix.\n",
    "# The output is a sparse matrix where each row represents a document and each column represents a term (from the top 1,000 terms based on TF-IDF scores).\n",
    "# Result\n",
    "# transformed_vector:\n",
    "# A TF-IDF matrix representing the term importance for each document.\n",
    "# This matrix can be used for further analysis, such as clustering, classification, or other natural language processing tasks."
   ]
  },
  {
   "cell_type": "code",
   "execution_count": 75,
   "metadata": {
    "colab": {
     "base_uri": "https://localhost:8080/",
     "height": 449
    },
    "id": "RdiFk6_s5Cqs",
    "outputId": "312ca5aa-b49c-4e79-d2b5-c2f4c075589b"
   },
   "outputs": [
    {
     "data": {
      "image/png": "[encoded data removed]",
      "text/plain": [
       "<Figure size 640x480 with 1 Axes>"
      ]
     },
     "metadata": {},
     "output_type": "display_data"
    }
   ],
   "source": [
    "from sklearn.decomposition import PCA\n",
    "from matplotlib import pyplot as plt\n",
    "%matplotlib inline\n",
    "\n",
    "\n",
    "pca = PCA(n_components=2)\n",
    "\n",
    "name_of_vector_array = transformed_vector.toarray()\n",
    "\n",
    "df2d = pd.DataFrame(pca.fit_transform(name_of_vector_array), columns=list('xy'))\n",
    "\n",
    "df2d.plot(kind='scatter', x='x', y='y')\n",
    "plt.show()\n"
   ]
  },
  {
   "cell_type": "code",
   "execution_count": 76,
   "metadata": {
    "colab": {
     "base_uri": "https://localhost:8080/",
     "height": 424
    },
    "id": "VQLOx69FKJpP",
    "outputId": "51462944-9325-4fcf-9026-5ee48557c621"
   },
   "outputs": [
    {
     "data": {
      "text/html": [
       "<div>\n",
       "<style scoped>\n",
       "    .dataframe tbody tr th:only-of-type {\n",
       "        vertical-align: middle;\n",
       "    }\n",
       "\n",
       "    .dataframe tbody tr th {\n",
       "        vertical-align: top;\n",
       "    }\n",
       "\n",
       "    .dataframe thead th {\n",
       "        text-align: right;\n",
       "    }\n",
       "</style>\n",
       "<table border=\"1\" class=\"dataframe\">\n",
       "  <thead>\n",
       "    <tr style=\"text-align: right;\">\n",
       "      <th></th>\n",
       "      <th>0</th>\n",
       "      <th>1</th>\n",
       "      <th>2</th>\n",
       "      <th>3</th>\n",
       "      <th>4</th>\n",
       "      <th>5</th>\n",
       "      <th>6</th>\n",
       "      <th>7</th>\n",
       "      <th>8</th>\n",
       "      <th>9</th>\n",
       "      <th>...</th>\n",
       "      <th>90</th>\n",
       "      <th>91</th>\n",
       "      <th>92</th>\n",
       "      <th>93</th>\n",
       "      <th>94</th>\n",
       "      <th>95</th>\n",
       "      <th>96</th>\n",
       "      <th>97</th>\n",
       "      <th>98</th>\n",
       "      <th>99</th>\n",
       "    </tr>\n",
       "  </thead>\n",
       "  <tbody>\n",
       "    <tr>\n",
       "      <th>0</th>\n",
       "      <td>0.0</td>\n",
       "      <td>0.248989</td>\n",
       "      <td>0.000000</td>\n",
       "      <td>0.0</td>\n",
       "      <td>0.0</td>\n",
       "      <td>0.0</td>\n",
       "      <td>0.0</td>\n",
       "      <td>0.000000</td>\n",
       "      <td>0.0</td>\n",
       "      <td>0.0</td>\n",
       "      <td>...</td>\n",
       "      <td>0.0</td>\n",
       "      <td>0.0</td>\n",
       "      <td>0.0</td>\n",
       "      <td>0.0</td>\n",
       "      <td>0.615503</td>\n",
       "      <td>0.000000</td>\n",
       "      <td>0.000000</td>\n",
       "      <td>0.0</td>\n",
       "      <td>0.0</td>\n",
       "      <td>0.0</td>\n",
       "    </tr>\n",
       "    <tr>\n",
       "      <th>1</th>\n",
       "      <td>0.0</td>\n",
       "      <td>0.000000</td>\n",
       "      <td>0.000000</td>\n",
       "      <td>0.0</td>\n",
       "      <td>0.0</td>\n",
       "      <td>0.0</td>\n",
       "      <td>0.0</td>\n",
       "      <td>0.000000</td>\n",
       "      <td>0.0</td>\n",
       "      <td>0.0</td>\n",
       "      <td>...</td>\n",
       "      <td>0.0</td>\n",
       "      <td>0.0</td>\n",
       "      <td>0.0</td>\n",
       "      <td>0.0</td>\n",
       "      <td>0.000000</td>\n",
       "      <td>0.000000</td>\n",
       "      <td>0.000000</td>\n",
       "      <td>0.0</td>\n",
       "      <td>0.0</td>\n",
       "      <td>0.0</td>\n",
       "    </tr>\n",
       "    <tr>\n",
       "      <th>2</th>\n",
       "      <td>0.0</td>\n",
       "      <td>0.000000</td>\n",
       "      <td>0.000000</td>\n",
       "      <td>0.0</td>\n",
       "      <td>0.0</td>\n",
       "      <td>0.0</td>\n",
       "      <td>0.0</td>\n",
       "      <td>0.389547</td>\n",
       "      <td>0.0</td>\n",
       "      <td>0.0</td>\n",
       "      <td>...</td>\n",
       "      <td>0.0</td>\n",
       "      <td>0.0</td>\n",
       "      <td>0.0</td>\n",
       "      <td>0.0</td>\n",
       "      <td>0.000000</td>\n",
       "      <td>0.414301</td>\n",
       "      <td>0.000000</td>\n",
       "      <td>0.0</td>\n",
       "      <td>0.0</td>\n",
       "      <td>0.0</td>\n",
       "    </tr>\n",
       "    <tr>\n",
       "      <th>3</th>\n",
       "      <td>0.0</td>\n",
       "      <td>0.000000</td>\n",
       "      <td>0.735676</td>\n",
       "      <td>0.0</td>\n",
       "      <td>0.0</td>\n",
       "      <td>0.0</td>\n",
       "      <td>0.0</td>\n",
       "      <td>0.000000</td>\n",
       "      <td>0.0</td>\n",
       "      <td>0.0</td>\n",
       "      <td>...</td>\n",
       "      <td>0.0</td>\n",
       "      <td>0.0</td>\n",
       "      <td>0.0</td>\n",
       "      <td>0.0</td>\n",
       "      <td>0.000000</td>\n",
       "      <td>0.000000</td>\n",
       "      <td>0.000000</td>\n",
       "      <td>0.0</td>\n",
       "      <td>0.0</td>\n",
       "      <td>0.0</td>\n",
       "    </tr>\n",
       "    <tr>\n",
       "      <th>4</th>\n",
       "      <td>0.0</td>\n",
       "      <td>0.000000</td>\n",
       "      <td>0.000000</td>\n",
       "      <td>0.0</td>\n",
       "      <td>0.0</td>\n",
       "      <td>0.0</td>\n",
       "      <td>0.0</td>\n",
       "      <td>0.000000</td>\n",
       "      <td>0.0</td>\n",
       "      <td>0.0</td>\n",
       "      <td>...</td>\n",
       "      <td>0.0</td>\n",
       "      <td>0.0</td>\n",
       "      <td>0.0</td>\n",
       "      <td>0.0</td>\n",
       "      <td>0.000000</td>\n",
       "      <td>0.000000</td>\n",
       "      <td>0.000000</td>\n",
       "      <td>0.0</td>\n",
       "      <td>0.0</td>\n",
       "      <td>0.0</td>\n",
       "    </tr>\n",
       "    <tr>\n",
       "      <th>...</th>\n",
       "      <td>...</td>\n",
       "      <td>...</td>\n",
       "      <td>...</td>\n",
       "      <td>...</td>\n",
       "      <td>...</td>\n",
       "      <td>...</td>\n",
       "      <td>...</td>\n",
       "      <td>...</td>\n",
       "      <td>...</td>\n",
       "      <td>...</td>\n",
       "      <td>...</td>\n",
       "      <td>...</td>\n",
       "      <td>...</td>\n",
       "      <td>...</td>\n",
       "      <td>...</td>\n",
       "      <td>...</td>\n",
       "      <td>...</td>\n",
       "      <td>...</td>\n",
       "      <td>...</td>\n",
       "      <td>...</td>\n",
       "      <td>...</td>\n",
       "    </tr>\n",
       "    <tr>\n",
       "      <th>8495</th>\n",
       "      <td>0.0</td>\n",
       "      <td>0.000000</td>\n",
       "      <td>0.000000</td>\n",
       "      <td>0.0</td>\n",
       "      <td>0.0</td>\n",
       "      <td>0.0</td>\n",
       "      <td>0.0</td>\n",
       "      <td>0.000000</td>\n",
       "      <td>0.0</td>\n",
       "      <td>0.0</td>\n",
       "      <td>...</td>\n",
       "      <td>0.0</td>\n",
       "      <td>0.0</td>\n",
       "      <td>0.0</td>\n",
       "      <td>0.0</td>\n",
       "      <td>0.000000</td>\n",
       "      <td>0.000000</td>\n",
       "      <td>0.000000</td>\n",
       "      <td>0.0</td>\n",
       "      <td>0.0</td>\n",
       "      <td>0.0</td>\n",
       "    </tr>\n",
       "    <tr>\n",
       "      <th>8496</th>\n",
       "      <td>0.0</td>\n",
       "      <td>0.000000</td>\n",
       "      <td>0.000000</td>\n",
       "      <td>0.0</td>\n",
       "      <td>0.0</td>\n",
       "      <td>0.0</td>\n",
       "      <td>0.0</td>\n",
       "      <td>0.000000</td>\n",
       "      <td>0.0</td>\n",
       "      <td>0.0</td>\n",
       "      <td>...</td>\n",
       "      <td>0.0</td>\n",
       "      <td>0.0</td>\n",
       "      <td>0.0</td>\n",
       "      <td>0.0</td>\n",
       "      <td>0.000000</td>\n",
       "      <td>0.000000</td>\n",
       "      <td>0.000000</td>\n",
       "      <td>0.0</td>\n",
       "      <td>0.0</td>\n",
       "      <td>0.0</td>\n",
       "    </tr>\n",
       "    <tr>\n",
       "      <th>8497</th>\n",
       "      <td>0.0</td>\n",
       "      <td>0.000000</td>\n",
       "      <td>0.000000</td>\n",
       "      <td>0.0</td>\n",
       "      <td>0.0</td>\n",
       "      <td>0.0</td>\n",
       "      <td>0.0</td>\n",
       "      <td>0.000000</td>\n",
       "      <td>0.0</td>\n",
       "      <td>0.0</td>\n",
       "      <td>...</td>\n",
       "      <td>0.0</td>\n",
       "      <td>0.0</td>\n",
       "      <td>0.0</td>\n",
       "      <td>0.0</td>\n",
       "      <td>0.000000</td>\n",
       "      <td>0.000000</td>\n",
       "      <td>0.689813</td>\n",
       "      <td>0.0</td>\n",
       "      <td>0.0</td>\n",
       "      <td>0.0</td>\n",
       "    </tr>\n",
       "    <tr>\n",
       "      <th>8498</th>\n",
       "      <td>0.0</td>\n",
       "      <td>0.000000</td>\n",
       "      <td>0.552360</td>\n",
       "      <td>0.0</td>\n",
       "      <td>0.0</td>\n",
       "      <td>0.0</td>\n",
       "      <td>0.0</td>\n",
       "      <td>0.000000</td>\n",
       "      <td>0.0</td>\n",
       "      <td>0.0</td>\n",
       "      <td>...</td>\n",
       "      <td>0.0</td>\n",
       "      <td>0.0</td>\n",
       "      <td>0.0</td>\n",
       "      <td>0.0</td>\n",
       "      <td>0.000000</td>\n",
       "      <td>0.000000</td>\n",
       "      <td>0.000000</td>\n",
       "      <td>0.0</td>\n",
       "      <td>0.0</td>\n",
       "      <td>0.0</td>\n",
       "    </tr>\n",
       "    <tr>\n",
       "      <th>8499</th>\n",
       "      <td>0.0</td>\n",
       "      <td>0.000000</td>\n",
       "      <td>0.000000</td>\n",
       "      <td>0.0</td>\n",
       "      <td>0.0</td>\n",
       "      <td>0.0</td>\n",
       "      <td>0.0</td>\n",
       "      <td>0.000000</td>\n",
       "      <td>0.0</td>\n",
       "      <td>0.0</td>\n",
       "      <td>...</td>\n",
       "      <td>0.0</td>\n",
       "      <td>0.0</td>\n",
       "      <td>0.0</td>\n",
       "      <td>0.0</td>\n",
       "      <td>0.000000</td>\n",
       "      <td>0.000000</td>\n",
       "      <td>0.000000</td>\n",
       "      <td>0.0</td>\n",
       "      <td>0.0</td>\n",
       "      <td>0.0</td>\n",
       "    </tr>\n",
       "  </tbody>\n",
       "</table>\n",
       "<p>8500 rows × 100 columns</p>\n",
       "</div>"
      ],
      "text/plain": [
       "       0         1         2    3    4    5    6         7    8    9   ...  \\\n",
       "0     0.0  0.248989  0.000000  0.0  0.0  0.0  0.0  0.000000  0.0  0.0  ...   \n",
       "1     0.0  0.000000  0.000000  0.0  0.0  0.0  0.0  0.000000  0.0  0.0  ...   \n",
       "2     0.0  0.000000  0.000000  0.0  0.0  0.0  0.0  0.389547  0.0  0.0  ...   \n",
       "3     0.0  0.000000  0.735676  0.0  0.0  0.0  0.0  0.000000  0.0  0.0  ...   \n",
       "4     0.0  0.000000  0.000000  0.0  0.0  0.0  0.0  0.000000  0.0  0.0  ...   \n",
       "...   ...       ...       ...  ...  ...  ...  ...       ...  ...  ...  ...   \n",
       "8495  0.0  0.000000  0.000000  0.0  0.0  0.0  0.0  0.000000  0.0  0.0  ...   \n",
       "8496  0.0  0.000000  0.000000  0.0  0.0  0.0  0.0  0.000000  0.0  0.0  ...   \n",
       "8497  0.0  0.000000  0.000000  0.0  0.0  0.0  0.0  0.000000  0.0  0.0  ...   \n",
       "8498  0.0  0.000000  0.552360  0.0  0.0  0.0  0.0  0.000000  0.0  0.0  ...   \n",
       "8499  0.0  0.000000  0.000000  0.0  0.0  0.0  0.0  0.000000  0.0  0.0  ...   \n",
       "\n",
       "       90   91   92   93        94        95        96   97   98   99  \n",
       "0     0.0  0.0  0.0  0.0  0.615503  0.000000  0.000000  0.0  0.0  0.0  \n",
       "1     0.0  0.0  0.0  0.0  0.000000  0.000000  0.000000  0.0  0.0  0.0  \n",
       "2     0.0  0.0  0.0  0.0  0.000000  0.414301  0.000000  0.0  0.0  0.0  \n",
       "3     0.0  0.0  0.0  0.0  0.000000  0.000000  0.000000  0.0  0.0  0.0  \n",
       "4     0.0  0.0  0.0  0.0  0.000000  0.000000  0.000000  0.0  0.0  0.0  \n",
       "...   ...  ...  ...  ...       ...       ...       ...  ...  ...  ...  \n",
       "8495  0.0  0.0  0.0  0.0  0.000000  0.000000  0.000000  0.0  0.0  0.0  \n",
       "8496  0.0  0.0  0.0  0.0  0.000000  0.000000  0.000000  0.0  0.0  0.0  \n",
       "8497  0.0  0.0  0.0  0.0  0.000000  0.000000  0.689813  0.0  0.0  0.0  \n",
       "8498  0.0  0.0  0.0  0.0  0.000000  0.000000  0.000000  0.0  0.0  0.0  \n",
       "8499  0.0  0.0  0.0  0.0  0.000000  0.000000  0.000000  0.0  0.0  0.0  \n",
       "\n",
       "[8500 rows x 100 columns]"
      ]
     },
     "execution_count": 76,
     "metadata": {},
     "output_type": "execute_result"
    }
   ],
   "source": [
    "pd.DataFrame(transformed_vector.toarray())"
   ]
  },
  {
   "cell_type": "code",
   "execution_count": 77,
   "metadata": {
    "colab": {
     "base_uri": "https://localhost:8080/",
     "height": 461
    },
    "id": "wrP1FHUPKWka",
    "outputId": "9b1618b3-596a-4aba-9e07-f368159e6b1a"
   },
   "outputs": [
    {
     "name": "stdout",
     "output_type": "stream",
     "text": [
      "LSA shape: (8500, 20)\n"
     ]
    },
    {
     "data": {
      "text/html": [
       "<div>\n",
       "<style scoped>\n",
       "    .dataframe tbody tr th:only-of-type {\n",
       "        vertical-align: middle;\n",
       "    }\n",
       "\n",
       "    .dataframe tbody tr th {\n",
       "        vertical-align: top;\n",
       "    }\n",
       "\n",
       "    .dataframe thead th {\n",
       "        text-align: right;\n",
       "    }\n",
       "</style>\n",
       "<table border=\"1\" class=\"dataframe\">\n",
       "  <thead>\n",
       "    <tr style=\"text-align: right;\">\n",
       "      <th></th>\n",
       "      <th>0</th>\n",
       "      <th>1</th>\n",
       "      <th>2</th>\n",
       "      <th>3</th>\n",
       "      <th>4</th>\n",
       "      <th>5</th>\n",
       "      <th>6</th>\n",
       "      <th>7</th>\n",
       "      <th>8</th>\n",
       "      <th>9</th>\n",
       "      <th>10</th>\n",
       "      <th>11</th>\n",
       "      <th>12</th>\n",
       "      <th>13</th>\n",
       "      <th>14</th>\n",
       "      <th>15</th>\n",
       "      <th>16</th>\n",
       "      <th>17</th>\n",
       "      <th>18</th>\n",
       "      <th>19</th>\n",
       "    </tr>\n",
       "  </thead>\n",
       "  <tbody>\n",
       "    <tr>\n",
       "      <th>0</th>\n",
       "      <td>0.021856</td>\n",
       "      <td>0.349781</td>\n",
       "      <td>-0.206571</td>\n",
       "      <td>-0.107575</td>\n",
       "      <td>-0.045519</td>\n",
       "      <td>-0.099434</td>\n",
       "      <td>-0.054185</td>\n",
       "      <td>-0.072251</td>\n",
       "      <td>0.688960</td>\n",
       "      <td>-0.100205</td>\n",
       "      <td>0.101011</td>\n",
       "      <td>0.156028</td>\n",
       "      <td>0.200174</td>\n",
       "      <td>-0.206770</td>\n",
       "      <td>-0.010908</td>\n",
       "      <td>-0.107301</td>\n",
       "      <td>-0.006937</td>\n",
       "      <td>-0.038815</td>\n",
       "      <td>-0.046987</td>\n",
       "      <td>0.022310</td>\n",
       "    </tr>\n",
       "    <tr>\n",
       "      <th>1</th>\n",
       "      <td>0.070841</td>\n",
       "      <td>0.166049</td>\n",
       "      <td>-0.260734</td>\n",
       "      <td>-0.151349</td>\n",
       "      <td>0.061875</td>\n",
       "      <td>0.060214</td>\n",
       "      <td>-0.445823</td>\n",
       "      <td>0.397661</td>\n",
       "      <td>-0.258046</td>\n",
       "      <td>-0.243222</td>\n",
       "      <td>-0.110404</td>\n",
       "      <td>0.118694</td>\n",
       "      <td>-0.119890</td>\n",
       "      <td>-0.133546</td>\n",
       "      <td>-0.030510</td>\n",
       "      <td>0.002906</td>\n",
       "      <td>-0.017248</td>\n",
       "      <td>-0.216024</td>\n",
       "      <td>0.153543</td>\n",
       "      <td>0.002276</td>\n",
       "    </tr>\n",
       "    <tr>\n",
       "      <th>2</th>\n",
       "      <td>0.059565</td>\n",
       "      <td>0.104943</td>\n",
       "      <td>-0.136201</td>\n",
       "      <td>-0.050373</td>\n",
       "      <td>0.000069</td>\n",
       "      <td>-0.040233</td>\n",
       "      <td>0.049330</td>\n",
       "      <td>-0.028135</td>\n",
       "      <td>-0.080798</td>\n",
       "      <td>0.055226</td>\n",
       "      <td>0.103679</td>\n",
       "      <td>-0.072142</td>\n",
       "      <td>-0.002853</td>\n",
       "      <td>0.024067</td>\n",
       "      <td>0.028336</td>\n",
       "      <td>0.153857</td>\n",
       "      <td>-0.100311</td>\n",
       "      <td>-0.062021</td>\n",
       "      <td>0.223623</td>\n",
       "      <td>-0.065992</td>\n",
       "    </tr>\n",
       "    <tr>\n",
       "      <th>3</th>\n",
       "      <td>0.017173</td>\n",
       "      <td>0.187354</td>\n",
       "      <td>-0.357116</td>\n",
       "      <td>-0.193096</td>\n",
       "      <td>0.424277</td>\n",
       "      <td>-0.013725</td>\n",
       "      <td>0.110748</td>\n",
       "      <td>-0.468956</td>\n",
       "      <td>-0.209888</td>\n",
       "      <td>-0.152020</td>\n",
       "      <td>-0.294567</td>\n",
       "      <td>-0.033546</td>\n",
       "      <td>0.203181</td>\n",
       "      <td>0.266886</td>\n",
       "      <td>0.069971</td>\n",
       "      <td>-0.109128</td>\n",
       "      <td>-0.097428</td>\n",
       "      <td>-0.073400</td>\n",
       "      <td>-0.130389</td>\n",
       "      <td>0.091679</td>\n",
       "    </tr>\n",
       "    <tr>\n",
       "      <th>4</th>\n",
       "      <td>0.012735</td>\n",
       "      <td>0.088615</td>\n",
       "      <td>-0.173958</td>\n",
       "      <td>-0.075325</td>\n",
       "      <td>0.058038</td>\n",
       "      <td>-0.063776</td>\n",
       "      <td>0.043702</td>\n",
       "      <td>0.084027</td>\n",
       "      <td>0.070649</td>\n",
       "      <td>0.168339</td>\n",
       "      <td>0.126410</td>\n",
       "      <td>-0.216385</td>\n",
       "      <td>-0.113762</td>\n",
       "      <td>0.085759</td>\n",
       "      <td>0.464276</td>\n",
       "      <td>-0.316086</td>\n",
       "      <td>0.166588</td>\n",
       "      <td>0.172449</td>\n",
       "      <td>0.466515</td>\n",
       "      <td>-0.290428</td>\n",
       "    </tr>\n",
       "    <tr>\n",
       "      <th>...</th>\n",
       "      <td>...</td>\n",
       "      <td>...</td>\n",
       "      <td>...</td>\n",
       "      <td>...</td>\n",
       "      <td>...</td>\n",
       "      <td>...</td>\n",
       "      <td>...</td>\n",
       "      <td>...</td>\n",
       "      <td>...</td>\n",
       "      <td>...</td>\n",
       "      <td>...</td>\n",
       "      <td>...</td>\n",
       "      <td>...</td>\n",
       "      <td>...</td>\n",
       "      <td>...</td>\n",
       "      <td>...</td>\n",
       "      <td>...</td>\n",
       "      <td>...</td>\n",
       "      <td>...</td>\n",
       "      <td>...</td>\n",
       "    </tr>\n",
       "    <tr>\n",
       "      <th>8495</th>\n",
       "      <td>0.117235</td>\n",
       "      <td>0.164647</td>\n",
       "      <td>-0.223390</td>\n",
       "      <td>-0.079174</td>\n",
       "      <td>-0.178725</td>\n",
       "      <td>-0.011987</td>\n",
       "      <td>-0.141334</td>\n",
       "      <td>-0.084104</td>\n",
       "      <td>-0.210799</td>\n",
       "      <td>-0.110228</td>\n",
       "      <td>0.119164</td>\n",
       "      <td>0.030689</td>\n",
       "      <td>-0.263906</td>\n",
       "      <td>-0.144672</td>\n",
       "      <td>-0.273210</td>\n",
       "      <td>-0.128053</td>\n",
       "      <td>-0.424365</td>\n",
       "      <td>0.340462</td>\n",
       "      <td>-0.037567</td>\n",
       "      <td>-0.238233</td>\n",
       "    </tr>\n",
       "    <tr>\n",
       "      <th>8496</th>\n",
       "      <td>0.012350</td>\n",
       "      <td>0.135186</td>\n",
       "      <td>-0.250365</td>\n",
       "      <td>-0.082682</td>\n",
       "      <td>-0.132625</td>\n",
       "      <td>-0.098462</td>\n",
       "      <td>-0.122772</td>\n",
       "      <td>0.213591</td>\n",
       "      <td>0.584986</td>\n",
       "      <td>-0.057938</td>\n",
       "      <td>0.088329</td>\n",
       "      <td>0.082285</td>\n",
       "      <td>-0.034279</td>\n",
       "      <td>0.605462</td>\n",
       "      <td>-0.156871</td>\n",
       "      <td>0.047107</td>\n",
       "      <td>-0.077451</td>\n",
       "      <td>0.032534</td>\n",
       "      <td>-0.120301</td>\n",
       "      <td>0.071848</td>\n",
       "    </tr>\n",
       "    <tr>\n",
       "      <th>8497</th>\n",
       "      <td>0.019214</td>\n",
       "      <td>0.563201</td>\n",
       "      <td>0.451779</td>\n",
       "      <td>-0.092073</td>\n",
       "      <td>0.053080</td>\n",
       "      <td>0.072438</td>\n",
       "      <td>-0.157777</td>\n",
       "      <td>-0.079995</td>\n",
       "      <td>0.020440</td>\n",
       "      <td>0.062959</td>\n",
       "      <td>0.044246</td>\n",
       "      <td>-0.044190</td>\n",
       "      <td>0.004877</td>\n",
       "      <td>0.062531</td>\n",
       "      <td>0.056703</td>\n",
       "      <td>0.027226</td>\n",
       "      <td>-0.009749</td>\n",
       "      <td>0.035030</td>\n",
       "      <td>-0.065391</td>\n",
       "      <td>0.014062</td>\n",
       "    </tr>\n",
       "    <tr>\n",
       "      <th>8498</th>\n",
       "      <td>0.014278</td>\n",
       "      <td>0.154892</td>\n",
       "      <td>-0.293084</td>\n",
       "      <td>-0.155036</td>\n",
       "      <td>0.316606</td>\n",
       "      <td>-0.005567</td>\n",
       "      <td>0.089243</td>\n",
       "      <td>-0.368119</td>\n",
       "      <td>-0.171940</td>\n",
       "      <td>-0.054597</td>\n",
       "      <td>-0.231814</td>\n",
       "      <td>0.045221</td>\n",
       "      <td>0.175257</td>\n",
       "      <td>0.212917</td>\n",
       "      <td>0.056579</td>\n",
       "      <td>-0.033427</td>\n",
       "      <td>-0.063204</td>\n",
       "      <td>-0.049501</td>\n",
       "      <td>-0.094603</td>\n",
       "      <td>0.061808</td>\n",
       "    </tr>\n",
       "    <tr>\n",
       "      <th>8499</th>\n",
       "      <td>0.003569</td>\n",
       "      <td>0.028721</td>\n",
       "      <td>-0.047920</td>\n",
       "      <td>-0.007221</td>\n",
       "      <td>-0.029582</td>\n",
       "      <td>-0.006804</td>\n",
       "      <td>-0.007212</td>\n",
       "      <td>0.035739</td>\n",
       "      <td>-0.085610</td>\n",
       "      <td>-0.005208</td>\n",
       "      <td>0.178740</td>\n",
       "      <td>0.014814</td>\n",
       "      <td>0.196228</td>\n",
       "      <td>-0.027208</td>\n",
       "      <td>-0.030553</td>\n",
       "      <td>-0.000539</td>\n",
       "      <td>0.022219</td>\n",
       "      <td>0.425932</td>\n",
       "      <td>0.249558</td>\n",
       "      <td>0.629304</td>\n",
       "    </tr>\n",
       "  </tbody>\n",
       "</table>\n",
       "<p>8500 rows × 20 columns</p>\n",
       "</div>"
      ],
      "text/plain": [
       "            0         1         2         3         4         5         6   \\\n",
       "0     0.021856  0.349781 -0.206571 -0.107575 -0.045519 -0.099434 -0.054185   \n",
       "1     0.070841  0.166049 -0.260734 -0.151349  0.061875  0.060214 -0.445823   \n",
       "2     0.059565  0.104943 -0.136201 -0.050373  0.000069 -0.040233  0.049330   \n",
       "3     0.017173  0.187354 -0.357116 -0.193096  0.424277 -0.013725  0.110748   \n",
       "4     0.012735  0.088615 -0.173958 -0.075325  0.058038 -0.063776  0.043702   \n",
       "...        ...       ...       ...       ...       ...       ...       ...   \n",
       "8495  0.117235  0.164647 -0.223390 -0.079174 -0.178725 -0.011987 -0.141334   \n",
       "8496  0.012350  0.135186 -0.250365 -0.082682 -0.132625 -0.098462 -0.122772   \n",
       "8497  0.019214  0.563201  0.451779 -0.092073  0.053080  0.072438 -0.157777   \n",
       "8498  0.014278  0.154892 -0.293084 -0.155036  0.316606 -0.005567  0.089243   \n",
       "8499  0.003569  0.028721 -0.047920 -0.007221 -0.029582 -0.006804 -0.007212   \n",
       "\n",
       "            7         8         9         10        11        12        13  \\\n",
       "0    -0.072251  0.688960 -0.100205  0.101011  0.156028  0.200174 -0.206770   \n",
       "1     0.397661 -0.258046 -0.243222 -0.110404  0.118694 -0.119890 -0.133546   \n",
       "2    -0.028135 -0.080798  0.055226  0.103679 -0.072142 -0.002853  0.024067   \n",
       "3    -0.468956 -0.209888 -0.152020 -0.294567 -0.033546  0.203181  0.266886   \n",
       "4     0.084027  0.070649  0.168339  0.126410 -0.216385 -0.113762  0.085759   \n",
       "...        ...       ...       ...       ...       ...       ...       ...   \n",
       "8495 -0.084104 -0.210799 -0.110228  0.119164  0.030689 -0.263906 -0.144672   \n",
       "8496  0.213591  0.584986 -0.057938  0.088329  0.082285 -0.034279  0.605462   \n",
       "8497 -0.079995  0.020440  0.062959  0.044246 -0.044190  0.004877  0.062531   \n",
       "8498 -0.368119 -0.171940 -0.054597 -0.231814  0.045221  0.175257  0.212917   \n",
       "8499  0.035739 -0.085610 -0.005208  0.178740  0.014814  0.196228 -0.027208   \n",
       "\n",
       "            14        15        16        17        18        19  \n",
       "0    -0.010908 -0.107301 -0.006937 -0.038815 -0.046987  0.022310  \n",
       "1    -0.030510  0.002906 -0.017248 -0.216024  0.153543  0.002276  \n",
       "2     0.028336  0.153857 -0.100311 -0.062021  0.223623 -0.065992  \n",
       "3     0.069971 -0.109128 -0.097428 -0.073400 -0.130389  0.091679  \n",
       "4     0.464276 -0.316086  0.166588  0.172449  0.466515 -0.290428  \n",
       "...        ...       ...       ...       ...       ...       ...  \n",
       "8495 -0.273210 -0.128053 -0.424365  0.340462 -0.037567 -0.238233  \n",
       "8496 -0.156871  0.047107 -0.077451  0.032534 -0.120301  0.071848  \n",
       "8497  0.056703  0.027226 -0.009749  0.035030 -0.065391  0.014062  \n",
       "8498  0.056579 -0.033427 -0.063204 -0.049501 -0.094603  0.061808  \n",
       "8499 -0.030553 -0.000539  0.022219  0.425932  0.249558  0.629304  \n",
       "\n",
       "[8500 rows x 20 columns]"
      ]
     },
     "execution_count": 77,
     "metadata": {},
     "output_type": "execute_result"
    }
   ],
   "source": [
    "from sklearn.decomposition import TruncatedSVD\n",
    "\n",
    "# SVD represent documents and terms in vectors\n",
    "svd_model = TruncatedSVD(n_components=20, algorithm='randomized', n_iter=10, random_state=122)\n",
    "\n",
    "Y = svd_model.fit_transform(transformed_vector)\n",
    "print('LSA shape:', Y.shape)\n",
    "pd.DataFrame(Y)\n",
    "\n",
    "# The code snippet is performing Latent Semantic Analysis (LSA) using Singular Value Decomposition (SVD) on a TF-IDF matrix. Here's what each part of the code does:\n",
    "\n",
    "# TruncatedSVD\n",
    "# SVD (Singular Value Decomposition):\n",
    "# A linear algebra technique used to decompose a matrix into three other matrices, revealing the intrinsic geometric structure of the original matrix.\n",
    "# Commonly used for dimensionality reduction, noise reduction, and finding latent patterns in data.\n",
    "# Truncated SVD:\n",
    "# A variant of SVD that only retains a specified number of the largest singular values, leading to reduced dimensionality.\n",
    "# Maintains dense outputs without centering data like in PCA (Principal Component Analysis).\n",
    "# Creating an SVD Model\n",
    "# TruncatedSVD(n_components=20, algorithm='randomized', n_iter=100, random_state=122):\n",
    "# n_components=20: Specifies the number of components to keep. This indicates that the resulting vectors will have 20 dimensions, representing a reduced form of the original data.\n",
    "# algorithm='randomized': Uses a randomized algorithm to approximate SVD, generally faster for large datasets.\n",
    "# n_iter=100: Number of iterations for convergence. A higher number increases accuracy but also computation time.\n",
    "# random_state=122: Sets a seed for reproducibility of results.\n",
    "# Applying the SVD Model\n",
    "# fit_transform(transformed_vector):\n",
    "# This method fits the SVD model to the TF-IDF matrix transformed_vector and transforms it into the reduced dimensionality representation.\n",
    "# The result is a new matrix Y, where each row represents a document and each column represents a component derived from SVD.\n",
    "# Results\n",
    "# Y.shape:\n",
    "# This property gives the shape of the transformed data. It should indicate the number of documents (rows) and the number of retained components (20 columns in this case).\n",
    "# Explanation\n",
    "# The purpose of this code snippet is to reduce the dimensionality of the original TF-IDF matrix, typically used for text-based data, while retaining as much of the meaningful structure as possible. This reduction helps with tasks like clustering, classification, or visualization, making computations more efficient and patterns in the data easier to detect.\n",
    "\n",
    "# With the TruncatedSVD model, the fit_transform() step creates a new matrix where the rows are documents represented in a lower-dimensional space. Each column represents a component derived from the SVD process. This approach is commonly used in Natural Language Processing (NLP) and information retrieval to discover latent structures in a collection of text documents."
   ]
  },
  {
   "cell_type": "code",
   "execution_count": 78,
   "metadata": {
    "colab": {
     "base_uri": "https://localhost:8080/"
    },
    "id": "kTkaUwwo5Ili",
    "outputId": "3f5d67e8-691c-4af2-f4b5-9a007784e02c"
   },
   "outputs": [
    {
     "name": "stdout",
     "output_type": "stream",
     "text": [
      "Sum of explained variance ratio: 52%\n"
     ]
    }
   ],
   "source": [
    "#Higher explained variance indicates that the components represent the data's intrinsic structure more accurately\n",
    "explained_variance = svd_model.explained_variance_ratio_.sum()\n",
    "print(\"Sum of explained variance ratio: %d%%\" % (int(explained_variance * 100)))\n"
   ]
  },
  {
   "cell_type": "code",
   "execution_count": null,
   "metadata": {},
   "outputs": [],
   "source": []
  },
  {
   "cell_type": "code",
   "execution_count": null,
   "metadata": {},
   "outputs": [],
   "source": []
  },
  {
   "cell_type": "code",
   "execution_count": null,
   "metadata": {},
   "outputs": [],
   "source": []
  },
  {
   "cell_type": "code",
   "execution_count": null,
   "metadata": {
    "colab": {
     "base_uri": "https://localhost:8080/",
     "height": 444
    },
    "id": "0m2EUxyK0VMB",
    "outputId": "d8f61181-6cc7-40ca-d2b5-13f21954a909"
   },
   "outputs": [],
   "source": []
  },
  {
   "cell_type": "code",
   "execution_count": null,
   "metadata": {
    "colab": {
     "base_uri": "https://localhost:8080/"
    },
    "id": "GQP-3fxC6NCd",
    "outputId": "2dd84013-a6f3-4555-8f2e-e08d3c5b35ac"
   },
   "outputs": [],
   "source": []
  },
  {
   "cell_type": "code",
   "execution_count": null,
   "metadata": {
    "colab": {
     "base_uri": "https://localhost:8080/"
    },
    "id": "qMhRMO8I9aYs",
    "outputId": "18358685-c2cf-4221-f542-1d34e39de675"
   },
   "outputs": [],
   "source": []
  },
  {
   "cell_type": "code",
   "execution_count": null,
   "metadata": {
    "colab": {
     "base_uri": "https://localhost:8080/"
    },
    "id": "kQRawembbFTo",
    "outputId": "d585fd7c-b44c-48bf-b492-cb2fdb6ab023"
   },
   "outputs": [],
   "source": []
  },
  {
   "cell_type": "code",
   "execution_count": null,
   "metadata": {
    "colab": {
     "base_uri": "https://localhost:8080/",
     "height": 211
    },
    "id": "r9XSWznBWFH-",
    "outputId": "eb1054ef-6178-4da0-a0a2-74a01ee9f5b6"
   },
   "outputs": [],
   "source": []
  },
  {
   "cell_type": "code",
   "execution_count": 79,
   "metadata": {
    "colab": {
     "base_uri": "https://localhost:8080/"
    },
    "id": "keWWVb72bZRM",
    "outputId": "dd366a9c-4832-4763-b02a-ae225e1e4ab0"
   },
   "outputs": [
    {
     "name": "stdout",
     "output_type": "stream",
     "text": [
      "Requirement already satisfied: wordcloud in /home/akshirsagar/anaconda3/lib/python3.11/site-packages (1.9.3)\n",
      "Requirement already satisfied: matplotlib in /home/akshirsagar/anaconda3/lib/python3.11/site-packages (3.7.2)\n",
      "Requirement already satisfied: numpy>=1.6.1 in /home/akshirsagar/anaconda3/lib/python3.11/site-packages (from wordcloud) (1.24.3)\n",
      "Requirement already satisfied: pillow in /home/akshirsagar/anaconda3/lib/python3.11/site-packages (from wordcloud) (10.2.0)\n",
      "Requirement already satisfied: contourpy>=1.0.1 in /home/akshirsagar/anaconda3/lib/python3.11/site-packages (from matplotlib) (1.0.5)\n",
      "Requirement already satisfied: cycler>=0.10 in /home/akshirsagar/anaconda3/lib/python3.11/site-packages (from matplotlib) (0.11.0)\n",
      "Requirement already satisfied: fonttools>=4.22.0 in /home/akshirsagar/anaconda3/lib/python3.11/site-packages (from matplotlib) (4.25.0)\n",
      "Requirement already satisfied: kiwisolver>=1.0.1 in /home/akshirsagar/anaconda3/lib/python3.11/site-packages (from matplotlib) (1.4.4)\n",
      "Requirement already satisfied: packaging>=20.0 in /home/akshirsagar/anaconda3/lib/python3.11/site-packages (from matplotlib) (23.1)\n",
      "Requirement already satisfied: pyparsing<3.1,>=2.3.1 in /home/akshirsagar/anaconda3/lib/python3.11/site-packages (from matplotlib) (3.0.9)\n",
      "Requirement already satisfied: python-dateutil>=2.7 in /home/akshirsagar/anaconda3/lib/python3.11/site-packages (from matplotlib) (2.8.2)\n",
      "Requirement already satisfied: six>=1.5 in /home/akshirsagar/anaconda3/lib/python3.11/site-packages (from python-dateutil>=2.7->matplotlib) (1.16.0)\n"
     ]
    }
   ],
   "source": [
    "!pip install wordcloud matplotlib\n"
   ]
  },
  {
   "cell_type": "code",
   "execution_count": 80,
   "metadata": {
    "colab": {
     "base_uri": "https://localhost:8080/"
    },
    "id": "zCtNuse4d6at",
    "outputId": "57d625a0-0ad0-4135-c759-71f5a7660917"
   },
   "outputs": [
    {
     "data": {
      "text/plain": [
       "Index(['Short description', 'Description', 'Assignment group',\n",
       "       'merged_description', 'Cleaned_Text', 'Cleaned_Tokens',\n",
       "       'Filtered_Word_Tokens', 'Stems'],\n",
       "      dtype='object')"
      ]
     },
     "execution_count": 80,
     "metadata": {},
     "output_type": "execute_result"
    }
   ],
   "source": [
    "df.columns"
   ]
  },
  {
   "cell_type": "code",
   "execution_count": 81,
   "metadata": {
    "colab": {
     "base_uri": "https://localhost:8080/",
     "height": 422
    },
    "id": "i_pZfe-Wc7aT",
    "outputId": "2d306c71-2aba-47f9-c20e-ae130eaf05df"
   },
   "outputs": [
    {
     "data": {
      "image/png": "[encoded data removed]",
      "text/plain": [
       "<Figure size 1000x500 with 1 Axes>"
      ]
     },
     "metadata": {},
     "output_type": "display_data"
    }
   ],
   "source": [
    "from wordcloud import WordCloud\n",
    "# Create the WordCloud object with custom settings\n",
    "wordcloud = WordCloud(\n",
    "    width=800,  # Set width of the word cloud\n",
    "    height=400,  # Set height of the word cloud\n",
    "    background_color='white',  # Set background color\n",
    "    colormap='viridis',  # Set color map for the word cloud\n",
    "    max_words=50  # Set the maximum number of words to display\n",
    ").generate(\" \".join(df['Cleaned_Text']))\n",
    "\n",
    "# Display the word cloud\n",
    "plt.figure(figsize=(10, 5))  # Set figure size\n",
    "plt.imshow(wordcloud, interpolation='bilinear')  # Display the word cloud\n",
    "plt.axis(\"off\")  # Hide axes\n",
    "plt.show()  # Show the plot\n"
   ]
  },
  {
   "cell_type": "code",
   "execution_count": 82,
   "metadata": {
    "colab": {
     "base_uri": "https://localhost:8080/"
    },
    "id": "kUS0JaIUz40s",
    "outputId": "242f699f-62ce-41f3-fd87-e1307fc47213"
   },
   "outputs": [
    {
     "data": {
      "text/plain": [
       "Assignment group\n",
       "GRP_0     3976\n",
       "GRP_8      661\n",
       "GRP_24     289\n",
       "GRP_12     257\n",
       "GRP_9      252\n",
       "          ... \n",
       "GRP_64       1\n",
       "GRP_67       1\n",
       "GRP_35       1\n",
       "GRP_70       1\n",
       "GRP_73       1\n",
       "Name: count, Length: 74, dtype: int64"
      ]
     },
     "execution_count": 82,
     "metadata": {},
     "output_type": "execute_result"
    }
   ],
   "source": [
    "group_counts = df['Assignment group'].value_counts()\n",
    "group_counts"
   ]
  },
  {
   "cell_type": "code",
   "execution_count": 83,
   "metadata": {
    "colab": {
     "base_uri": "https://localhost:8080/",
     "height": 508
    },
    "id": "QYTUeDIKGfvo",
    "outputId": "7a511843-00c1-4f1d-b7c9-f78b229861f7"
   },
   "outputs": [
    {
     "name": "stderr",
     "output_type": "stream",
     "text": [
      "/home/akshirsagar/anaconda3/lib/python3.11/site-packages/seaborn/_oldcore.py:1119: FutureWarning: use_inf_as_na option is deprecated and will be removed in a future version. Convert inf values to NaN before operating instead.\n",
      "  with pd.option_context('mode.use_inf_as_na', True):\n"
     ]
    },
    {
     "data": {
      "image/png": "[encoded data removed]",
      "text/plain": [
       "<Figure size 1400x500 with 1 Axes>"
      ]
     },
     "metadata": {},
     "output_type": "display_data"
    }
   ],
   "source": [
    "#This is multiclass classification, let's visualize it.\n",
    "plt.figure(figsize=(14, 5))\n",
    "sns.histplot(df['Assignment group'], kde=True)\n",
    "plt.title('Histogram of Assignment group')\n",
    "plt.xticks(rotation=45, fontsize=7)\n",
    "plt.ylabel('Frequency')\n",
    "plt.show()"
   ]
  },
  {
   "cell_type": "code",
   "execution_count": 84,
   "metadata": {
    "colab": {
     "base_uri": "https://localhost:8080/",
     "height": 440
    },
    "id": "dOfCPtIL_a0T",
    "outputId": "e6f8d925-26f2-48ed-bb7e-52cbafbdc5a6"
   },
   "outputs": [
    {
     "data": {
      "image/png": "[encoded data removed]",
      "text/plain": [
       "<Figure size 700x300 with 1 Axes>"
      ]
     },
     "metadata": {},
     "output_type": "display_data"
    }
   ],
   "source": [
    "#looks like data is imbalanced. need to handle it.\n",
    "\n",
    "top_10_groups = group_counts.head(10)\n",
    "plt.figure(figsize=(7, 3))\n",
    "sns.barplot(x=top_10_groups.head(10).index, y=top_10_groups.head(10).values, palette='viridis')\n",
    "plt.title('Top 10 Groups with Most Tickets')\n",
    "plt.xlabel('Assignment Group')\n",
    "plt.ylabel('Ticket Count')\n",
    "plt.show()"
   ]
  },
  {
   "cell_type": "code",
   "execution_count": 85,
   "metadata": {
    "colab": {
     "base_uri": "https://localhost:8080/",
     "height": 510
    },
    "id": "w63IFy1JJL6e",
    "outputId": "0ef6b009-6dcb-444d-a971-29448b2091b1"
   },
   "outputs": [
    {
     "data": {
      "image/png": "[encoded data removed]",
      "text/plain": [
       "<Figure size 2000x500 with 1 Axes>"
      ]
     },
     "metadata": {},
     "output_type": "display_data"
    }
   ],
   "source": [
    "#looks like data is imbalanced. need to handle it.\n",
    "\n",
    "top_subset = group_counts[1:21]\n",
    "plt.figure(figsize=(20, 5))\n",
    "sns.barplot(x=top_subset.index, y=top_subset.values, palette='viridis')\n",
    "plt.title('Top 20 Groups with Most Tickets except Group 0')\n",
    "plt.xlabel('Assignment Group')\n",
    "plt.ylabel('Ticket Count')\n",
    "plt.show()"
   ]
  },
  {
   "cell_type": "code",
   "execution_count": 86,
   "metadata": {
    "colab": {
     "base_uri": "https://localhost:8080/",
     "height": 431
    },
    "id": "pY7JCy9w__4f",
    "outputId": "3445fa26-8bd3-4d66-e37c-049b1b771c0b"
   },
   "outputs": [
    {
     "data": {
      "image/png": "[encoded data removed]",
      "text/plain": [
       "<Figure size 1700x300 with 1 Axes>"
      ]
     },
     "metadata": {},
     "output_type": "display_data"
    }
   ],
   "source": [
    "bottom_20_groups = group_counts[group_counts<10]\n",
    "plt.figure(figsize=(17, 3))\n",
    "sns.barplot(x=bottom_20_groups.index, y=bottom_20_groups.values, palette='viridis')\n",
    "plt.title('Bottom 20 Groups with Least Tickets')\n",
    "plt.xlabel('Assignment Group')\n",
    "plt.ylabel('Ticket Count')\n",
    "plt.show()"
   ]
  },
  {
   "cell_type": "code",
   "execution_count": 98,
   "metadata": {
    "colab": {
     "base_uri": "https://localhost:8080/"
    },
    "id": "I-noFuKHDlOC",
    "outputId": "234e6f23-d202-46c6-fdae-028628e956e1"
   },
   "outputs": [
    {
     "name": "stdout",
     "output_type": "stream",
     "text": [
      "Requirement already satisfied: imbalanced-learn in /home/akshirsagar/anaconda3/lib/python3.11/site-packages (0.12.2)\r\n",
      "Requirement already satisfied: numpy>=1.17.3 in /home/akshirsagar/anaconda3/lib/python3.11/site-packages (from imbalanced-learn) (1.24.3)\r\n",
      "Requirement already satisfied: scipy>=1.5.0 in /home/akshirsagar/anaconda3/lib/python3.11/site-packages (from imbalanced-learn) (1.11.1)\r\n",
      "Requirement already satisfied: scikit-learn>=1.0.2 in /home/akshirsagar/anaconda3/lib/python3.11/site-packages (from imbalanced-learn) (1.3.0)\r\n",
      "Requirement already satisfied: joblib>=1.1.1 in /home/akshirsagar/anaconda3/lib/python3.11/site-packages (from imbalanced-learn) (1.2.0)\r\n",
      "Requirement already satisfied: threadpoolctl>=2.0.0 in /home/akshirsagar/anaconda3/lib/python3.11/site-packages (from imbalanced-learn) (2.2.0)\r\n"
     ]
    }
   ],
   "source": [
    "!pip install imbalanced-learn"
   ]
  },
  {
   "cell_type": "code",
   "execution_count": 99,
   "metadata": {
    "colab": {
     "base_uri": "https://localhost:8080/",
     "height": 924
    },
    "id": "5YVqrn-neZkF",
    "outputId": "0df4eaa7-9621-4a97-9943-1a5db3e5b394"
   },
   "outputs": [
    {
     "ename": "ImportError",
     "evalue": "cannot import name '_check_X' from 'imblearn.utils._validation' (/home/akshirsagar/anaconda3/lib/python3.11/site-packages/imblearn/utils/_validation.py)",
     "output_type": "error",
     "traceback": [
      "\u001b[0;31m---------------------------------------------------------------------------\u001b[0m",
      "\u001b[0;31mImportError\u001b[0m                               Traceback (most recent call last)",
      "Cell \u001b[0;32mIn[99], line 1\u001b[0m\n\u001b[0;32m----> 1\u001b[0m \u001b[38;5;28;01mfrom\u001b[39;00m \u001b[38;5;21;01mimblearn\u001b[39;00m\u001b[38;5;21;01m.\u001b[39;00m\u001b[38;5;21;01munder_sampling\u001b[39;00m \u001b[38;5;28;01mimport\u001b[39;00m RandomUnderSampler\n\u001b[1;32m      3\u001b[0m \u001b[38;5;28mprint\u001b[39m(df[\u001b[38;5;124m'\u001b[39m\u001b[38;5;124mAssignment group\u001b[39m\u001b[38;5;124m'\u001b[39m]\u001b[38;5;241m.\u001b[39mvalue_counts()\u001b[38;5;241m.\u001b[39mhead(\u001b[38;5;241m10\u001b[39m))\n\u001b[1;32m      5\u001b[0m \u001b[38;5;66;03m# Initialize the under-sampler\u001b[39;00m\n",
      "File \u001b[0;32m~/anaconda3/lib/python3.11/site-packages/imblearn/__init__.py:52\u001b[0m\n\u001b[1;32m     48\u001b[0m     sys\u001b[38;5;241m.\u001b[39mstderr\u001b[38;5;241m.\u001b[39mwrite(\u001b[38;5;124m\"\u001b[39m\u001b[38;5;124mPartial import of imblearn during the build process.\u001b[39m\u001b[38;5;130;01m\\n\u001b[39;00m\u001b[38;5;124m\"\u001b[39m)\n\u001b[1;32m     49\u001b[0m     \u001b[38;5;66;03m# We are not importing the rest of scikit-learn during the build\u001b[39;00m\n\u001b[1;32m     50\u001b[0m     \u001b[38;5;66;03m# process, as it may not be compiled yet\u001b[39;00m\n\u001b[1;32m     51\u001b[0m \u001b[38;5;28;01melse\u001b[39;00m:\n\u001b[0;32m---> 52\u001b[0m     \u001b[38;5;28;01mfrom\u001b[39;00m \u001b[38;5;21;01m.\u001b[39;00m \u001b[38;5;28;01mimport\u001b[39;00m (\n\u001b[1;32m     53\u001b[0m         combine,\n\u001b[1;32m     54\u001b[0m         ensemble,\n\u001b[1;32m     55\u001b[0m         exceptions,\n\u001b[1;32m     56\u001b[0m         metrics,\n\u001b[1;32m     57\u001b[0m         over_sampling,\n\u001b[1;32m     58\u001b[0m         pipeline,\n\u001b[1;32m     59\u001b[0m         tensorflow,\n\u001b[1;32m     60\u001b[0m         under_sampling,\n\u001b[1;32m     61\u001b[0m         utils,\n\u001b[1;32m     62\u001b[0m     )\n\u001b[1;32m     63\u001b[0m     \u001b[38;5;28;01mfrom\u001b[39;00m \u001b[38;5;21;01m.\u001b[39;00m\u001b[38;5;21;01m_version\u001b[39;00m \u001b[38;5;28;01mimport\u001b[39;00m __version__\n\u001b[1;32m     64\u001b[0m     \u001b[38;5;28;01mfrom\u001b[39;00m \u001b[38;5;21;01m.\u001b[39;00m\u001b[38;5;21;01mbase\u001b[39;00m \u001b[38;5;28;01mimport\u001b[39;00m FunctionSampler\n",
      "File \u001b[0;32m~/anaconda3/lib/python3.11/site-packages/imblearn/combine/__init__.py:5\u001b[0m\n\u001b[1;32m      1\u001b[0m \u001b[38;5;124;03m\"\"\"The :mod:`imblearn.combine` provides methods which combine\u001b[39;00m\n\u001b[1;32m      2\u001b[0m \u001b[38;5;124;03mover-sampling and under-sampling.\u001b[39;00m\n\u001b[1;32m      3\u001b[0m \u001b[38;5;124;03m\"\"\"\u001b[39;00m\n\u001b[0;32m----> 5\u001b[0m \u001b[38;5;28;01mfrom\u001b[39;00m \u001b[38;5;21;01m.\u001b[39;00m\u001b[38;5;21;01m_smote_enn\u001b[39;00m \u001b[38;5;28;01mimport\u001b[39;00m SMOTEENN\n\u001b[1;32m      6\u001b[0m \u001b[38;5;28;01mfrom\u001b[39;00m \u001b[38;5;21;01m.\u001b[39;00m\u001b[38;5;21;01m_smote_tomek\u001b[39;00m \u001b[38;5;28;01mimport\u001b[39;00m SMOTETomek\n\u001b[1;32m      8\u001b[0m __all__ \u001b[38;5;241m=\u001b[39m [\u001b[38;5;124m\"\u001b[39m\u001b[38;5;124mSMOTEENN\u001b[39m\u001b[38;5;124m\"\u001b[39m, \u001b[38;5;124m\"\u001b[39m\u001b[38;5;124mSMOTETomek\u001b[39m\u001b[38;5;124m\"\u001b[39m]\n",
      "File \u001b[0;32m~/anaconda3/lib/python3.11/site-packages/imblearn/combine/_smote_enn.py:13\u001b[0m\n\u001b[1;32m     10\u001b[0m \u001b[38;5;28;01mfrom\u001b[39;00m \u001b[38;5;21;01msklearn\u001b[39;00m\u001b[38;5;21;01m.\u001b[39;00m\u001b[38;5;21;01mutils\u001b[39;00m \u001b[38;5;28;01mimport\u001b[39;00m check_X_y\n\u001b[1;32m     12\u001b[0m \u001b[38;5;28;01mfrom\u001b[39;00m \u001b[38;5;21;01m.\u001b[39;00m\u001b[38;5;21;01m.\u001b[39;00m\u001b[38;5;21;01mbase\u001b[39;00m \u001b[38;5;28;01mimport\u001b[39;00m BaseSampler\n\u001b[0;32m---> 13\u001b[0m \u001b[38;5;28;01mfrom\u001b[39;00m \u001b[38;5;21;01m.\u001b[39;00m\u001b[38;5;21;01m.\u001b[39;00m\u001b[38;5;21;01mover_sampling\u001b[39;00m \u001b[38;5;28;01mimport\u001b[39;00m SMOTE\n\u001b[1;32m     14\u001b[0m \u001b[38;5;28;01mfrom\u001b[39;00m \u001b[38;5;21;01m.\u001b[39;00m\u001b[38;5;21;01m.\u001b[39;00m\u001b[38;5;21;01mover_sampling\u001b[39;00m\u001b[38;5;21;01m.\u001b[39;00m\u001b[38;5;21;01mbase\u001b[39;00m \u001b[38;5;28;01mimport\u001b[39;00m BaseOverSampler\n\u001b[1;32m     15\u001b[0m \u001b[38;5;28;01mfrom\u001b[39;00m \u001b[38;5;21;01m.\u001b[39;00m\u001b[38;5;21;01m.\u001b[39;00m\u001b[38;5;21;01munder_sampling\u001b[39;00m \u001b[38;5;28;01mimport\u001b[39;00m EditedNearestNeighbours\n",
      "File \u001b[0;32m~/anaconda3/lib/python3.11/site-packages/imblearn/over_sampling/__init__.py:7\u001b[0m\n\u001b[1;32m      1\u001b[0m \u001b[38;5;124;03m\"\"\"\u001b[39;00m\n\u001b[1;32m      2\u001b[0m \u001b[38;5;124;03mThe :mod:`imblearn.over_sampling` provides a set of method to\u001b[39;00m\n\u001b[1;32m      3\u001b[0m \u001b[38;5;124;03mperform over-sampling.\u001b[39;00m\n\u001b[1;32m      4\u001b[0m \u001b[38;5;124;03m\"\"\"\u001b[39;00m\n\u001b[1;32m      6\u001b[0m \u001b[38;5;28;01mfrom\u001b[39;00m \u001b[38;5;21;01m.\u001b[39;00m\u001b[38;5;21;01m_adasyn\u001b[39;00m \u001b[38;5;28;01mimport\u001b[39;00m ADASYN\n\u001b[0;32m----> 7\u001b[0m \u001b[38;5;28;01mfrom\u001b[39;00m \u001b[38;5;21;01m.\u001b[39;00m\u001b[38;5;21;01m_random_over_sampler\u001b[39;00m \u001b[38;5;28;01mimport\u001b[39;00m RandomOverSampler\n\u001b[1;32m      8\u001b[0m \u001b[38;5;28;01mfrom\u001b[39;00m \u001b[38;5;21;01m.\u001b[39;00m\u001b[38;5;21;01m_smote\u001b[39;00m \u001b[38;5;28;01mimport\u001b[39;00m SMOTE, SMOTEN, SMOTENC, SVMSMOTE, BorderlineSMOTE, KMeansSMOTE\n\u001b[1;32m     10\u001b[0m __all__ \u001b[38;5;241m=\u001b[39m [\n\u001b[1;32m     11\u001b[0m     \u001b[38;5;124m\"\u001b[39m\u001b[38;5;124mADASYN\u001b[39m\u001b[38;5;124m\"\u001b[39m,\n\u001b[1;32m     12\u001b[0m     \u001b[38;5;124m\"\u001b[39m\u001b[38;5;124mRandomOverSampler\u001b[39m\u001b[38;5;124m\"\u001b[39m,\n\u001b[0;32m   (...)\u001b[0m\n\u001b[1;32m     18\u001b[0m     \u001b[38;5;124m\"\u001b[39m\u001b[38;5;124mSMOTEN\u001b[39m\u001b[38;5;124m\"\u001b[39m,\n\u001b[1;32m     19\u001b[0m ]\n",
      "File \u001b[0;32m~/anaconda3/lib/python3.11/site-packages/imblearn/over_sampling/_random_over_sampler.py:18\u001b[0m\n\u001b[1;32m     16\u001b[0m \u001b[38;5;28;01mfrom\u001b[39;00m \u001b[38;5;21;01m.\u001b[39;00m\u001b[38;5;21;01m.\u001b[39;00m\u001b[38;5;21;01mutils\u001b[39;00m\u001b[38;5;21;01m.\u001b[39;00m\u001b[38;5;21;01m_docstring\u001b[39;00m \u001b[38;5;28;01mimport\u001b[39;00m _random_state_docstring\n\u001b[1;32m     17\u001b[0m \u001b[38;5;28;01mfrom\u001b[39;00m \u001b[38;5;21;01m.\u001b[39;00m\u001b[38;5;21;01m.\u001b[39;00m\u001b[38;5;21;01mutils\u001b[39;00m\u001b[38;5;21;01m.\u001b[39;00m\u001b[38;5;21;01m_param_validation\u001b[39;00m \u001b[38;5;28;01mimport\u001b[39;00m Interval\n\u001b[0;32m---> 18\u001b[0m \u001b[38;5;28;01mfrom\u001b[39;00m \u001b[38;5;21;01m.\u001b[39;00m\u001b[38;5;21;01m.\u001b[39;00m\u001b[38;5;21;01mutils\u001b[39;00m\u001b[38;5;21;01m.\u001b[39;00m\u001b[38;5;21;01m_validation\u001b[39;00m \u001b[38;5;28;01mimport\u001b[39;00m _check_X\n\u001b[1;32m     19\u001b[0m \u001b[38;5;28;01mfrom\u001b[39;00m \u001b[38;5;21;01m.\u001b[39;00m\u001b[38;5;21;01mbase\u001b[39;00m \u001b[38;5;28;01mimport\u001b[39;00m BaseOverSampler\n\u001b[1;32m     22\u001b[0m \u001b[38;5;129m@Substitution\u001b[39m(\n\u001b[1;32m     23\u001b[0m     sampling_strategy\u001b[38;5;241m=\u001b[39mBaseOverSampler\u001b[38;5;241m.\u001b[39m_sampling_strategy_docstring,\n\u001b[1;32m     24\u001b[0m     random_state\u001b[38;5;241m=\u001b[39m_random_state_docstring,\n\u001b[1;32m     25\u001b[0m )\n\u001b[1;32m     26\u001b[0m \u001b[38;5;28;01mclass\u001b[39;00m \u001b[38;5;21;01mRandomOverSampler\u001b[39;00m(BaseOverSampler):\n",
      "\u001b[0;31mImportError\u001b[0m: cannot import name '_check_X' from 'imblearn.utils._validation' (/home/akshirsagar/anaconda3/lib/python3.11/site-packages/imblearn/utils/_validation.py)"
     ]
    }
   ],
   "source": [
    "from imblearn.under_sampling import RandomUnderSampler\n",
    "\n",
    "print(df['Assignment group'].value_counts().head(10))\n",
    "\n",
    "# Initialize the under-sampler\n",
    "rus = RandomUnderSampler()\n",
    "\n",
    "# Fit and apply the under-sampler to create a more balanced distribution\n",
    "df_under, _ = rus.fit_resample(df[['Assignment group']], df['Assignment group'])\n",
    "\n",
    "# Check the distribution after under-sampling\n",
    "print(df_under['Assignment group'].value_counts().head(10))\n",
    "\n",
    "#This is multiclass classification, let's visualize it.\n",
    "plt.figure(figsize=(14, 5))\n",
    "sns.histplot(df_under['Assignment group'], kde=True)\n",
    "plt.title('Histogram of Assignment group')\n",
    "plt.xticks(rotation=45, fontsize=7)\n",
    "plt.ylabel('Frequency')\n",
    "plt.show()\n"
   ]
  },
  {
   "cell_type": "code",
   "execution_count": null,
   "metadata": {},
   "outputs": [],
   "source": []
  },
  {
   "cell_type": "code",
   "execution_count": 90,
   "metadata": {
    "colab": {
     "base_uri": "https://localhost:8080/",
     "height": 1000
    },
    "id": "pAkmrgIOS6xE",
    "outputId": "5180a00d-4151-4ac8-a415-661ec2b8df29"
   },
   "outputs": [
    {
     "data": {
      "text/html": [
       "<div>\n",
       "<style scoped>\n",
       "    .dataframe tbody tr th:only-of-type {\n",
       "        vertical-align: middle;\n",
       "    }\n",
       "\n",
       "    .dataframe tbody tr th {\n",
       "        vertical-align: top;\n",
       "    }\n",
       "\n",
       "    .dataframe thead th {\n",
       "        text-align: right;\n",
       "    }\n",
       "</style>\n",
       "<table border=\"1\" class=\"dataframe\">\n",
       "  <thead>\n",
       "    <tr style=\"text-align: right;\">\n",
       "      <th></th>\n",
       "      <th>Short description</th>\n",
       "      <th>Description</th>\n",
       "      <th>Assignment group</th>\n",
       "      <th>merged_description</th>\n",
       "      <th>Cleaned_Text</th>\n",
       "      <th>Cleaned_Tokens</th>\n",
       "      <th>Filtered_Word_Tokens</th>\n",
       "      <th>Stems</th>\n",
       "    </tr>\n",
       "  </thead>\n",
       "  <tbody>\n",
       "    <tr>\n",
       "      <th>401</th>\n",
       "      <td>need access to erp kp06789</td>\n",
       "      <td>need access to kp06789 to enter forecast for i...</td>\n",
       "      <td>GRP_35</td>\n",
       "      <td>need access to erp kp06789 need access to kp06...</td>\n",
       "      <td>need access to erp need access to to enter for...</td>\n",
       "      <td>[need, access, to, erp, need, access, to, to, ...</td>\n",
       "      <td>[need, access, erp, need, access, enter, forec...</td>\n",
       "      <td>[need, access, erp, need, access, enter, forec...</td>\n",
       "    </tr>\n",
       "    <tr>\n",
       "      <th>461</th>\n",
       "      <td>hpqc delivers error message: \"user is not main...</td>\n",
       "      <td>my user id: thrydksd'\\niÂ´m involved in uat ua...</td>\n",
       "      <td>GRP_38</td>\n",
       "      <td>hpqc delivers error message: \"user is not main...</td>\n",
       "      <td>hpqc delivers error message user is not mainta...</td>\n",
       "      <td>[hpqc, delivers, error, message, user, is, not...</td>\n",
       "      <td>[hpqc, delivers, error, message, user, maintai...</td>\n",
       "      <td>[hpqc, deliv, error, messag, user, maintain, p...</td>\n",
       "    </tr>\n",
       "    <tr>\n",
       "      <th>626</th>\n",
       "      <td>production order number issue</td>\n",
       "      <td>\\n\\nreceived from: zuxcfonv.nyhpkrbe@gmail.com...</td>\n",
       "      <td>GRP_43</td>\n",
       "      <td>production order number issue  \\n\\nreceived fr...</td>\n",
       "      <td>production order number issue received from zu...</td>\n",
       "      <td>[production, order, number, issue, received, f...</td>\n",
       "      <td>[production, order, number, issue, received, z...</td>\n",
       "      <td>[product, order, number, issu, receiv, zuxcfon...</td>\n",
       "    </tr>\n",
       "    <tr>\n",
       "      <th>841</th>\n",
       "      <td>error with customization (engineering tool) - ...</td>\n",
       "      <td>hi team, \\n\\ni need your help with two error t...</td>\n",
       "      <td>GRP_46</td>\n",
       "      <td>error with customization (engineering tool) - ...</td>\n",
       "      <td>error with customization engineering tool erp ...</td>\n",
       "      <td>[error, with, customization, engineering, tool...</td>\n",
       "      <td>[error, customization, engineering, tool, erp,...</td>\n",
       "      <td>[error, custom, engin, tool, erp, plam, compan...</td>\n",
       "    </tr>\n",
       "    <tr>\n",
       "      <th>1143</th>\n",
       "      <td>please redirect to local it: word document 134...</td>\n",
       "      <td>das folgende word-dokument kann nicht mehr bea...</td>\n",
       "      <td>GRP_49</td>\n",
       "      <td>please redirect to local it: word document 134...</td>\n",
       "      <td>please redirect to local it word document brok...</td>\n",
       "      <td>[please, redirect, to, local, it, word, docume...</td>\n",
       "      <td>[please, redirect, local, word, document, brok...</td>\n",
       "      <td>[pleas, redirect, local, word, document, broke...</td>\n",
       "    </tr>\n",
       "    <tr>\n",
       "      <th>...</th>\n",
       "      <td>...</td>\n",
       "      <td>...</td>\n",
       "      <td>...</td>\n",
       "      <td>...</td>\n",
       "      <td>...</td>\n",
       "      <td>...</td>\n",
       "      <td>...</td>\n",
       "      <td>...</td>\n",
       "    </tr>\n",
       "    <tr>\n",
       "      <th>8171</th>\n",
       "      <td>job qeue from the engg application stopped</td>\n",
       "      <td>the job qeue processor of the engg stopped and...</td>\n",
       "      <td>GRP_58</td>\n",
       "      <td>job qeue from the engg application stopped the...</td>\n",
       "      <td>job qeue from the engg application stopped the...</td>\n",
       "      <td>[job, qeue, from, the, engg, application, stop...</td>\n",
       "      <td>[job, qeue, engg, application, stopped, job, q...</td>\n",
       "      <td>[job, qeue, engg, applic, stop, job, qeue, pro...</td>\n",
       "    </tr>\n",
       "    <tr>\n",
       "      <th>8197</th>\n",
       "      <td>oneteam sso not working</td>\n",
       "      <td>i'm unable to log in to hr_tool/oneteam throug...</td>\n",
       "      <td>GRP_73</td>\n",
       "      <td>oneteam sso not working i'm unable to log in t...</td>\n",
       "      <td>oneteam sso not working im unable to log in to...</td>\n",
       "      <td>[oneteam, sso, not, working, im, unable, to, l...</td>\n",
       "      <td>[oneteam, sso, working, im, unable, log, hrtoo...</td>\n",
       "      <td>[oneteam, sso, work, im, unabl, log, hrtoolone...</td>\n",
       "    </tr>\n",
       "    <tr>\n",
       "      <th>8341</th>\n",
       "      <td>help with mss worklist since manager left company</td>\n",
       "      <td>from: qekdgaim wagshrzl _x000D_\\nsent: saturda...</td>\n",
       "      <td>GRP_52</td>\n",
       "      <td>help with mss worklist since manager left comp...</td>\n",
       "      <td>help with mss worklist since manager left comp...</td>\n",
       "      <td>[help, with, mss, worklist, since, manager, le...</td>\n",
       "      <td>[help, mss, worklist, since, manager, left, co...</td>\n",
       "      <td>[help, mss, worklist, sinc, manag, left, compa...</td>\n",
       "    </tr>\n",
       "    <tr>\n",
       "      <th>8387</th>\n",
       "      <td>ticket (ticket_no1538972) update to anftgup nf...</td>\n",
       "      <td>ticket (ticket_no1538972) update to anftgup nf...</td>\n",
       "      <td>GRP_72</td>\n",
       "      <td>ticket (ticket_no1538972) update to anftgup nf...</td>\n",
       "      <td>ticket update to anftgup nftgyair ticket updat...</td>\n",
       "      <td>[ticket, update, to, anftgup, nftgyair, ticket...</td>\n",
       "      <td>[ticket, update, anftgup, nftgyair, ticket, up...</td>\n",
       "      <td>[ticket, updat, anftgup, nftgyair, ticket, upd...</td>\n",
       "    </tr>\n",
       "    <tr>\n",
       "      <th>8499</th>\n",
       "      <td>an mehreren pc`s lassen sich verschiedene prgr...</td>\n",
       "      <td>an mehreren pc`s lassen sich verschiedene prgr...</td>\n",
       "      <td>GRP_49</td>\n",
       "      <td>an mehreren pc`s lassen sich verschiedene prgr...</td>\n",
       "      <td>an mehreren pcs lassen sich verschiedene prgra...</td>\n",
       "      <td>[an, mehreren, pcs, lassen, sich, verschiedene...</td>\n",
       "      <td>[mehreren, pcs, lassen, sich, verschiedene, pr...</td>\n",
       "      <td>[mehreren, pc, lassen, sich, verschieden, prgr...</td>\n",
       "    </tr>\n",
       "  </tbody>\n",
       "</table>\n",
       "<p>87 rows × 8 columns</p>\n",
       "</div>"
      ],
      "text/plain": [
       "                                      Short description  \\\n",
       "401                          need access to erp kp06789   \n",
       "461   hpqc delivers error message: \"user is not main...   \n",
       "626                      production order number issue    \n",
       "841   error with customization (engineering tool) - ...   \n",
       "1143  please redirect to local it: word document 134...   \n",
       "...                                                 ...   \n",
       "8171         job qeue from the engg application stopped   \n",
       "8197                            oneteam sso not working   \n",
       "8341  help with mss worklist since manager left company   \n",
       "8387  ticket (ticket_no1538972) update to anftgup nf...   \n",
       "8499  an mehreren pc`s lassen sich verschiedene prgr...   \n",
       "\n",
       "                                            Description Assignment group  \\\n",
       "401   need access to kp06789 to enter forecast for i...           GRP_35   \n",
       "461   my user id: thrydksd'\\niÂ´m involved in uat ua...           GRP_38   \n",
       "626   \\n\\nreceived from: zuxcfonv.nyhpkrbe@gmail.com...           GRP_43   \n",
       "841   hi team, \\n\\ni need your help with two error t...           GRP_46   \n",
       "1143  das folgende word-dokument kann nicht mehr bea...           GRP_49   \n",
       "...                                                 ...              ...   \n",
       "8171  the job qeue processor of the engg stopped and...           GRP_58   \n",
       "8197  i'm unable to log in to hr_tool/oneteam throug...           GRP_73   \n",
       "8341  from: qekdgaim wagshrzl _x000D_\\nsent: saturda...           GRP_52   \n",
       "8387  ticket (ticket_no1538972) update to anftgup nf...           GRP_72   \n",
       "8499  an mehreren pc`s lassen sich verschiedene prgr...           GRP_49   \n",
       "\n",
       "                                     merged_description  \\\n",
       "401   need access to erp kp06789 need access to kp06...   \n",
       "461   hpqc delivers error message: \"user is not main...   \n",
       "626   production order number issue  \\n\\nreceived fr...   \n",
       "841   error with customization (engineering tool) - ...   \n",
       "1143  please redirect to local it: word document 134...   \n",
       "...                                                 ...   \n",
       "8171  job qeue from the engg application stopped the...   \n",
       "8197  oneteam sso not working i'm unable to log in t...   \n",
       "8341  help with mss worklist since manager left comp...   \n",
       "8387  ticket (ticket_no1538972) update to anftgup nf...   \n",
       "8499  an mehreren pc`s lassen sich verschiedene prgr...   \n",
       "\n",
       "                                           Cleaned_Text  \\\n",
       "401   need access to erp need access to to enter for...   \n",
       "461   hpqc delivers error message user is not mainta...   \n",
       "626   production order number issue received from zu...   \n",
       "841   error with customization engineering tool erp ...   \n",
       "1143  please redirect to local it word document brok...   \n",
       "...                                                 ...   \n",
       "8171  job qeue from the engg application stopped the...   \n",
       "8197  oneteam sso not working im unable to log in to...   \n",
       "8341  help with mss worklist since manager left comp...   \n",
       "8387  ticket update to anftgup nftgyair ticket updat...   \n",
       "8499  an mehreren pcs lassen sich verschiedene prgra...   \n",
       "\n",
       "                                         Cleaned_Tokens  \\\n",
       "401   [need, access, to, erp, need, access, to, to, ...   \n",
       "461   [hpqc, delivers, error, message, user, is, not...   \n",
       "626   [production, order, number, issue, received, f...   \n",
       "841   [error, with, customization, engineering, tool...   \n",
       "1143  [please, redirect, to, local, it, word, docume...   \n",
       "...                                                 ...   \n",
       "8171  [job, qeue, from, the, engg, application, stop...   \n",
       "8197  [oneteam, sso, not, working, im, unable, to, l...   \n",
       "8341  [help, with, mss, worklist, since, manager, le...   \n",
       "8387  [ticket, update, to, anftgup, nftgyair, ticket...   \n",
       "8499  [an, mehreren, pcs, lassen, sich, verschiedene...   \n",
       "\n",
       "                                   Filtered_Word_Tokens  \\\n",
       "401   [need, access, erp, need, access, enter, forec...   \n",
       "461   [hpqc, delivers, error, message, user, maintai...   \n",
       "626   [production, order, number, issue, received, z...   \n",
       "841   [error, customization, engineering, tool, erp,...   \n",
       "1143  [please, redirect, local, word, document, brok...   \n",
       "...                                                 ...   \n",
       "8171  [job, qeue, engg, application, stopped, job, q...   \n",
       "8197  [oneteam, sso, working, im, unable, log, hrtoo...   \n",
       "8341  [help, mss, worklist, since, manager, left, co...   \n",
       "8387  [ticket, update, anftgup, nftgyair, ticket, up...   \n",
       "8499  [mehreren, pcs, lassen, sich, verschiedene, pr...   \n",
       "\n",
       "                                                  Stems  \n",
       "401   [need, access, erp, need, access, enter, forec...  \n",
       "461   [hpqc, deliv, error, messag, user, maintain, p...  \n",
       "626   [product, order, number, issu, receiv, zuxcfon...  \n",
       "841   [error, custom, engin, tool, erp, plam, compan...  \n",
       "1143  [pleas, redirect, local, word, document, broke...  \n",
       "...                                                 ...  \n",
       "8171  [job, qeue, engg, applic, stop, job, qeue, pro...  \n",
       "8197  [oneteam, sso, work, im, unabl, log, hrtoolone...  \n",
       "8341  [help, mss, worklist, sinc, manag, left, compa...  \n",
       "8387  [ticket, updat, anftgup, nftgyair, ticket, upd...  \n",
       "8499  [mehreren, pc, lassen, sich, verschieden, prgr...  \n",
       "\n",
       "[87 rows x 8 columns]"
      ]
     },
     "execution_count": 90,
     "metadata": {},
     "output_type": "execute_result"
    }
   ],
   "source": [
    "df_small_classes = df[df['Assignment group'].isin(bottom_20_groups.index)]\n",
    "df_small_classes"
   ]
  },
  {
   "cell_type": "code",
   "execution_count": 91,
   "metadata": {
    "colab": {
     "base_uri": "https://localhost:8080/",
     "height": 976
    },
    "id": "OOhmINliDlGD",
    "outputId": "2efcec7f-ca9d-41f5-c07d-4e65ec951410"
   },
   "outputs": [
    {
     "ename": "ImportError",
     "evalue": "cannot import name '_MissingValues' from 'sklearn.utils._param_validation' (/home/akshirsagar/anaconda3/lib/python3.11/site-packages/sklearn/utils/_param_validation.py)",
     "output_type": "error",
     "traceback": [
      "\u001b[0;31m---------------------------------------------------------------------------\u001b[0m",
      "\u001b[0;31mImportError\u001b[0m                               Traceback (most recent call last)",
      "Cell \u001b[0;32mIn[91], line 1\u001b[0m\n\u001b[0;32m----> 1\u001b[0m \u001b[38;5;28;01mfrom\u001b[39;00m \u001b[38;5;21;01mimblearn\u001b[39;00m\u001b[38;5;21;01m.\u001b[39;00m\u001b[38;5;21;01mover_sampling\u001b[39;00m \u001b[38;5;28;01mimport\u001b[39;00m RandomOverSampler\n\u001b[1;32m      3\u001b[0m \u001b[38;5;66;03m# Initialize the over-sampler\u001b[39;00m\n\u001b[1;32m      4\u001b[0m ros \u001b[38;5;241m=\u001b[39m RandomOverSampler(random_state\u001b[38;5;241m=\u001b[39m\u001b[38;5;241m42\u001b[39m)\n",
      "File \u001b[0;32m~/anaconda3/lib/python3.11/site-packages/imblearn/__init__.py:52\u001b[0m\n\u001b[1;32m     48\u001b[0m     sys\u001b[38;5;241m.\u001b[39mstderr\u001b[38;5;241m.\u001b[39mwrite(\u001b[38;5;124m\"\u001b[39m\u001b[38;5;124mPartial import of imblearn during the build process.\u001b[39m\u001b[38;5;130;01m\\n\u001b[39;00m\u001b[38;5;124m\"\u001b[39m)\n\u001b[1;32m     49\u001b[0m     \u001b[38;5;66;03m# We are not importing the rest of scikit-learn during the build\u001b[39;00m\n\u001b[1;32m     50\u001b[0m     \u001b[38;5;66;03m# process, as it may not be compiled yet\u001b[39;00m\n\u001b[1;32m     51\u001b[0m \u001b[38;5;28;01melse\u001b[39;00m:\n\u001b[0;32m---> 52\u001b[0m     \u001b[38;5;28;01mfrom\u001b[39;00m \u001b[38;5;21;01m.\u001b[39;00m \u001b[38;5;28;01mimport\u001b[39;00m (\n\u001b[1;32m     53\u001b[0m         combine,\n\u001b[1;32m     54\u001b[0m         ensemble,\n\u001b[1;32m     55\u001b[0m         exceptions,\n\u001b[1;32m     56\u001b[0m         metrics,\n\u001b[1;32m     57\u001b[0m         over_sampling,\n\u001b[1;32m     58\u001b[0m         pipeline,\n\u001b[1;32m     59\u001b[0m         tensorflow,\n\u001b[1;32m     60\u001b[0m         under_sampling,\n\u001b[1;32m     61\u001b[0m         utils,\n\u001b[1;32m     62\u001b[0m     )\n\u001b[1;32m     63\u001b[0m     \u001b[38;5;28;01mfrom\u001b[39;00m \u001b[38;5;21;01m.\u001b[39;00m\u001b[38;5;21;01m_version\u001b[39;00m \u001b[38;5;28;01mimport\u001b[39;00m __version__\n\u001b[1;32m     64\u001b[0m     \u001b[38;5;28;01mfrom\u001b[39;00m \u001b[38;5;21;01m.\u001b[39;00m\u001b[38;5;21;01mbase\u001b[39;00m \u001b[38;5;28;01mimport\u001b[39;00m FunctionSampler\n",
      "File \u001b[0;32m~/anaconda3/lib/python3.11/site-packages/imblearn/combine/__init__.py:5\u001b[0m\n\u001b[1;32m      1\u001b[0m \u001b[38;5;124;03m\"\"\"The :mod:`imblearn.combine` provides methods which combine\u001b[39;00m\n\u001b[1;32m      2\u001b[0m \u001b[38;5;124;03mover-sampling and under-sampling.\u001b[39;00m\n\u001b[1;32m      3\u001b[0m \u001b[38;5;124;03m\"\"\"\u001b[39;00m\n\u001b[0;32m----> 5\u001b[0m \u001b[38;5;28;01mfrom\u001b[39;00m \u001b[38;5;21;01m.\u001b[39;00m\u001b[38;5;21;01m_smote_enn\u001b[39;00m \u001b[38;5;28;01mimport\u001b[39;00m SMOTEENN\n\u001b[1;32m      6\u001b[0m \u001b[38;5;28;01mfrom\u001b[39;00m \u001b[38;5;21;01m.\u001b[39;00m\u001b[38;5;21;01m_smote_tomek\u001b[39;00m \u001b[38;5;28;01mimport\u001b[39;00m SMOTETomek\n\u001b[1;32m      8\u001b[0m __all__ \u001b[38;5;241m=\u001b[39m [\u001b[38;5;124m\"\u001b[39m\u001b[38;5;124mSMOTEENN\u001b[39m\u001b[38;5;124m\"\u001b[39m, \u001b[38;5;124m\"\u001b[39m\u001b[38;5;124mSMOTETomek\u001b[39m\u001b[38;5;124m\"\u001b[39m]\n",
      "File \u001b[0;32m~/anaconda3/lib/python3.11/site-packages/imblearn/combine/_smote_enn.py:12\u001b[0m\n\u001b[1;32m      9\u001b[0m \u001b[38;5;28;01mfrom\u001b[39;00m \u001b[38;5;21;01msklearn\u001b[39;00m\u001b[38;5;21;01m.\u001b[39;00m\u001b[38;5;21;01mbase\u001b[39;00m \u001b[38;5;28;01mimport\u001b[39;00m clone\n\u001b[1;32m     10\u001b[0m \u001b[38;5;28;01mfrom\u001b[39;00m \u001b[38;5;21;01msklearn\u001b[39;00m\u001b[38;5;21;01m.\u001b[39;00m\u001b[38;5;21;01mutils\u001b[39;00m \u001b[38;5;28;01mimport\u001b[39;00m check_X_y\n\u001b[0;32m---> 12\u001b[0m \u001b[38;5;28;01mfrom\u001b[39;00m \u001b[38;5;21;01m.\u001b[39;00m\u001b[38;5;21;01m.\u001b[39;00m\u001b[38;5;21;01mbase\u001b[39;00m \u001b[38;5;28;01mimport\u001b[39;00m BaseSampler\n\u001b[1;32m     13\u001b[0m \u001b[38;5;28;01mfrom\u001b[39;00m \u001b[38;5;21;01m.\u001b[39;00m\u001b[38;5;21;01m.\u001b[39;00m\u001b[38;5;21;01mover_sampling\u001b[39;00m \u001b[38;5;28;01mimport\u001b[39;00m SMOTE\n\u001b[1;32m     14\u001b[0m \u001b[38;5;28;01mfrom\u001b[39;00m \u001b[38;5;21;01m.\u001b[39;00m\u001b[38;5;21;01m.\u001b[39;00m\u001b[38;5;21;01mover_sampling\u001b[39;00m\u001b[38;5;21;01m.\u001b[39;00m\u001b[38;5;21;01mbase\u001b[39;00m \u001b[38;5;28;01mimport\u001b[39;00m BaseOverSampler\n",
      "File \u001b[0;32m~/anaconda3/lib/python3.11/site-packages/imblearn/base.py:21\u001b[0m\n\u001b[1;32m     18\u001b[0m \u001b[38;5;28;01mfrom\u001b[39;00m \u001b[38;5;21;01msklearn\u001b[39;00m\u001b[38;5;21;01m.\u001b[39;00m\u001b[38;5;21;01mutils\u001b[39;00m\u001b[38;5;21;01m.\u001b[39;00m\u001b[38;5;21;01mmulticlass\u001b[39;00m \u001b[38;5;28;01mimport\u001b[39;00m check_classification_targets\n\u001b[1;32m     20\u001b[0m \u001b[38;5;28;01mfrom\u001b[39;00m \u001b[38;5;21;01m.\u001b[39;00m\u001b[38;5;21;01mutils\u001b[39;00m \u001b[38;5;28;01mimport\u001b[39;00m check_sampling_strategy, check_target_type\n\u001b[0;32m---> 21\u001b[0m \u001b[38;5;28;01mfrom\u001b[39;00m \u001b[38;5;21;01m.\u001b[39;00m\u001b[38;5;21;01mutils\u001b[39;00m\u001b[38;5;21;01m.\u001b[39;00m\u001b[38;5;21;01m_param_validation\u001b[39;00m \u001b[38;5;28;01mimport\u001b[39;00m validate_parameter_constraints\n\u001b[1;32m     22\u001b[0m \u001b[38;5;28;01mfrom\u001b[39;00m \u001b[38;5;21;01m.\u001b[39;00m\u001b[38;5;21;01mutils\u001b[39;00m\u001b[38;5;21;01m.\u001b[39;00m\u001b[38;5;21;01m_validation\u001b[39;00m \u001b[38;5;28;01mimport\u001b[39;00m ArraysTransformer\n\u001b[1;32m     25\u001b[0m \u001b[38;5;28;01mclass\u001b[39;00m \u001b[38;5;21;01mSamplerMixin\u001b[39;00m(BaseEstimator, metaclass\u001b[38;5;241m=\u001b[39mABCMeta):\n",
      "File \u001b[0;32m~/anaconda3/lib/python3.11/site-packages/imblearn/utils/_param_validation.py:908\u001b[0m\n\u001b[1;32m    906\u001b[0m \u001b[38;5;28;01mfrom\u001b[39;00m \u001b[38;5;21;01msklearn\u001b[39;00m\u001b[38;5;21;01m.\u001b[39;00m\u001b[38;5;21;01mutils\u001b[39;00m\u001b[38;5;21;01m.\u001b[39;00m\u001b[38;5;21;01m_param_validation\u001b[39;00m \u001b[38;5;28;01mimport\u001b[39;00m generate_valid_param  \u001b[38;5;66;03m# noqa\u001b[39;00m\n\u001b[1;32m    907\u001b[0m \u001b[38;5;28;01mfrom\u001b[39;00m \u001b[38;5;21;01msklearn\u001b[39;00m\u001b[38;5;21;01m.\u001b[39;00m\u001b[38;5;21;01mutils\u001b[39;00m\u001b[38;5;21;01m.\u001b[39;00m\u001b[38;5;21;01m_param_validation\u001b[39;00m \u001b[38;5;28;01mimport\u001b[39;00m validate_parameter_constraints  \u001b[38;5;66;03m# noqa\u001b[39;00m\n\u001b[0;32m--> 908\u001b[0m \u001b[38;5;28;01mfrom\u001b[39;00m \u001b[38;5;21;01msklearn\u001b[39;00m\u001b[38;5;21;01m.\u001b[39;00m\u001b[38;5;21;01mutils\u001b[39;00m\u001b[38;5;21;01m.\u001b[39;00m\u001b[38;5;21;01m_param_validation\u001b[39;00m \u001b[38;5;28;01mimport\u001b[39;00m (\n\u001b[1;32m    909\u001b[0m     HasMethods,\n\u001b[1;32m    910\u001b[0m     Hidden,\n\u001b[1;32m    911\u001b[0m     Interval,\n\u001b[1;32m    912\u001b[0m     Options,\n\u001b[1;32m    913\u001b[0m     StrOptions,\n\u001b[1;32m    914\u001b[0m     _ArrayLikes,\n\u001b[1;32m    915\u001b[0m     _Booleans,\n\u001b[1;32m    916\u001b[0m     _Callables,\n\u001b[1;32m    917\u001b[0m     _CVObjects,\n\u001b[1;32m    918\u001b[0m     _InstancesOf,\n\u001b[1;32m    919\u001b[0m     _IterablesNotString,\n\u001b[1;32m    920\u001b[0m     _MissingValues,\n\u001b[1;32m    921\u001b[0m     _NoneConstraint,\n\u001b[1;32m    922\u001b[0m     _PandasNAConstraint,\n\u001b[1;32m    923\u001b[0m     _RandomStates,\n\u001b[1;32m    924\u001b[0m     _SparseMatrices,\n\u001b[1;32m    925\u001b[0m     _VerboseHelper,\n\u001b[1;32m    926\u001b[0m     make_constraint,\n\u001b[1;32m    927\u001b[0m     validate_params,\n\u001b[1;32m    928\u001b[0m )\n",
      "\u001b[0;31mImportError\u001b[0m: cannot import name '_MissingValues' from 'sklearn.utils._param_validation' (/home/akshirsagar/anaconda3/lib/python3.11/site-packages/sklearn/utils/_param_validation.py)"
     ]
    }
   ],
   "source": [
    "from imblearn.over_sampling import RandomOverSampler\n",
    "\n",
    "# Initialize the over-sampler\n",
    "ros = RandomOverSampler(random_state=42)\n",
    "\n",
    "# Fit and apply the over-sampler to create a more balanced distribution\n",
    "df_over, _ = ros.fit_resample(df_small_classes[['Assignment group']], df_small_classes['Assignment group'])\n",
    "\n",
    "# Check the distribution after over-sampling\n",
    "print(df_over['Assignment group'].value_counts())\n",
    "\n",
    "#This is multiclass classification, let's visualize it.\n",
    "plt.figure(figsize=(14, 5))\n",
    "sns.histplot(df_over['Assignment group'], kde=True)\n",
    "plt.title('Histogram of Assignment group')\n",
    "plt.xticks(rotation=45, fontsize=7)\n",
    "plt.ylabel('Frequency')\n",
    "plt.show()"
   ]
  },
  {
   "cell_type": "code",
   "execution_count": null,
   "metadata": {
    "colab": {
     "base_uri": "https://localhost:8080/"
    },
    "id": "771g4kb1TW9e",
    "outputId": "a5c0b12d-4ea5-4851-92da-25701ce8e8d3"
   },
   "outputs": [],
   "source": [
    "df_over = pd.concat([df, df_over], ignore_index=True)  # `ignore_index=True` ensures a continuous index\n",
    "df_over.shape"
   ]
  },
  {
   "cell_type": "code",
   "execution_count": null,
   "metadata": {
    "id": "OFjEj8DEDlIp"
   },
   "outputs": [],
   "source": [
    "from sklearn.preprocessing import LabelEncoder\n",
    "\n",
    "# Initialize LabelEncoder\n",
    "label_encoder = LabelEncoder()\n",
    "\n",
    "# Encode the 'Assignment_Group' column to numerical labels\n",
    "df_over['Encoded_Group'] = label_encoder.fit_transform(df_over['Assignment group'])\n"
   ]
  },
  {
   "cell_type": "code",
   "execution_count": null,
   "metadata": {
    "colab": {
     "base_uri": "https://localhost:8080/"
    },
    "id": "sXosQO2-DlLP",
    "outputId": "cf725ccb-1c22-443c-b4dd-dee9d35849e3"
   },
   "outputs": [],
   "source": [
    "df_over['Encoded_Group']"
   ]
  },
  {
   "cell_type": "code",
   "execution_count": null,
   "metadata": {
    "colab": {
     "base_uri": "https://localhost:8080/",
     "height": 715
    },
    "id": "WJ6aZ1YtDlaA",
    "outputId": "20cd196d-4889-4e57-99b1-9b751950e289"
   },
   "outputs": [],
   "source": [
    "from imblearn.combine import SMOTEENN\n",
    "\n",
    "# SMOTEENN combines over-sampling using SMOTE and under-sampling using ENN (Edited Nearest Neighbors)\n",
    "smoteenn = SMOTEENN(random_state=42)  # `k_neighbors=2` is safe for small classes\n",
    "\n",
    "# Fit and apply SMOTEENN\n",
    "df_combined, _ = smoteenn.fit_resample(df_over[['Encoded_Group']], df_over['Encoded_Group'])\n",
    "\n",
    "# Check the distribution after over-sampling\n",
    "print(df_over['Encoded_Group'].value_counts())\n",
    "#This is multiclass classification, let's visualize it.\n",
    "plt.figure(figsize=(14, 5))\n",
    "sns.histplot(df_over['Encoded_Group'], kde=True)\n",
    "plt.title('Histogram of Assignment group')\n",
    "plt.xticks(rotation=45, fontsize=7)\n",
    "plt.ylabel('Frequency')\n",
    "plt.show()"
   ]
  },
  {
   "cell_type": "code",
   "execution_count": null,
   "metadata": {
    "colab": {
     "base_uri": "https://localhost:8080/"
    },
    "id": "yQ70a62nWbQF",
    "outputId": "00dc8b8c-64ad-4767-cfe9-46359e3c24a5"
   },
   "outputs": [],
   "source": [
    "df_over['Encoded_Group'].value_counts()"
   ]
  },
  {
   "cell_type": "code",
   "execution_count": null,
   "metadata": {
    "colab": {
     "base_uri": "https://localhost:8080/"
    },
    "id": "ilNpG-geOVkJ",
    "outputId": "d2a4ddc9-03cc-4295-f0f2-b7bf58a1c1fe"
   },
   "outputs": [],
   "source": [
    "from sklearn.model_selection import train_test_split\n",
    "\n",
    "# Split the data into features (X) and target (y)\n",
    "X = df_over['Cleaned_Text']\n",
    "y = df_over['Assignment group']\n",
    "\n",
    "# Split the data into training (80%) and testing (20%) sets\n",
    "X_train, X_test, y_train, y_test = train_test_split(\n",
    "    X, y, test_size=0.2, random_state=42, stratify=y\n",
    ")\n",
    "X_train.shape, X_test.shape, y_train.shape, y_test.shape"
   ]
  },
  {
   "cell_type": "code",
   "execution_count": null,
   "metadata": {
    "colab": {
     "base_uri": "https://localhost:8080/",
     "height": 356
    },
    "id": "KBQ7_wYXaI5Y",
    "outputId": "6d8e67ee-c138-4cdd-8806-117aa96e832a"
   },
   "outputs": [],
   "source": [
    "from sklearn.ensemble import RandomForestClassifier\n",
    "\n",
    "# Initialize and train Random Forest model\n",
    "random_forest_model = RandomForestClassifier(n_estimators=100, random_state=42)\n",
    "random_forest_model.fit(X_train, y_train)\n",
    "\n",
    "# Predict on the test set\n",
    "y_pred = random_forest_model.predict(X_test)\n",
    "\n",
    "# Evaluate the model\n",
    "print(\"Random Forest - Classification Report:\")\n",
    "print(classification_report(y_test, y_pred))\n"
   ]
  },
  {
   "cell_type": "code",
   "execution_count": null,
   "metadata": {
    "id": "k6o0wpjYaKNw"
   },
   "outputs": [],
   "source": []
  },
  {
   "cell_type": "code",
   "execution_count": null,
   "metadata": {},
   "outputs": [],
   "source": []
  },
  {
   "cell_type": "code",
   "execution_count": null,
   "metadata": {},
   "outputs": [],
   "source": []
  },
  {
   "cell_type": "code",
   "execution_count": null,
   "metadata": {},
   "outputs": [],
   "source": []
  },
  {
   "cell_type": "code",
   "execution_count": null,
   "metadata": {},
   "outputs": [],
   "source": []
  },
  {
   "cell_type": "code",
   "execution_count": null,
   "metadata": {},
   "outputs": [],
   "source": []
  },
  {
   "cell_type": "code",
   "execution_count": null,
   "metadata": {},
   "outputs": [],
   "source": []
  },
  {
   "cell_type": "code",
   "execution_count": null,
   "metadata": {},
   "outputs": [],
   "source": []
  },
  {
   "cell_type": "code",
   "execution_count": null,
   "metadata": {},
   "outputs": [],
   "source": []
  },
  {
   "cell_type": "code",
   "execution_count": null,
   "metadata": {
    "colab": {
     "base_uri": "https://localhost:8080/"
    },
    "id": "lVho0_kQlVvz",
    "outputId": "50d5fb59-cbbc-476b-a079-90463b975894"
   },
   "outputs": [],
   "source": []
  }
 ],
 "metadata": {
  "accelerator": "GPU",
  "colab": {
   "gpuType": "T4",
   "provenance": []
  },
  "kernelspec": {
   "display_name": "Python 3 (ipykernel)",
   "language": "python",
   "name": "python3"
  },
  "language_info": {
   "codemirror_mode": {
    "name": "ipython",
    "version": 3
   },
   "file_extension": ".py",
   "mimetype": "text/x-python",
   "name": "python",
   "nbconvert_exporter": "python",
   "pygments_lexer": "ipython3",
   "version": "3.11.5"
  }
 },
 "nbformat": 4,
 "nbformat_minor": 1
}
