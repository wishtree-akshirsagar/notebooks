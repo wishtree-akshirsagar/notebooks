{
 "cells": [
  {
   "cell_type": "code",
   "execution_count": 1,
   "metadata": {
    "id": "anBHtsnCreGE"
   },
   "outputs": [],
   "source": [
    "import numpy as np\n",
    "import pandas as pd\n",
    "import matplotlib.pyplot as plt\n",
    "import seaborn as sns\n",
    "import nltk"
   ]
  },
  {
   "cell_type": "code",
   "execution_count": 2,
   "metadata": {
    "id": "SnoRy-eOr9SN"
   },
   "outputs": [],
   "source": [
    "df = pd.read_excel('/content/input_data.xlsx')"
   ]
  },
  {
   "cell_type": "code",
   "execution_count": 3,
   "metadata": {
    "colab": {
     "base_uri": "https://localhost:8080/",
     "height": 206
    },
    "id": "JaDjgwNIsJQZ",
    "outputId": "f8d9adfa-7cd9-4ef8-da4d-e97b9a2aaa3b"
   },
   "outputs": [
    {
     "data": {
      "application/vnd.google.colaboratory.intrinsic+json": {
       "summary": "{\n  \"name\": \"df\",\n  \"rows\": 8500,\n  \"fields\": [\n    {\n      \"column\": \"Short description\",\n      \"properties\": {\n        \"dtype\": \"string\",\n        \"num_unique_values\": 7481,\n        \"samples\": [\n          \"procenter login credential for new joiner\",\n          \"security incidents - ( in33426117 ) : correlation rule triggered: icmp ping failure\",\n          \"unable to connect vpn\"\n        ],\n        \"semantic_type\": \"\",\n        \"description\": \"\"\n      }\n    },\n    {\n      \"column\": \"Description\",\n      \"properties\": {\n        \"dtype\": \"string\",\n        \"num_unique_values\": 7817,\n        \"samples\": [\n          \"static sound from telephony_software phones : id : 2175968675 \",\n          \"received from: monitoring_tool@company.com_x000D_\\n_x000D_\\njob snp_heu_5_regen failed in job_scheduler at: 08/21/2016 13:45:00\",\n          \"hi khadfhty,\\n\\ntoday, i created another lean event but still the certificates are not sent automatically to the recipient's. i can see the certificates in the certificate list section. also, co-facilitator 2 name is not appearing in the certificate. same happened for the past event too.\\n\\nrequest you to kindly fix this issue on priority.\\n\"\n        ],\n        \"semantic_type\": \"\",\n        \"description\": \"\"\n      }\n    },\n    {\n      \"column\": \"Caller\",\n      \"properties\": {\n        \"dtype\": \"category\",\n        \"num_unique_values\": 2950,\n        \"samples\": [\n          \"omatlyrd bvraipdt\",\n          \"mtairqlh zuhyfmnp\",\n          \"thnrqxlc yczjdxwk\"\n        ],\n        \"semantic_type\": \"\",\n        \"description\": \"\"\n      }\n    },\n    {\n      \"column\": \"Assignment group\",\n      \"properties\": {\n        \"dtype\": \"category\",\n        \"num_unique_values\": 74,\n        \"samples\": [\n          \"GRP_5\",\n          \"GRP_63\",\n          \"GRP_19\"\n        ],\n        \"semantic_type\": \"\",\n        \"description\": \"\"\n      }\n    }\n  ]\n}",
       "type": "dataframe",
       "variable_name": "df"
      },
      "text/html": [
       "\n",
       "  <div id=\"df-1179f4d5-9e67-4179-b87d-8037dfd14b75\" class=\"colab-df-container\">\n",
       "    <div>\n",
       "<style scoped>\n",
       "    .dataframe tbody tr th:only-of-type {\n",
       "        vertical-align: middle;\n",
       "    }\n",
       "\n",
       "    .dataframe tbody tr th {\n",
       "        vertical-align: top;\n",
       "    }\n",
       "\n",
       "    .dataframe thead th {\n",
       "        text-align: right;\n",
       "    }\n",
       "</style>\n",
       "<table border=\"1\" class=\"dataframe\">\n",
       "  <thead>\n",
       "    <tr style=\"text-align: right;\">\n",
       "      <th></th>\n",
       "      <th>Short description</th>\n",
       "      <th>Description</th>\n",
       "      <th>Caller</th>\n",
       "      <th>Assignment group</th>\n",
       "    </tr>\n",
       "  </thead>\n",
       "  <tbody>\n",
       "    <tr>\n",
       "      <th>0</th>\n",
       "      <td>login issue</td>\n",
       "      <td>-verified user details.(employee# &amp; manager na...</td>\n",
       "      <td>spxjnwir pjlcoqds</td>\n",
       "      <td>GRP_0</td>\n",
       "    </tr>\n",
       "    <tr>\n",
       "      <th>1</th>\n",
       "      <td>outlook</td>\n",
       "      <td>_x000D_\\n_x000D_\\nreceived from: hmjdrvpb.komu...</td>\n",
       "      <td>hmjdrvpb komuaywn</td>\n",
       "      <td>GRP_0</td>\n",
       "    </tr>\n",
       "    <tr>\n",
       "      <th>2</th>\n",
       "      <td>cant log in to vpn</td>\n",
       "      <td>_x000D_\\n_x000D_\\nreceived from: eylqgodm.ybqk...</td>\n",
       "      <td>eylqgodm ybqkwiam</td>\n",
       "      <td>GRP_0</td>\n",
       "    </tr>\n",
       "    <tr>\n",
       "      <th>3</th>\n",
       "      <td>unable to access hr_tool page</td>\n",
       "      <td>unable to access hr_tool page</td>\n",
       "      <td>xbkucsvz gcpydteq</td>\n",
       "      <td>GRP_0</td>\n",
       "    </tr>\n",
       "    <tr>\n",
       "      <th>4</th>\n",
       "      <td>skype error</td>\n",
       "      <td>skype error</td>\n",
       "      <td>owlgqjme qhcozdfx</td>\n",
       "      <td>GRP_0</td>\n",
       "    </tr>\n",
       "  </tbody>\n",
       "</table>\n",
       "</div>\n",
       "    <div class=\"colab-df-buttons\">\n",
       "\n",
       "  <div class=\"colab-df-container\">\n",
       "    <button class=\"colab-df-convert\" onclick=\"convertToInteractive('df-1179f4d5-9e67-4179-b87d-8037dfd14b75')\"\n",
       "            title=\"Convert this dataframe to an interactive table.\"\n",
       "            style=\"display:none;\">\n",
       "\n",
       "  <svg xmlns=\"http://www.w3.org/2000/svg\" height=\"24px\" viewBox=\"0 -960 960 960\">\n",
       "    <path d=\"M120-120v-720h720v720H120Zm60-500h600v-160H180v160Zm220 220h160v-160H400v160Zm0 220h160v-160H400v160ZM180-400h160v-160H180v160Zm440 0h160v-160H620v160ZM180-180h160v-160H180v160Zm440 0h160v-160H620v160Z\"/>\n",
       "  </svg>\n",
       "    </button>\n",
       "\n",
       "  <style>\n",
       "    .colab-df-container {\n",
       "      display:flex;\n",
       "      gap: 12px;\n",
       "    }\n",
       "\n",
       "    .colab-df-convert {\n",
       "      background-color: #E8F0FE;\n",
       "      border: none;\n",
       "      border-radius: 50%;\n",
       "      cursor: pointer;\n",
       "      display: none;\n",
       "      fill: #1967D2;\n",
       "      height: 32px;\n",
       "      padding: 0 0 0 0;\n",
       "      width: 32px;\n",
       "    }\n",
       "\n",
       "    .colab-df-convert:hover {\n",
       "      background-color: #E2EBFA;\n",
       "      box-shadow: 0px 1px 2px rgba(60, 64, 67, 0.3), 0px 1px 3px 1px rgba(60, 64, 67, 0.15);\n",
       "      fill: #174EA6;\n",
       "    }\n",
       "\n",
       "    .colab-df-buttons div {\n",
       "      margin-bottom: 4px;\n",
       "    }\n",
       "\n",
       "    [theme=dark] .colab-df-convert {\n",
       "      background-color: #3B4455;\n",
       "      fill: #D2E3FC;\n",
       "    }\n",
       "\n",
       "    [theme=dark] .colab-df-convert:hover {\n",
       "      background-color: #434B5C;\n",
       "      box-shadow: 0px 1px 3px 1px rgba(0, 0, 0, 0.15);\n",
       "      filter: drop-shadow(0px 1px 2px rgba(0, 0, 0, 0.3));\n",
       "      fill: #FFFFFF;\n",
       "    }\n",
       "  </style>\n",
       "\n",
       "    <script>\n",
       "      const buttonEl =\n",
       "        document.querySelector('#df-1179f4d5-9e67-4179-b87d-8037dfd14b75 button.colab-df-convert');\n",
       "      buttonEl.style.display =\n",
       "        google.colab.kernel.accessAllowed ? 'block' : 'none';\n",
       "\n",
       "      async function convertToInteractive(key) {\n",
       "        const element = document.querySelector('#df-1179f4d5-9e67-4179-b87d-8037dfd14b75');\n",
       "        const dataTable =\n",
       "          await google.colab.kernel.invokeFunction('convertToInteractive',\n",
       "                                                    [key], {});\n",
       "        if (!dataTable) return;\n",
       "\n",
       "        const docLinkHtml = 'Like what you see? Visit the ' +\n",
       "          '<a target=\"_blank\" href=https://colab.research.google.com/notebooks/data_table.ipynb>data table notebook</a>'\n",
       "          + ' to learn more about interactive tables.';\n",
       "        element.innerHTML = '';\n",
       "        dataTable['output_type'] = 'display_data';\n",
       "        await google.colab.output.renderOutput(dataTable, element);\n",
       "        const docLink = document.createElement('div');\n",
       "        docLink.innerHTML = docLinkHtml;\n",
       "        element.appendChild(docLink);\n",
       "      }\n",
       "    </script>\n",
       "  </div>\n",
       "\n",
       "\n",
       "<div id=\"df-03c43278-e182-4437-822a-dcd934fe863b\">\n",
       "  <button class=\"colab-df-quickchart\" onclick=\"quickchart('df-03c43278-e182-4437-822a-dcd934fe863b')\"\n",
       "            title=\"Suggest charts\"\n",
       "            style=\"display:none;\">\n",
       "\n",
       "<svg xmlns=\"http://www.w3.org/2000/svg\" height=\"24px\"viewBox=\"0 0 24 24\"\n",
       "     width=\"24px\">\n",
       "    <g>\n",
       "        <path d=\"M19 3H5c-1.1 0-2 .9-2 2v14c0 1.1.9 2 2 2h14c1.1 0 2-.9 2-2V5c0-1.1-.9-2-2-2zM9 17H7v-7h2v7zm4 0h-2V7h2v10zm4 0h-2v-4h2v4z\"/>\n",
       "    </g>\n",
       "</svg>\n",
       "  </button>\n",
       "\n",
       "<style>\n",
       "  .colab-df-quickchart {\n",
       "      --bg-color: #E8F0FE;\n",
       "      --fill-color: #1967D2;\n",
       "      --hover-bg-color: #E2EBFA;\n",
       "      --hover-fill-color: #174EA6;\n",
       "      --disabled-fill-color: #AAA;\n",
       "      --disabled-bg-color: #DDD;\n",
       "  }\n",
       "\n",
       "  [theme=dark] .colab-df-quickchart {\n",
       "      --bg-color: #3B4455;\n",
       "      --fill-color: #D2E3FC;\n",
       "      --hover-bg-color: #434B5C;\n",
       "      --hover-fill-color: #FFFFFF;\n",
       "      --disabled-bg-color: #3B4455;\n",
       "      --disabled-fill-color: #666;\n",
       "  }\n",
       "\n",
       "  .colab-df-quickchart {\n",
       "    background-color: var(--bg-color);\n",
       "    border: none;\n",
       "    border-radius: 50%;\n",
       "    cursor: pointer;\n",
       "    display: none;\n",
       "    fill: var(--fill-color);\n",
       "    height: 32px;\n",
       "    padding: 0;\n",
       "    width: 32px;\n",
       "  }\n",
       "\n",
       "  .colab-df-quickchart:hover {\n",
       "    background-color: var(--hover-bg-color);\n",
       "    box-shadow: 0 1px 2px rgba(60, 64, 67, 0.3), 0 1px 3px 1px rgba(60, 64, 67, 0.15);\n",
       "    fill: var(--button-hover-fill-color);\n",
       "  }\n",
       "\n",
       "  .colab-df-quickchart-complete:disabled,\n",
       "  .colab-df-quickchart-complete:disabled:hover {\n",
       "    background-color: var(--disabled-bg-color);\n",
       "    fill: var(--disabled-fill-color);\n",
       "    box-shadow: none;\n",
       "  }\n",
       "\n",
       "  .colab-df-spinner {\n",
       "    border: 2px solid var(--fill-color);\n",
       "    border-color: transparent;\n",
       "    border-bottom-color: var(--fill-color);\n",
       "    animation:\n",
       "      spin 1s steps(1) infinite;\n",
       "  }\n",
       "\n",
       "  @keyframes spin {\n",
       "    0% {\n",
       "      border-color: transparent;\n",
       "      border-bottom-color: var(--fill-color);\n",
       "      border-left-color: var(--fill-color);\n",
       "    }\n",
       "    20% {\n",
       "      border-color: transparent;\n",
       "      border-left-color: var(--fill-color);\n",
       "      border-top-color: var(--fill-color);\n",
       "    }\n",
       "    30% {\n",
       "      border-color: transparent;\n",
       "      border-left-color: var(--fill-color);\n",
       "      border-top-color: var(--fill-color);\n",
       "      border-right-color: var(--fill-color);\n",
       "    }\n",
       "    40% {\n",
       "      border-color: transparent;\n",
       "      border-right-color: var(--fill-color);\n",
       "      border-top-color: var(--fill-color);\n",
       "    }\n",
       "    60% {\n",
       "      border-color: transparent;\n",
       "      border-right-color: var(--fill-color);\n",
       "    }\n",
       "    80% {\n",
       "      border-color: transparent;\n",
       "      border-right-color: var(--fill-color);\n",
       "      border-bottom-color: var(--fill-color);\n",
       "    }\n",
       "    90% {\n",
       "      border-color: transparent;\n",
       "      border-bottom-color: var(--fill-color);\n",
       "    }\n",
       "  }\n",
       "</style>\n",
       "\n",
       "  <script>\n",
       "    async function quickchart(key) {\n",
       "      const quickchartButtonEl =\n",
       "        document.querySelector('#' + key + ' button');\n",
       "      quickchartButtonEl.disabled = true;  // To prevent multiple clicks.\n",
       "      quickchartButtonEl.classList.add('colab-df-spinner');\n",
       "      try {\n",
       "        const charts = await google.colab.kernel.invokeFunction(\n",
       "            'suggestCharts', [key], {});\n",
       "      } catch (error) {\n",
       "        console.error('Error during call to suggestCharts:', error);\n",
       "      }\n",
       "      quickchartButtonEl.classList.remove('colab-df-spinner');\n",
       "      quickchartButtonEl.classList.add('colab-df-quickchart-complete');\n",
       "    }\n",
       "    (() => {\n",
       "      let quickchartButtonEl =\n",
       "        document.querySelector('#df-03c43278-e182-4437-822a-dcd934fe863b button');\n",
       "      quickchartButtonEl.style.display =\n",
       "        google.colab.kernel.accessAllowed ? 'block' : 'none';\n",
       "    })();\n",
       "  </script>\n",
       "</div>\n",
       "    </div>\n",
       "  </div>\n"
      ],
      "text/plain": [
       "               Short description  \\\n",
       "0                    login issue   \n",
       "1                        outlook   \n",
       "2             cant log in to vpn   \n",
       "3  unable to access hr_tool page   \n",
       "4                   skype error    \n",
       "\n",
       "                                         Description             Caller  \\\n",
       "0  -verified user details.(employee# & manager na...  spxjnwir pjlcoqds   \n",
       "1  _x000D_\\n_x000D_\\nreceived from: hmjdrvpb.komu...  hmjdrvpb komuaywn   \n",
       "2  _x000D_\\n_x000D_\\nreceived from: eylqgodm.ybqk...  eylqgodm ybqkwiam   \n",
       "3                      unable to access hr_tool page  xbkucsvz gcpydteq   \n",
       "4                                       skype error   owlgqjme qhcozdfx   \n",
       "\n",
       "  Assignment group  \n",
       "0            GRP_0  \n",
       "1            GRP_0  \n",
       "2            GRP_0  \n",
       "3            GRP_0  \n",
       "4            GRP_0  "
      ]
     },
     "execution_count": 3,
     "metadata": {},
     "output_type": "execute_result"
    }
   ],
   "source": [
    "df.head()"
   ]
  },
  {
   "cell_type": "code",
   "execution_count": 4,
   "metadata": {
    "colab": {
     "base_uri": "https://localhost:8080/",
     "height": 112
    },
    "id": "oHSmEX9as-5E",
    "outputId": "5a26f530-5507-4b39-809a-cc082f377220"
   },
   "outputs": [
    {
     "data": {
      "application/vnd.google.colaboratory.intrinsic+json": {
       "summary": "{\n  \"name\": \"df\",\n  \"rows\": 2,\n  \"fields\": [\n    {\n      \"column\": \"Short description\",\n      \"properties\": {\n        \"dtype\": \"string\",\n        \"num_unique_values\": 2,\n        \"samples\": [\n          \"an mehreren pc`s lassen sich verschiedene prgramdntyme nicht \\u00c3\\u00b6ffnen. \",\n          \"machine n\\u00c3\\u00a3o est\\u00c3\\u00a1 funcionando\"\n        ],\n        \"semantic_type\": \"\",\n        \"description\": \"\"\n      }\n    },\n    {\n      \"column\": \"Description\",\n      \"properties\": {\n        \"dtype\": \"string\",\n        \"num_unique_values\": 2,\n        \"samples\": [\n          \"an mehreren pc`s lassen sich verschiedene prgramdntyme nicht \\u00c3\\u00b6ffnen. bereich cnc.\",\n          \"i am unable to access the machine utilities to finish the drawers adjustment settings._x000D_\\nis no network..\"\n        ],\n        \"semantic_type\": \"\",\n        \"description\": \"\"\n      }\n    },\n    {\n      \"column\": \"Caller\",\n      \"properties\": {\n        \"dtype\": \"string\",\n        \"num_unique_values\": 2,\n        \"samples\": [\n          \"kqvbrspl jyzoklfx\",\n          \"ufawcgob aowhxjky\"\n        ],\n        \"semantic_type\": \"\",\n        \"description\": \"\"\n      }\n    },\n    {\n      \"column\": \"Assignment group\",\n      \"properties\": {\n        \"dtype\": \"string\",\n        \"num_unique_values\": 2,\n        \"samples\": [\n          \"GRP_49\",\n          \"GRP_62\"\n        ],\n        \"semantic_type\": \"\",\n        \"description\": \"\"\n      }\n    }\n  ]\n}",
       "type": "dataframe"
      },
      "text/html": [
       "\n",
       "  <div id=\"df-8b35ef67-deda-4fd6-a0e4-190bf2bfb386\" class=\"colab-df-container\">\n",
       "    <div>\n",
       "<style scoped>\n",
       "    .dataframe tbody tr th:only-of-type {\n",
       "        vertical-align: middle;\n",
       "    }\n",
       "\n",
       "    .dataframe tbody tr th {\n",
       "        vertical-align: top;\n",
       "    }\n",
       "\n",
       "    .dataframe thead th {\n",
       "        text-align: right;\n",
       "    }\n",
       "</style>\n",
       "<table border=\"1\" class=\"dataframe\">\n",
       "  <thead>\n",
       "    <tr style=\"text-align: right;\">\n",
       "      <th></th>\n",
       "      <th>Short description</th>\n",
       "      <th>Description</th>\n",
       "      <th>Caller</th>\n",
       "      <th>Assignment group</th>\n",
       "    </tr>\n",
       "  </thead>\n",
       "  <tbody>\n",
       "    <tr>\n",
       "      <th>8498</th>\n",
       "      <td>machine nÃ£o estÃ¡ funcionando</td>\n",
       "      <td>i am unable to access the machine utilities to...</td>\n",
       "      <td>ufawcgob aowhxjky</td>\n",
       "      <td>GRP_62</td>\n",
       "    </tr>\n",
       "    <tr>\n",
       "      <th>8499</th>\n",
       "      <td>an mehreren pc`s lassen sich verschiedene prgr...</td>\n",
       "      <td>an mehreren pc`s lassen sich verschiedene prgr...</td>\n",
       "      <td>kqvbrspl jyzoklfx</td>\n",
       "      <td>GRP_49</td>\n",
       "    </tr>\n",
       "  </tbody>\n",
       "</table>\n",
       "</div>\n",
       "    <div class=\"colab-df-buttons\">\n",
       "\n",
       "  <div class=\"colab-df-container\">\n",
       "    <button class=\"colab-df-convert\" onclick=\"convertToInteractive('df-8b35ef67-deda-4fd6-a0e4-190bf2bfb386')\"\n",
       "            title=\"Convert this dataframe to an interactive table.\"\n",
       "            style=\"display:none;\">\n",
       "\n",
       "  <svg xmlns=\"http://www.w3.org/2000/svg\" height=\"24px\" viewBox=\"0 -960 960 960\">\n",
       "    <path d=\"M120-120v-720h720v720H120Zm60-500h600v-160H180v160Zm220 220h160v-160H400v160Zm0 220h160v-160H400v160ZM180-400h160v-160H180v160Zm440 0h160v-160H620v160ZM180-180h160v-160H180v160Zm440 0h160v-160H620v160Z\"/>\n",
       "  </svg>\n",
       "    </button>\n",
       "\n",
       "  <style>\n",
       "    .colab-df-container {\n",
       "      display:flex;\n",
       "      gap: 12px;\n",
       "    }\n",
       "\n",
       "    .colab-df-convert {\n",
       "      background-color: #E8F0FE;\n",
       "      border: none;\n",
       "      border-radius: 50%;\n",
       "      cursor: pointer;\n",
       "      display: none;\n",
       "      fill: #1967D2;\n",
       "      height: 32px;\n",
       "      padding: 0 0 0 0;\n",
       "      width: 32px;\n",
       "    }\n",
       "\n",
       "    .colab-df-convert:hover {\n",
       "      background-color: #E2EBFA;\n",
       "      box-shadow: 0px 1px 2px rgba(60, 64, 67, 0.3), 0px 1px 3px 1px rgba(60, 64, 67, 0.15);\n",
       "      fill: #174EA6;\n",
       "    }\n",
       "\n",
       "    .colab-df-buttons div {\n",
       "      margin-bottom: 4px;\n",
       "    }\n",
       "\n",
       "    [theme=dark] .colab-df-convert {\n",
       "      background-color: #3B4455;\n",
       "      fill: #D2E3FC;\n",
       "    }\n",
       "\n",
       "    [theme=dark] .colab-df-convert:hover {\n",
       "      background-color: #434B5C;\n",
       "      box-shadow: 0px 1px 3px 1px rgba(0, 0, 0, 0.15);\n",
       "      filter: drop-shadow(0px 1px 2px rgba(0, 0, 0, 0.3));\n",
       "      fill: #FFFFFF;\n",
       "    }\n",
       "  </style>\n",
       "\n",
       "    <script>\n",
       "      const buttonEl =\n",
       "        document.querySelector('#df-8b35ef67-deda-4fd6-a0e4-190bf2bfb386 button.colab-df-convert');\n",
       "      buttonEl.style.display =\n",
       "        google.colab.kernel.accessAllowed ? 'block' : 'none';\n",
       "\n",
       "      async function convertToInteractive(key) {\n",
       "        const element = document.querySelector('#df-8b35ef67-deda-4fd6-a0e4-190bf2bfb386');\n",
       "        const dataTable =\n",
       "          await google.colab.kernel.invokeFunction('convertToInteractive',\n",
       "                                                    [key], {});\n",
       "        if (!dataTable) return;\n",
       "\n",
       "        const docLinkHtml = 'Like what you see? Visit the ' +\n",
       "          '<a target=\"_blank\" href=https://colab.research.google.com/notebooks/data_table.ipynb>data table notebook</a>'\n",
       "          + ' to learn more about interactive tables.';\n",
       "        element.innerHTML = '';\n",
       "        dataTable['output_type'] = 'display_data';\n",
       "        await google.colab.output.renderOutput(dataTable, element);\n",
       "        const docLink = document.createElement('div');\n",
       "        docLink.innerHTML = docLinkHtml;\n",
       "        element.appendChild(docLink);\n",
       "      }\n",
       "    </script>\n",
       "  </div>\n",
       "\n",
       "\n",
       "<div id=\"df-97b26b9e-eb5d-4054-b82c-5037233b8cb3\">\n",
       "  <button class=\"colab-df-quickchart\" onclick=\"quickchart('df-97b26b9e-eb5d-4054-b82c-5037233b8cb3')\"\n",
       "            title=\"Suggest charts\"\n",
       "            style=\"display:none;\">\n",
       "\n",
       "<svg xmlns=\"http://www.w3.org/2000/svg\" height=\"24px\"viewBox=\"0 0 24 24\"\n",
       "     width=\"24px\">\n",
       "    <g>\n",
       "        <path d=\"M19 3H5c-1.1 0-2 .9-2 2v14c0 1.1.9 2 2 2h14c1.1 0 2-.9 2-2V5c0-1.1-.9-2-2-2zM9 17H7v-7h2v7zm4 0h-2V7h2v10zm4 0h-2v-4h2v4z\"/>\n",
       "    </g>\n",
       "</svg>\n",
       "  </button>\n",
       "\n",
       "<style>\n",
       "  .colab-df-quickchart {\n",
       "      --bg-color: #E8F0FE;\n",
       "      --fill-color: #1967D2;\n",
       "      --hover-bg-color: #E2EBFA;\n",
       "      --hover-fill-color: #174EA6;\n",
       "      --disabled-fill-color: #AAA;\n",
       "      --disabled-bg-color: #DDD;\n",
       "  }\n",
       "\n",
       "  [theme=dark] .colab-df-quickchart {\n",
       "      --bg-color: #3B4455;\n",
       "      --fill-color: #D2E3FC;\n",
       "      --hover-bg-color: #434B5C;\n",
       "      --hover-fill-color: #FFFFFF;\n",
       "      --disabled-bg-color: #3B4455;\n",
       "      --disabled-fill-color: #666;\n",
       "  }\n",
       "\n",
       "  .colab-df-quickchart {\n",
       "    background-color: var(--bg-color);\n",
       "    border: none;\n",
       "    border-radius: 50%;\n",
       "    cursor: pointer;\n",
       "    display: none;\n",
       "    fill: var(--fill-color);\n",
       "    height: 32px;\n",
       "    padding: 0;\n",
       "    width: 32px;\n",
       "  }\n",
       "\n",
       "  .colab-df-quickchart:hover {\n",
       "    background-color: var(--hover-bg-color);\n",
       "    box-shadow: 0 1px 2px rgba(60, 64, 67, 0.3), 0 1px 3px 1px rgba(60, 64, 67, 0.15);\n",
       "    fill: var(--button-hover-fill-color);\n",
       "  }\n",
       "\n",
       "  .colab-df-quickchart-complete:disabled,\n",
       "  .colab-df-quickchart-complete:disabled:hover {\n",
       "    background-color: var(--disabled-bg-color);\n",
       "    fill: var(--disabled-fill-color);\n",
       "    box-shadow: none;\n",
       "  }\n",
       "\n",
       "  .colab-df-spinner {\n",
       "    border: 2px solid var(--fill-color);\n",
       "    border-color: transparent;\n",
       "    border-bottom-color: var(--fill-color);\n",
       "    animation:\n",
       "      spin 1s steps(1) infinite;\n",
       "  }\n",
       "\n",
       "  @keyframes spin {\n",
       "    0% {\n",
       "      border-color: transparent;\n",
       "      border-bottom-color: var(--fill-color);\n",
       "      border-left-color: var(--fill-color);\n",
       "    }\n",
       "    20% {\n",
       "      border-color: transparent;\n",
       "      border-left-color: var(--fill-color);\n",
       "      border-top-color: var(--fill-color);\n",
       "    }\n",
       "    30% {\n",
       "      border-color: transparent;\n",
       "      border-left-color: var(--fill-color);\n",
       "      border-top-color: var(--fill-color);\n",
       "      border-right-color: var(--fill-color);\n",
       "    }\n",
       "    40% {\n",
       "      border-color: transparent;\n",
       "      border-right-color: var(--fill-color);\n",
       "      border-top-color: var(--fill-color);\n",
       "    }\n",
       "    60% {\n",
       "      border-color: transparent;\n",
       "      border-right-color: var(--fill-color);\n",
       "    }\n",
       "    80% {\n",
       "      border-color: transparent;\n",
       "      border-right-color: var(--fill-color);\n",
       "      border-bottom-color: var(--fill-color);\n",
       "    }\n",
       "    90% {\n",
       "      border-color: transparent;\n",
       "      border-bottom-color: var(--fill-color);\n",
       "    }\n",
       "  }\n",
       "</style>\n",
       "\n",
       "  <script>\n",
       "    async function quickchart(key) {\n",
       "      const quickchartButtonEl =\n",
       "        document.querySelector('#' + key + ' button');\n",
       "      quickchartButtonEl.disabled = true;  // To prevent multiple clicks.\n",
       "      quickchartButtonEl.classList.add('colab-df-spinner');\n",
       "      try {\n",
       "        const charts = await google.colab.kernel.invokeFunction(\n",
       "            'suggestCharts', [key], {});\n",
       "      } catch (error) {\n",
       "        console.error('Error during call to suggestCharts:', error);\n",
       "      }\n",
       "      quickchartButtonEl.classList.remove('colab-df-spinner');\n",
       "      quickchartButtonEl.classList.add('colab-df-quickchart-complete');\n",
       "    }\n",
       "    (() => {\n",
       "      let quickchartButtonEl =\n",
       "        document.querySelector('#df-97b26b9e-eb5d-4054-b82c-5037233b8cb3 button');\n",
       "      quickchartButtonEl.style.display =\n",
       "        google.colab.kernel.accessAllowed ? 'block' : 'none';\n",
       "    })();\n",
       "  </script>\n",
       "</div>\n",
       "    </div>\n",
       "  </div>\n"
      ],
      "text/plain": [
       "                                      Short description  \\\n",
       "8498                     machine nÃ£o estÃ¡ funcionando   \n",
       "8499  an mehreren pc`s lassen sich verschiedene prgr...   \n",
       "\n",
       "                                            Description             Caller  \\\n",
       "8498  i am unable to access the machine utilities to...  ufawcgob aowhxjky   \n",
       "8499  an mehreren pc`s lassen sich verschiedene prgr...  kqvbrspl jyzoklfx   \n",
       "\n",
       "     Assignment group  \n",
       "8498           GRP_62  \n",
       "8499           GRP_49  "
      ]
     },
     "execution_count": 4,
     "metadata": {},
     "output_type": "execute_result"
    }
   ],
   "source": [
    "df.tail(2)"
   ]
  },
  {
   "cell_type": "code",
   "execution_count": 5,
   "metadata": {
    "colab": {
     "base_uri": "https://localhost:8080/"
    },
    "id": "6txx65PZsYMA",
    "outputId": "c328b2ba-f292-42ae-b642-5548dc5a1e50"
   },
   "outputs": [
    {
     "name": "stdout",
     "output_type": "stream",
     "text": [
      "<class 'pandas.core.frame.DataFrame'>\n",
      "RangeIndex: 8500 entries, 0 to 8499\n",
      "Data columns (total 4 columns):\n",
      " #   Column             Non-Null Count  Dtype \n",
      "---  ------             --------------  ----- \n",
      " 0   Short description  8492 non-null   object\n",
      " 1   Description        8499 non-null   object\n",
      " 2   Caller             8500 non-null   object\n",
      " 3   Assignment group   8500 non-null   object\n",
      "dtypes: object(4)\n",
      "memory usage: 265.8+ KB\n"
     ]
    }
   ],
   "source": [
    "df.info()"
   ]
  },
  {
   "cell_type": "code",
   "execution_count": 6,
   "metadata": {
    "colab": {
     "base_uri": "https://localhost:8080/"
    },
    "id": "Fp-pTcWQs9Mi",
    "outputId": "ff980df0-60fb-4545-a714-114f1d2174a7"
   },
   "outputs": [
    {
     "data": {
      "text/plain": [
       "Assignment group\n",
       "GRP_0     3976\n",
       "GRP_8      661\n",
       "GRP_24     289\n",
       "GRP_12     257\n",
       "GRP_9      252\n",
       "          ... \n",
       "GRP_64       1\n",
       "GRP_67       1\n",
       "GRP_35       1\n",
       "GRP_70       1\n",
       "GRP_73       1\n",
       "Name: count, Length: 74, dtype: int64"
      ]
     },
     "execution_count": 6,
     "metadata": {},
     "output_type": "execute_result"
    }
   ],
   "source": [
    "df['Assignment group'].value_counts()"
   ]
  },
  {
   "cell_type": "code",
   "execution_count": 7,
   "metadata": {
    "colab": {
     "base_uri": "https://localhost:8080/"
    },
    "id": "lbpVYnPwtQGR",
    "outputId": "fb6042fe-fddf-4b83-d647-4bed39f4f672"
   },
   "outputs": [
    {
     "data": {
      "text/plain": [
       "74"
      ]
     },
     "execution_count": 7,
     "metadata": {},
     "output_type": "execute_result"
    }
   ],
   "source": [
    "df['Assignment group'].nunique()"
   ]
  },
  {
   "cell_type": "code",
   "execution_count": 8,
   "metadata": {
    "colab": {
     "base_uri": "https://localhost:8080/",
     "height": 467
    },
    "id": "jtkL-xMIt3To",
    "outputId": "f59dd473-9a6f-4550-dc02-ab8af727dba3"
   },
   "outputs": [
    {
     "data": {
      "text/plain": [
       "<Axes: xlabel='Assignment group', ylabel='count'>"
      ]
     },
     "execution_count": 8,
     "metadata": {},
     "output_type": "execute_result"
    },
    {
     "data": {
      "image/png": "[encoded data removed]",
      "text/plain": [
       "<Figure size 640x480 with 1 Axes>"
      ]
     },
     "metadata": {},
     "output_type": "display_data"
    }
   ],
   "source": [
    "sns.barplot(df['Assignment group'].value_counts())"
   ]
  },
  {
   "cell_type": "markdown",
   "metadata": {
    "id": "TVia7VLJhhFK"
   },
   "source": [
    "### Observation\n",
    "- Imbalanced target classes"
   ]
  },
  {
   "cell_type": "code",
   "execution_count": 9,
   "metadata": {
    "colab": {
     "base_uri": "https://localhost:8080/",
     "height": 206
    },
    "id": "uep5jsazuEUb",
    "outputId": "1227285b-ed1b-4155-cb24-9076dd6d8e47"
   },
   "outputs": [
    {
     "data": {
      "application/vnd.google.colaboratory.intrinsic+json": {
       "summary": "{\n  \"name\": \"df[df['Assignment group']=='GRP_0']\",\n  \"rows\": 5,\n  \"fields\": [\n    {\n      \"column\": \"Short description\",\n      \"properties\": {\n        \"dtype\": \"string\",\n        \"num_unique_values\": 5,\n        \"samples\": [\n          \"outlook\",\n          \"skype error \",\n          \"cant log in to vpn\"\n        ],\n        \"semantic_type\": \"\",\n        \"description\": \"\"\n      }\n    },\n    {\n      \"column\": \"Description\",\n      \"properties\": {\n        \"dtype\": \"string\",\n        \"num_unique_values\": 5,\n        \"samples\": [\n          \"_x000D_\\n_x000D_\\nreceived from: hmjdrvpb.komuaywn@gmail.com_x000D_\\n_x000D_\\nhello team,_x000D_\\n_x000D_\\nmy meetings/skype meetings etc are not appearing in my outlook calendar, can somebody please advise how to correct this?_x000D_\\n_x000D_\\nkind \",\n          \"skype error \",\n          \"_x000D_\\n_x000D_\\nreceived from: eylqgodm.ybqkwiam@gmail.com_x000D_\\n_x000D_\\nhi_x000D_\\n_x000D_\\ni cannot log on to vpn_x000D_\\n_x000D_\\nbest \"\n        ],\n        \"semantic_type\": \"\",\n        \"description\": \"\"\n      }\n    },\n    {\n      \"column\": \"Caller\",\n      \"properties\": {\n        \"dtype\": \"string\",\n        \"num_unique_values\": 5,\n        \"samples\": [\n          \"hmjdrvpb komuaywn\",\n          \"owlgqjme qhcozdfx\",\n          \"eylqgodm ybqkwiam\"\n        ],\n        \"semantic_type\": \"\",\n        \"description\": \"\"\n      }\n    },\n    {\n      \"column\": \"Assignment group\",\n      \"properties\": {\n        \"dtype\": \"category\",\n        \"num_unique_values\": 1,\n        \"samples\": [\n          \"GRP_0\"\n        ],\n        \"semantic_type\": \"\",\n        \"description\": \"\"\n      }\n    }\n  ]\n}",
       "type": "dataframe"
      },
      "text/html": [
       "\n",
       "  <div id=\"df-28aff4ec-3265-42d1-b8cb-b733f5bbb586\" class=\"colab-df-container\">\n",
       "    <div>\n",
       "<style scoped>\n",
       "    .dataframe tbody tr th:only-of-type {\n",
       "        vertical-align: middle;\n",
       "    }\n",
       "\n",
       "    .dataframe tbody tr th {\n",
       "        vertical-align: top;\n",
       "    }\n",
       "\n",
       "    .dataframe thead th {\n",
       "        text-align: right;\n",
       "    }\n",
       "</style>\n",
       "<table border=\"1\" class=\"dataframe\">\n",
       "  <thead>\n",
       "    <tr style=\"text-align: right;\">\n",
       "      <th></th>\n",
       "      <th>Short description</th>\n",
       "      <th>Description</th>\n",
       "      <th>Caller</th>\n",
       "      <th>Assignment group</th>\n",
       "    </tr>\n",
       "  </thead>\n",
       "  <tbody>\n",
       "    <tr>\n",
       "      <th>0</th>\n",
       "      <td>login issue</td>\n",
       "      <td>-verified user details.(employee# &amp; manager na...</td>\n",
       "      <td>spxjnwir pjlcoqds</td>\n",
       "      <td>GRP_0</td>\n",
       "    </tr>\n",
       "    <tr>\n",
       "      <th>1</th>\n",
       "      <td>outlook</td>\n",
       "      <td>_x000D_\\n_x000D_\\nreceived from: hmjdrvpb.komu...</td>\n",
       "      <td>hmjdrvpb komuaywn</td>\n",
       "      <td>GRP_0</td>\n",
       "    </tr>\n",
       "    <tr>\n",
       "      <th>2</th>\n",
       "      <td>cant log in to vpn</td>\n",
       "      <td>_x000D_\\n_x000D_\\nreceived from: eylqgodm.ybqk...</td>\n",
       "      <td>eylqgodm ybqkwiam</td>\n",
       "      <td>GRP_0</td>\n",
       "    </tr>\n",
       "    <tr>\n",
       "      <th>3</th>\n",
       "      <td>unable to access hr_tool page</td>\n",
       "      <td>unable to access hr_tool page</td>\n",
       "      <td>xbkucsvz gcpydteq</td>\n",
       "      <td>GRP_0</td>\n",
       "    </tr>\n",
       "    <tr>\n",
       "      <th>4</th>\n",
       "      <td>skype error</td>\n",
       "      <td>skype error</td>\n",
       "      <td>owlgqjme qhcozdfx</td>\n",
       "      <td>GRP_0</td>\n",
       "    </tr>\n",
       "  </tbody>\n",
       "</table>\n",
       "</div>\n",
       "    <div class=\"colab-df-buttons\">\n",
       "\n",
       "  <div class=\"colab-df-container\">\n",
       "    <button class=\"colab-df-convert\" onclick=\"convertToInteractive('df-28aff4ec-3265-42d1-b8cb-b733f5bbb586')\"\n",
       "            title=\"Convert this dataframe to an interactive table.\"\n",
       "            style=\"display:none;\">\n",
       "\n",
       "  <svg xmlns=\"http://www.w3.org/2000/svg\" height=\"24px\" viewBox=\"0 -960 960 960\">\n",
       "    <path d=\"M120-120v-720h720v720H120Zm60-500h600v-160H180v160Zm220 220h160v-160H400v160Zm0 220h160v-160H400v160ZM180-400h160v-160H180v160Zm440 0h160v-160H620v160ZM180-180h160v-160H180v160Zm440 0h160v-160H620v160Z\"/>\n",
       "  </svg>\n",
       "    </button>\n",
       "\n",
       "  <style>\n",
       "    .colab-df-container {\n",
       "      display:flex;\n",
       "      gap: 12px;\n",
       "    }\n",
       "\n",
       "    .colab-df-convert {\n",
       "      background-color: #E8F0FE;\n",
       "      border: none;\n",
       "      border-radius: 50%;\n",
       "      cursor: pointer;\n",
       "      display: none;\n",
       "      fill: #1967D2;\n",
       "      height: 32px;\n",
       "      padding: 0 0 0 0;\n",
       "      width: 32px;\n",
       "    }\n",
       "\n",
       "    .colab-df-convert:hover {\n",
       "      background-color: #E2EBFA;\n",
       "      box-shadow: 0px 1px 2px rgba(60, 64, 67, 0.3), 0px 1px 3px 1px rgba(60, 64, 67, 0.15);\n",
       "      fill: #174EA6;\n",
       "    }\n",
       "\n",
       "    .colab-df-buttons div {\n",
       "      margin-bottom: 4px;\n",
       "    }\n",
       "\n",
       "    [theme=dark] .colab-df-convert {\n",
       "      background-color: #3B4455;\n",
       "      fill: #D2E3FC;\n",
       "    }\n",
       "\n",
       "    [theme=dark] .colab-df-convert:hover {\n",
       "      background-color: #434B5C;\n",
       "      box-shadow: 0px 1px 3px 1px rgba(0, 0, 0, 0.15);\n",
       "      filter: drop-shadow(0px 1px 2px rgba(0, 0, 0, 0.3));\n",
       "      fill: #FFFFFF;\n",
       "    }\n",
       "  </style>\n",
       "\n",
       "    <script>\n",
       "      const buttonEl =\n",
       "        document.querySelector('#df-28aff4ec-3265-42d1-b8cb-b733f5bbb586 button.colab-df-convert');\n",
       "      buttonEl.style.display =\n",
       "        google.colab.kernel.accessAllowed ? 'block' : 'none';\n",
       "\n",
       "      async function convertToInteractive(key) {\n",
       "        const element = document.querySelector('#df-28aff4ec-3265-42d1-b8cb-b733f5bbb586');\n",
       "        const dataTable =\n",
       "          await google.colab.kernel.invokeFunction('convertToInteractive',\n",
       "                                                    [key], {});\n",
       "        if (!dataTable) return;\n",
       "\n",
       "        const docLinkHtml = 'Like what you see? Visit the ' +\n",
       "          '<a target=\"_blank\" href=https://colab.research.google.com/notebooks/data_table.ipynb>data table notebook</a>'\n",
       "          + ' to learn more about interactive tables.';\n",
       "        element.innerHTML = '';\n",
       "        dataTable['output_type'] = 'display_data';\n",
       "        await google.colab.output.renderOutput(dataTable, element);\n",
       "        const docLink = document.createElement('div');\n",
       "        docLink.innerHTML = docLinkHtml;\n",
       "        element.appendChild(docLink);\n",
       "      }\n",
       "    </script>\n",
       "  </div>\n",
       "\n",
       "\n",
       "<div id=\"df-5a27e2b2-a57d-48da-9fdf-9854e31d4057\">\n",
       "  <button class=\"colab-df-quickchart\" onclick=\"quickchart('df-5a27e2b2-a57d-48da-9fdf-9854e31d4057')\"\n",
       "            title=\"Suggest charts\"\n",
       "            style=\"display:none;\">\n",
       "\n",
       "<svg xmlns=\"http://www.w3.org/2000/svg\" height=\"24px\"viewBox=\"0 0 24 24\"\n",
       "     width=\"24px\">\n",
       "    <g>\n",
       "        <path d=\"M19 3H5c-1.1 0-2 .9-2 2v14c0 1.1.9 2 2 2h14c1.1 0 2-.9 2-2V5c0-1.1-.9-2-2-2zM9 17H7v-7h2v7zm4 0h-2V7h2v10zm4 0h-2v-4h2v4z\"/>\n",
       "    </g>\n",
       "</svg>\n",
       "  </button>\n",
       "\n",
       "<style>\n",
       "  .colab-df-quickchart {\n",
       "      --bg-color: #E8F0FE;\n",
       "      --fill-color: #1967D2;\n",
       "      --hover-bg-color: #E2EBFA;\n",
       "      --hover-fill-color: #174EA6;\n",
       "      --disabled-fill-color: #AAA;\n",
       "      --disabled-bg-color: #DDD;\n",
       "  }\n",
       "\n",
       "  [theme=dark] .colab-df-quickchart {\n",
       "      --bg-color: #3B4455;\n",
       "      --fill-color: #D2E3FC;\n",
       "      --hover-bg-color: #434B5C;\n",
       "      --hover-fill-color: #FFFFFF;\n",
       "      --disabled-bg-color: #3B4455;\n",
       "      --disabled-fill-color: #666;\n",
       "  }\n",
       "\n",
       "  .colab-df-quickchart {\n",
       "    background-color: var(--bg-color);\n",
       "    border: none;\n",
       "    border-radius: 50%;\n",
       "    cursor: pointer;\n",
       "    display: none;\n",
       "    fill: var(--fill-color);\n",
       "    height: 32px;\n",
       "    padding: 0;\n",
       "    width: 32px;\n",
       "  }\n",
       "\n",
       "  .colab-df-quickchart:hover {\n",
       "    background-color: var(--hover-bg-color);\n",
       "    box-shadow: 0 1px 2px rgba(60, 64, 67, 0.3), 0 1px 3px 1px rgba(60, 64, 67, 0.15);\n",
       "    fill: var(--button-hover-fill-color);\n",
       "  }\n",
       "\n",
       "  .colab-df-quickchart-complete:disabled,\n",
       "  .colab-df-quickchart-complete:disabled:hover {\n",
       "    background-color: var(--disabled-bg-color);\n",
       "    fill: var(--disabled-fill-color);\n",
       "    box-shadow: none;\n",
       "  }\n",
       "\n",
       "  .colab-df-spinner {\n",
       "    border: 2px solid var(--fill-color);\n",
       "    border-color: transparent;\n",
       "    border-bottom-color: var(--fill-color);\n",
       "    animation:\n",
       "      spin 1s steps(1) infinite;\n",
       "  }\n",
       "\n",
       "  @keyframes spin {\n",
       "    0% {\n",
       "      border-color: transparent;\n",
       "      border-bottom-color: var(--fill-color);\n",
       "      border-left-color: var(--fill-color);\n",
       "    }\n",
       "    20% {\n",
       "      border-color: transparent;\n",
       "      border-left-color: var(--fill-color);\n",
       "      border-top-color: var(--fill-color);\n",
       "    }\n",
       "    30% {\n",
       "      border-color: transparent;\n",
       "      border-left-color: var(--fill-color);\n",
       "      border-top-color: var(--fill-color);\n",
       "      border-right-color: var(--fill-color);\n",
       "    }\n",
       "    40% {\n",
       "      border-color: transparent;\n",
       "      border-right-color: var(--fill-color);\n",
       "      border-top-color: var(--fill-color);\n",
       "    }\n",
       "    60% {\n",
       "      border-color: transparent;\n",
       "      border-right-color: var(--fill-color);\n",
       "    }\n",
       "    80% {\n",
       "      border-color: transparent;\n",
       "      border-right-color: var(--fill-color);\n",
       "      border-bottom-color: var(--fill-color);\n",
       "    }\n",
       "    90% {\n",
       "      border-color: transparent;\n",
       "      border-bottom-color: var(--fill-color);\n",
       "    }\n",
       "  }\n",
       "</style>\n",
       "\n",
       "  <script>\n",
       "    async function quickchart(key) {\n",
       "      const quickchartButtonEl =\n",
       "        document.querySelector('#' + key + ' button');\n",
       "      quickchartButtonEl.disabled = true;  // To prevent multiple clicks.\n",
       "      quickchartButtonEl.classList.add('colab-df-spinner');\n",
       "      try {\n",
       "        const charts = await google.colab.kernel.invokeFunction(\n",
       "            'suggestCharts', [key], {});\n",
       "      } catch (error) {\n",
       "        console.error('Error during call to suggestCharts:', error);\n",
       "      }\n",
       "      quickchartButtonEl.classList.remove('colab-df-spinner');\n",
       "      quickchartButtonEl.classList.add('colab-df-quickchart-complete');\n",
       "    }\n",
       "    (() => {\n",
       "      let quickchartButtonEl =\n",
       "        document.querySelector('#df-5a27e2b2-a57d-48da-9fdf-9854e31d4057 button');\n",
       "      quickchartButtonEl.style.display =\n",
       "        google.colab.kernel.accessAllowed ? 'block' : 'none';\n",
       "    })();\n",
       "  </script>\n",
       "</div>\n",
       "    </div>\n",
       "  </div>\n"
      ],
      "text/plain": [
       "               Short description  \\\n",
       "0                    login issue   \n",
       "1                        outlook   \n",
       "2             cant log in to vpn   \n",
       "3  unable to access hr_tool page   \n",
       "4                   skype error    \n",
       "\n",
       "                                         Description             Caller  \\\n",
       "0  -verified user details.(employee# & manager na...  spxjnwir pjlcoqds   \n",
       "1  _x000D_\\n_x000D_\\nreceived from: hmjdrvpb.komu...  hmjdrvpb komuaywn   \n",
       "2  _x000D_\\n_x000D_\\nreceived from: eylqgodm.ybqk...  eylqgodm ybqkwiam   \n",
       "3                      unable to access hr_tool page  xbkucsvz gcpydteq   \n",
       "4                                       skype error   owlgqjme qhcozdfx   \n",
       "\n",
       "  Assignment group  \n",
       "0            GRP_0  \n",
       "1            GRP_0  \n",
       "2            GRP_0  \n",
       "3            GRP_0  \n",
       "4            GRP_0  "
      ]
     },
     "execution_count": 9,
     "metadata": {},
     "output_type": "execute_result"
    }
   ],
   "source": [
    "df[df['Assignment group']=='GRP_0'].head()"
   ]
  },
  {
   "cell_type": "code",
   "execution_count": 10,
   "metadata": {
    "colab": {
     "base_uri": "https://localhost:8080/",
     "height": 81
    },
    "id": "7Mp0y2l7uV_A",
    "outputId": "fc4dbedd-331b-4c3a-be45-4463bd4dc8a6"
   },
   "outputs": [
    {
     "data": {
      "application/vnd.google.colaboratory.intrinsic+json": {
       "summary": "{\n  \"name\": \"df[df['Assignment group']=='GRP_73']\",\n  \"rows\": 1,\n  \"fields\": [\n    {\n      \"column\": \"Short description\",\n      \"properties\": {\n        \"dtype\": \"string\",\n        \"num_unique_values\": 1,\n        \"samples\": [\n          \"oneteam sso not working\"\n        ],\n        \"semantic_type\": \"\",\n        \"description\": \"\"\n      }\n    },\n    {\n      \"column\": \"Description\",\n      \"properties\": {\n        \"dtype\": \"string\",\n        \"num_unique_values\": 1,\n        \"samples\": [\n          \"i'm unable to log in to hr_tool/oneteam through the sso portal on the hub. whenever i click on the oneteam link in the portal i'm taken to a login screen instead of being logged directly into the system. i have tried clearing my browser cache and i've tried logging in using both ie and firefox. \"\n        ],\n        \"semantic_type\": \"\",\n        \"description\": \"\"\n      }\n    },\n    {\n      \"column\": \"Caller\",\n      \"properties\": {\n        \"dtype\": \"string\",\n        \"num_unique_values\": 1,\n        \"samples\": [\n          \"kcnosyae zlpmfxgs\"\n        ],\n        \"semantic_type\": \"\",\n        \"description\": \"\"\n      }\n    },\n    {\n      \"column\": \"Assignment group\",\n      \"properties\": {\n        \"dtype\": \"string\",\n        \"num_unique_values\": 1,\n        \"samples\": [\n          \"GRP_73\"\n        ],\n        \"semantic_type\": \"\",\n        \"description\": \"\"\n      }\n    }\n  ]\n}",
       "type": "dataframe"
      },
      "text/html": [
       "\n",
       "  <div id=\"df-e7cf7890-efcc-42b3-ba40-70f8597ab4d1\" class=\"colab-df-container\">\n",
       "    <div>\n",
       "<style scoped>\n",
       "    .dataframe tbody tr th:only-of-type {\n",
       "        vertical-align: middle;\n",
       "    }\n",
       "\n",
       "    .dataframe tbody tr th {\n",
       "        vertical-align: top;\n",
       "    }\n",
       "\n",
       "    .dataframe thead th {\n",
       "        text-align: right;\n",
       "    }\n",
       "</style>\n",
       "<table border=\"1\" class=\"dataframe\">\n",
       "  <thead>\n",
       "    <tr style=\"text-align: right;\">\n",
       "      <th></th>\n",
       "      <th>Short description</th>\n",
       "      <th>Description</th>\n",
       "      <th>Caller</th>\n",
       "      <th>Assignment group</th>\n",
       "    </tr>\n",
       "  </thead>\n",
       "  <tbody>\n",
       "    <tr>\n",
       "      <th>8197</th>\n",
       "      <td>oneteam sso not working</td>\n",
       "      <td>i'm unable to log in to hr_tool/oneteam throug...</td>\n",
       "      <td>kcnosyae zlpmfxgs</td>\n",
       "      <td>GRP_73</td>\n",
       "    </tr>\n",
       "  </tbody>\n",
       "</table>\n",
       "</div>\n",
       "    <div class=\"colab-df-buttons\">\n",
       "\n",
       "  <div class=\"colab-df-container\">\n",
       "    <button class=\"colab-df-convert\" onclick=\"convertToInteractive('df-e7cf7890-efcc-42b3-ba40-70f8597ab4d1')\"\n",
       "            title=\"Convert this dataframe to an interactive table.\"\n",
       "            style=\"display:none;\">\n",
       "\n",
       "  <svg xmlns=\"http://www.w3.org/2000/svg\" height=\"24px\" viewBox=\"0 -960 960 960\">\n",
       "    <path d=\"M120-120v-720h720v720H120Zm60-500h600v-160H180v160Zm220 220h160v-160H400v160Zm0 220h160v-160H400v160ZM180-400h160v-160H180v160Zm440 0h160v-160H620v160ZM180-180h160v-160H180v160Zm440 0h160v-160H620v160Z\"/>\n",
       "  </svg>\n",
       "    </button>\n",
       "\n",
       "  <style>\n",
       "    .colab-df-container {\n",
       "      display:flex;\n",
       "      gap: 12px;\n",
       "    }\n",
       "\n",
       "    .colab-df-convert {\n",
       "      background-color: #E8F0FE;\n",
       "      border: none;\n",
       "      border-radius: 50%;\n",
       "      cursor: pointer;\n",
       "      display: none;\n",
       "      fill: #1967D2;\n",
       "      height: 32px;\n",
       "      padding: 0 0 0 0;\n",
       "      width: 32px;\n",
       "    }\n",
       "\n",
       "    .colab-df-convert:hover {\n",
       "      background-color: #E2EBFA;\n",
       "      box-shadow: 0px 1px 2px rgba(60, 64, 67, 0.3), 0px 1px 3px 1px rgba(60, 64, 67, 0.15);\n",
       "      fill: #174EA6;\n",
       "    }\n",
       "\n",
       "    .colab-df-buttons div {\n",
       "      margin-bottom: 4px;\n",
       "    }\n",
       "\n",
       "    [theme=dark] .colab-df-convert {\n",
       "      background-color: #3B4455;\n",
       "      fill: #D2E3FC;\n",
       "    }\n",
       "\n",
       "    [theme=dark] .colab-df-convert:hover {\n",
       "      background-color: #434B5C;\n",
       "      box-shadow: 0px 1px 3px 1px rgba(0, 0, 0, 0.15);\n",
       "      filter: drop-shadow(0px 1px 2px rgba(0, 0, 0, 0.3));\n",
       "      fill: #FFFFFF;\n",
       "    }\n",
       "  </style>\n",
       "\n",
       "    <script>\n",
       "      const buttonEl =\n",
       "        document.querySelector('#df-e7cf7890-efcc-42b3-ba40-70f8597ab4d1 button.colab-df-convert');\n",
       "      buttonEl.style.display =\n",
       "        google.colab.kernel.accessAllowed ? 'block' : 'none';\n",
       "\n",
       "      async function convertToInteractive(key) {\n",
       "        const element = document.querySelector('#df-e7cf7890-efcc-42b3-ba40-70f8597ab4d1');\n",
       "        const dataTable =\n",
       "          await google.colab.kernel.invokeFunction('convertToInteractive',\n",
       "                                                    [key], {});\n",
       "        if (!dataTable) return;\n",
       "\n",
       "        const docLinkHtml = 'Like what you see? Visit the ' +\n",
       "          '<a target=\"_blank\" href=https://colab.research.google.com/notebooks/data_table.ipynb>data table notebook</a>'\n",
       "          + ' to learn more about interactive tables.';\n",
       "        element.innerHTML = '';\n",
       "        dataTable['output_type'] = 'display_data';\n",
       "        await google.colab.output.renderOutput(dataTable, element);\n",
       "        const docLink = document.createElement('div');\n",
       "        docLink.innerHTML = docLinkHtml;\n",
       "        element.appendChild(docLink);\n",
       "      }\n",
       "    </script>\n",
       "  </div>\n",
       "\n",
       "    </div>\n",
       "  </div>\n"
      ],
      "text/plain": [
       "            Short description  \\\n",
       "8197  oneteam sso not working   \n",
       "\n",
       "                                            Description             Caller  \\\n",
       "8197  i'm unable to log in to hr_tool/oneteam throug...  kcnosyae zlpmfxgs   \n",
       "\n",
       "     Assignment group  \n",
       "8197           GRP_73  "
      ]
     },
     "execution_count": 10,
     "metadata": {},
     "output_type": "execute_result"
    }
   ],
   "source": [
    "df[df['Assignment group']=='GRP_73'].head()"
   ]
  },
  {
   "cell_type": "code",
   "execution_count": 11,
   "metadata": {
    "colab": {
     "base_uri": "https://localhost:8080/"
    },
    "id": "ivdduB90uaXA",
    "outputId": "b71017a2-9190-4e56-ec31-49c4301f4d11"
   },
   "outputs": [
    {
     "data": {
      "text/plain": [
       "2950"
      ]
     },
     "execution_count": 11,
     "metadata": {},
     "output_type": "execute_result"
    }
   ],
   "source": [
    "df['Caller'].nunique()"
   ]
  },
  {
   "cell_type": "code",
   "execution_count": 12,
   "metadata": {
    "colab": {
     "base_uri": "https://localhost:8080/"
    },
    "id": "BRhkdB-jvx8H",
    "outputId": "d35e3c6f-60f9-462f-dcc0-158651e8a319"
   },
   "outputs": [
    {
     "data": {
      "text/plain": [
       "74"
      ]
     },
     "execution_count": 12,
     "metadata": {},
     "output_type": "execute_result"
    }
   ],
   "source": [
    "dropped_df = df.dropna()\n",
    "dropped_df['Assignment group'].nunique()"
   ]
  },
  {
   "cell_type": "markdown",
   "metadata": {
    "id": "roLltDOrw73k"
   },
   "source": [
    "## Observations:\n",
    "- After droping null values, we have all the target classes, so we can remove safely"
   ]
  },
  {
   "cell_type": "code",
   "execution_count": 13,
   "metadata": {
    "colab": {
     "base_uri": "https://localhost:8080/"
    },
    "id": "jmyRh71CwRfK",
    "outputId": "92b98271-999c-4f93-e2c5-e967e2d673ad"
   },
   "outputs": [
    {
     "data": {
      "text/plain": [
       "Caller\n",
       "bpctwhsn kzqsbmtp    16\n",
       "jloygrwh acvztedi    15\n",
       "spxqmiry zpwgoqju    15\n",
       "afkstcev utbnkyop    13\n",
       "rkupnshb gsmzfojw    12\n",
       "                     ..\n",
       "krynlisw dqfeglkc     1\n",
       "ksmjylwg syihalqv     1\n",
       "ksxchbaf rhquvzfm     1\n",
       "ksxjcvze ognyetrp     1\n",
       "zyxjagro vjgozhpn     1\n",
       "Name: Assignment group, Length: 2948, dtype: int64"
      ]
     },
     "execution_count": 13,
     "metadata": {},
     "output_type": "execute_result"
    }
   ],
   "source": [
    "dropped_df.groupby(['Caller'])['Assignment group'].nunique().sort_values(ascending=False)"
   ]
  },
  {
   "cell_type": "markdown",
   "metadata": {
    "id": "Wt3KvkO22hKR"
   },
   "source": [
    "## Observation\n",
    "- Above shows the distribution of the caller among type of incident(groups) it belongs to\n",
    "- caller 'bpctwhsn kzqsbmtp' has raised 16 type of incident which are assigned to 16 different group to resolve\n"
   ]
  },
  {
   "cell_type": "code",
   "execution_count": 14,
   "metadata": {
    "colab": {
     "base_uri": "https://localhost:8080/"
    },
    "id": "B72iVuKj1vru",
    "outputId": "ce16e7b9-e106-4a7e-a1f0-82521876dd3d"
   },
   "outputs": [
    {
     "data": {
      "text/plain": [
       "Caller\n",
       "bpctwhsn kzqsbmtp    810\n",
       "ZkBogxib QsEJzdZO    151\n",
       "fumkcsji sarmtlhy    134\n",
       "rbozivdq gmlhrtvp     87\n",
       "rkupnshb gsmzfojw     71\n",
       "                    ... \n",
       "qnigujek kopqcjdh      1\n",
       "qnazgxml lbmukxey      1\n",
       "hejsrtpz pxqwbulg      1\n",
       "qmpyjfbn zlyiwtch      1\n",
       "nhrwdaep orvxhyiw      1\n",
       "Name: Assignment group, Length: 2948, dtype: int64"
      ]
     },
     "execution_count": 14,
     "metadata": {},
     "output_type": "execute_result"
    }
   ],
   "source": [
    "dropped_df.groupby(['Caller'])['Assignment group'].count().sort_values(ascending=False)"
   ]
  },
  {
   "cell_type": "markdown",
   "metadata": {
    "id": "Q8KnJ-QR56Lf"
   },
   "source": [
    "## Observation\n",
    "\n",
    "- Above shows the counts of total incidents have the caller raised"
   ]
  },
  {
   "cell_type": "code",
   "execution_count": 14,
   "metadata": {
    "id": "-cq3Oeaz54Vf"
   },
   "outputs": [],
   "source": []
  },
  {
   "cell_type": "markdown",
   "metadata": {
    "id": "lSyUzCtG7JsY"
   },
   "source": [
    "## Data Preprocessing"
   ]
  },
  {
   "cell_type": "code",
   "execution_count": 15,
   "metadata": {
    "colab": {
     "base_uri": "https://localhost:8080/"
    },
    "id": "0q4cx5r69YaW",
    "outputId": "50a6a55b-54f3-4d7f-cbee-22e184553724"
   },
   "outputs": [
    {
     "data": {
      "text/plain": [
       "0       login issue -verified user details.(employee# ...\n",
       "1       outlook _x000D_\\n_x000D_\\nreceived from: hmjdr...\n",
       "2       cant log in to vpn _x000D_\\n_x000D_\\nreceived ...\n",
       "3       unable to access hr_tool page unable to access...\n",
       "4                               skype error  skype error \n",
       "                              ...                        \n",
       "8495    emails not coming in from zz mail _x000D_\\n_x0...\n",
       "8496    telephony_software issue telephony_software issue\n",
       "8497    vip2: windows password reset for tifpdchb pedx...\n",
       "8498    machine nÃ£o estÃ¡ funcionando i am unable to ...\n",
       "8499    an mehreren pc`s lassen sich verschiedene prgr...\n",
       "Length: 8491, dtype: object"
      ]
     },
     "execution_count": 15,
     "metadata": {},
     "output_type": "execute_result"
    }
   ],
   "source": [
    "dropped_df['Short description'].apply(lambda x: x + \" \") + dropped_df['Description']"
   ]
  },
  {
   "cell_type": "code",
   "execution_count": 16,
   "metadata": {
    "colab": {
     "base_uri": "https://localhost:8080/"
    },
    "id": "xS4jimBu-m9P",
    "outputId": "cf4e811b-d980-47ed-c1c8-c0846a102b9b"
   },
   "outputs": [
    {
     "data": {
      "text/plain": [
       "0       -verified user details.(employee# & manager na...\n",
       "1       _x000D_\\n_x000D_\\nreceived from: hmjdrvpb.komu...\n",
       "2       _x000D_\\n_x000D_\\nreceived from: eylqgodm.ybqk...\n",
       "3                           unable to access hr_tool page\n",
       "4                                            skype error \n",
       "                              ...                        \n",
       "8495    _x000D_\\n_x000D_\\nreceived from: avglmrts.vhqm...\n",
       "8496                             telephony_software issue\n",
       "8497    vip2: windows password reset for tifpdchb pedx...\n",
       "8498    i am unable to access the machine utilities to...\n",
       "8499    an mehreren pc`s lassen sich verschiedene prgr...\n",
       "Name: Description, Length: 8491, dtype: object"
      ]
     },
     "execution_count": 16,
     "metadata": {},
     "output_type": "execute_result"
    }
   ],
   "source": [
    "dropped_df['Description']"
   ]
  },
  {
   "cell_type": "code",
   "execution_count": 17,
   "metadata": {
    "colab": {
     "base_uri": "https://localhost:8080/",
     "height": 316
    },
    "id": "NPu4RK9o8Ky3",
    "outputId": "8de0d55f-a474-4098-d52b-8d787f8144ae"
   },
   "outputs": [
    {
     "name": "stderr",
     "output_type": "stream",
     "text": [
      "<ipython-input-17-f3e1ca7de2e2>:1: SettingWithCopyWarning: \n",
      "A value is trying to be set on a copy of a slice from a DataFrame.\n",
      "Try using .loc[row_indexer,col_indexer] = value instead\n",
      "\n",
      "See the caveats in the documentation: https://pandas.pydata.org/pandas-docs/stable/user_guide/indexing.html#returning-a-view-versus-a-copy\n",
      "  dropped_df['New Desc'] = dropped_df['Short description'].apply(lambda x: x + \" \") + dropped_df['Description']\n"
     ]
    },
    {
     "data": {
      "application/vnd.google.colaboratory.intrinsic+json": {
       "summary": "{\n  \"name\": \"dropped_df\",\n  \"rows\": 8491,\n  \"fields\": [\n    {\n      \"column\": \"Short description\",\n      \"properties\": {\n        \"dtype\": \"string\",\n        \"num_unique_values\": 7480,\n        \"samples\": [\n          \"not able to hear any thing \",\n          \"security incidents - ( in33426117 ) : correlation rule triggered: icmp ping failure\",\n          \"job hr_payroll_na_u1 failed in job_scheduler at: 08/31/2016 23:00:00  \"\n        ],\n        \"semantic_type\": \"\",\n        \"description\": \"\"\n      }\n    },\n    {\n      \"column\": \"Description\",\n      \"properties\": {\n        \"dtype\": \"string\",\n        \"num_unique_values\": 7812,\n        \"samples\": [\n          \"ticket update on inplant_860558\",\n          \"my site does not show the grouping by the first level and at the second level is continuous._x000D_\\nfurther, the expand arrows are not responsive._x000D_\\n\",\n          \"hello it service,\\nmy manager serthyei needs to forward the pthsqroz moedyanvess, all the quote drawings are being created and linked to the mm#s as our standard procedure.\\nfor un known reason, this mm 7394628 is not showing the linked drawing. moreover, serthyei was not able to add the document number manually.\\nplease fix this, we need to forward the npc towards successful manufacturing.\\n\\ncrtgyerine: vlymsnej.whlqxcst@gmail.com\\nserthyei: ueywbzks.gepstmfl@gmail.com\\n\"\n        ],\n        \"semantic_type\": \"\",\n        \"description\": \"\"\n      }\n    },\n    {\n      \"column\": \"Caller\",\n      \"properties\": {\n        \"dtype\": \"category\",\n        \"num_unique_values\": 2948,\n        \"samples\": [\n          \"mcphgvnb bdegqtyj\",\n          \"ioafmupg gnmqfrve\",\n          \"lediwjvb tqijrdgw\"\n        ],\n        \"semantic_type\": \"\",\n        \"description\": \"\"\n      }\n    },\n    {\n      \"column\": \"Assignment group\",\n      \"properties\": {\n        \"dtype\": \"category\",\n        \"num_unique_values\": 74,\n        \"samples\": [\n          \"GRP_5\",\n          \"GRP_63\",\n          \"GRP_19\"\n        ],\n        \"semantic_type\": \"\",\n        \"description\": \"\"\n      }\n    },\n    {\n      \"column\": \"New Desc\",\n      \"properties\": {\n        \"dtype\": \"string\",\n        \"num_unique_values\": 7887,\n        \"samples\": [\n          \"unable to install engineering_tool unable to install engineering_tool\",\n          \"emails from common mailbox k-uk.moe@company.com do not appear in telephony_software workflow although there are emails in outlook mailbox, they do not appear in telephony_software.\",\n          \"additional corrections of  sales org 1278 and company address/phone numbers required after germany move 1. sales organisation address 1278 \\u00e2\\u20ac\\u201c phone number and fax number need to be reversed to original phone/fax number from f\\u00c3\\u00bcrth.  0911\\u00e2\\u20ac\\u00a6_x000D_\\n2. plant address plant_124 \\u00e2\\u20ac\\u201c phone /fax numbers need to be adjusted to show germany central phone numbers/fax_x000D_\\n3. company code address of 5278 need to be reverted back! address is in f\\u00c3\\u00bcrth not in germany_x000D_\\n_x000D_\\ndetails are attached to the ticket.\"\n        ],\n        \"semantic_type\": \"\",\n        \"description\": \"\"\n      }\n    }\n  ]\n}",
       "type": "dataframe",
       "variable_name": "dropped_df"
      },
      "text/html": [
       "\n",
       "  <div id=\"df-021285d5-5dac-46bd-9d8c-aa0f7ce10ff0\" class=\"colab-df-container\">\n",
       "    <div>\n",
       "<style scoped>\n",
       "    .dataframe tbody tr th:only-of-type {\n",
       "        vertical-align: middle;\n",
       "    }\n",
       "\n",
       "    .dataframe tbody tr th {\n",
       "        vertical-align: top;\n",
       "    }\n",
       "\n",
       "    .dataframe thead th {\n",
       "        text-align: right;\n",
       "    }\n",
       "</style>\n",
       "<table border=\"1\" class=\"dataframe\">\n",
       "  <thead>\n",
       "    <tr style=\"text-align: right;\">\n",
       "      <th></th>\n",
       "      <th>Short description</th>\n",
       "      <th>Description</th>\n",
       "      <th>Caller</th>\n",
       "      <th>Assignment group</th>\n",
       "      <th>New Desc</th>\n",
       "    </tr>\n",
       "  </thead>\n",
       "  <tbody>\n",
       "    <tr>\n",
       "      <th>0</th>\n",
       "      <td>login issue</td>\n",
       "      <td>-verified user details.(employee# &amp; manager na...</td>\n",
       "      <td>spxjnwir pjlcoqds</td>\n",
       "      <td>GRP_0</td>\n",
       "      <td>login issue -verified user details.(employee# ...</td>\n",
       "    </tr>\n",
       "    <tr>\n",
       "      <th>1</th>\n",
       "      <td>outlook</td>\n",
       "      <td>_x000D_\\n_x000D_\\nreceived from: hmjdrvpb.komu...</td>\n",
       "      <td>hmjdrvpb komuaywn</td>\n",
       "      <td>GRP_0</td>\n",
       "      <td>outlook _x000D_\\n_x000D_\\nreceived from: hmjdr...</td>\n",
       "    </tr>\n",
       "    <tr>\n",
       "      <th>2</th>\n",
       "      <td>cant log in to vpn</td>\n",
       "      <td>_x000D_\\n_x000D_\\nreceived from: eylqgodm.ybqk...</td>\n",
       "      <td>eylqgodm ybqkwiam</td>\n",
       "      <td>GRP_0</td>\n",
       "      <td>cant log in to vpn _x000D_\\n_x000D_\\nreceived ...</td>\n",
       "    </tr>\n",
       "    <tr>\n",
       "      <th>3</th>\n",
       "      <td>unable to access hr_tool page</td>\n",
       "      <td>unable to access hr_tool page</td>\n",
       "      <td>xbkucsvz gcpydteq</td>\n",
       "      <td>GRP_0</td>\n",
       "      <td>unable to access hr_tool page unable to access...</td>\n",
       "    </tr>\n",
       "    <tr>\n",
       "      <th>4</th>\n",
       "      <td>skype error</td>\n",
       "      <td>skype error</td>\n",
       "      <td>owlgqjme qhcozdfx</td>\n",
       "      <td>GRP_0</td>\n",
       "      <td>skype error  skype error</td>\n",
       "    </tr>\n",
       "  </tbody>\n",
       "</table>\n",
       "</div>\n",
       "    <div class=\"colab-df-buttons\">\n",
       "\n",
       "  <div class=\"colab-df-container\">\n",
       "    <button class=\"colab-df-convert\" onclick=\"convertToInteractive('df-021285d5-5dac-46bd-9d8c-aa0f7ce10ff0')\"\n",
       "            title=\"Convert this dataframe to an interactive table.\"\n",
       "            style=\"display:none;\">\n",
       "\n",
       "  <svg xmlns=\"http://www.w3.org/2000/svg\" height=\"24px\" viewBox=\"0 -960 960 960\">\n",
       "    <path d=\"M120-120v-720h720v720H120Zm60-500h600v-160H180v160Zm220 220h160v-160H400v160Zm0 220h160v-160H400v160ZM180-400h160v-160H180v160Zm440 0h160v-160H620v160ZM180-180h160v-160H180v160Zm440 0h160v-160H620v160Z\"/>\n",
       "  </svg>\n",
       "    </button>\n",
       "\n",
       "  <style>\n",
       "    .colab-df-container {\n",
       "      display:flex;\n",
       "      gap: 12px;\n",
       "    }\n",
       "\n",
       "    .colab-df-convert {\n",
       "      background-color: #E8F0FE;\n",
       "      border: none;\n",
       "      border-radius: 50%;\n",
       "      cursor: pointer;\n",
       "      display: none;\n",
       "      fill: #1967D2;\n",
       "      height: 32px;\n",
       "      padding: 0 0 0 0;\n",
       "      width: 32px;\n",
       "    }\n",
       "\n",
       "    .colab-df-convert:hover {\n",
       "      background-color: #E2EBFA;\n",
       "      box-shadow: 0px 1px 2px rgba(60, 64, 67, 0.3), 0px 1px 3px 1px rgba(60, 64, 67, 0.15);\n",
       "      fill: #174EA6;\n",
       "    }\n",
       "\n",
       "    .colab-df-buttons div {\n",
       "      margin-bottom: 4px;\n",
       "    }\n",
       "\n",
       "    [theme=dark] .colab-df-convert {\n",
       "      background-color: #3B4455;\n",
       "      fill: #D2E3FC;\n",
       "    }\n",
       "\n",
       "    [theme=dark] .colab-df-convert:hover {\n",
       "      background-color: #434B5C;\n",
       "      box-shadow: 0px 1px 3px 1px rgba(0, 0, 0, 0.15);\n",
       "      filter: drop-shadow(0px 1px 2px rgba(0, 0, 0, 0.3));\n",
       "      fill: #FFFFFF;\n",
       "    }\n",
       "  </style>\n",
       "\n",
       "    <script>\n",
       "      const buttonEl =\n",
       "        document.querySelector('#df-021285d5-5dac-46bd-9d8c-aa0f7ce10ff0 button.colab-df-convert');\n",
       "      buttonEl.style.display =\n",
       "        google.colab.kernel.accessAllowed ? 'block' : 'none';\n",
       "\n",
       "      async function convertToInteractive(key) {\n",
       "        const element = document.querySelector('#df-021285d5-5dac-46bd-9d8c-aa0f7ce10ff0');\n",
       "        const dataTable =\n",
       "          await google.colab.kernel.invokeFunction('convertToInteractive',\n",
       "                                                    [key], {});\n",
       "        if (!dataTable) return;\n",
       "\n",
       "        const docLinkHtml = 'Like what you see? Visit the ' +\n",
       "          '<a target=\"_blank\" href=https://colab.research.google.com/notebooks/data_table.ipynb>data table notebook</a>'\n",
       "          + ' to learn more about interactive tables.';\n",
       "        element.innerHTML = '';\n",
       "        dataTable['output_type'] = 'display_data';\n",
       "        await google.colab.output.renderOutput(dataTable, element);\n",
       "        const docLink = document.createElement('div');\n",
       "        docLink.innerHTML = docLinkHtml;\n",
       "        element.appendChild(docLink);\n",
       "      }\n",
       "    </script>\n",
       "  </div>\n",
       "\n",
       "\n",
       "<div id=\"df-9c96c748-de26-4e77-b7c4-b5f0791fb8ba\">\n",
       "  <button class=\"colab-df-quickchart\" onclick=\"quickchart('df-9c96c748-de26-4e77-b7c4-b5f0791fb8ba')\"\n",
       "            title=\"Suggest charts\"\n",
       "            style=\"display:none;\">\n",
       "\n",
       "<svg xmlns=\"http://www.w3.org/2000/svg\" height=\"24px\"viewBox=\"0 0 24 24\"\n",
       "     width=\"24px\">\n",
       "    <g>\n",
       "        <path d=\"M19 3H5c-1.1 0-2 .9-2 2v14c0 1.1.9 2 2 2h14c1.1 0 2-.9 2-2V5c0-1.1-.9-2-2-2zM9 17H7v-7h2v7zm4 0h-2V7h2v10zm4 0h-2v-4h2v4z\"/>\n",
       "    </g>\n",
       "</svg>\n",
       "  </button>\n",
       "\n",
       "<style>\n",
       "  .colab-df-quickchart {\n",
       "      --bg-color: #E8F0FE;\n",
       "      --fill-color: #1967D2;\n",
       "      --hover-bg-color: #E2EBFA;\n",
       "      --hover-fill-color: #174EA6;\n",
       "      --disabled-fill-color: #AAA;\n",
       "      --disabled-bg-color: #DDD;\n",
       "  }\n",
       "\n",
       "  [theme=dark] .colab-df-quickchart {\n",
       "      --bg-color: #3B4455;\n",
       "      --fill-color: #D2E3FC;\n",
       "      --hover-bg-color: #434B5C;\n",
       "      --hover-fill-color: #FFFFFF;\n",
       "      --disabled-bg-color: #3B4455;\n",
       "      --disabled-fill-color: #666;\n",
       "  }\n",
       "\n",
       "  .colab-df-quickchart {\n",
       "    background-color: var(--bg-color);\n",
       "    border: none;\n",
       "    border-radius: 50%;\n",
       "    cursor: pointer;\n",
       "    display: none;\n",
       "    fill: var(--fill-color);\n",
       "    height: 32px;\n",
       "    padding: 0;\n",
       "    width: 32px;\n",
       "  }\n",
       "\n",
       "  .colab-df-quickchart:hover {\n",
       "    background-color: var(--hover-bg-color);\n",
       "    box-shadow: 0 1px 2px rgba(60, 64, 67, 0.3), 0 1px 3px 1px rgba(60, 64, 67, 0.15);\n",
       "    fill: var(--button-hover-fill-color);\n",
       "  }\n",
       "\n",
       "  .colab-df-quickchart-complete:disabled,\n",
       "  .colab-df-quickchart-complete:disabled:hover {\n",
       "    background-color: var(--disabled-bg-color);\n",
       "    fill: var(--disabled-fill-color);\n",
       "    box-shadow: none;\n",
       "  }\n",
       "\n",
       "  .colab-df-spinner {\n",
       "    border: 2px solid var(--fill-color);\n",
       "    border-color: transparent;\n",
       "    border-bottom-color: var(--fill-color);\n",
       "    animation:\n",
       "      spin 1s steps(1) infinite;\n",
       "  }\n",
       "\n",
       "  @keyframes spin {\n",
       "    0% {\n",
       "      border-color: transparent;\n",
       "      border-bottom-color: var(--fill-color);\n",
       "      border-left-color: var(--fill-color);\n",
       "    }\n",
       "    20% {\n",
       "      border-color: transparent;\n",
       "      border-left-color: var(--fill-color);\n",
       "      border-top-color: var(--fill-color);\n",
       "    }\n",
       "    30% {\n",
       "      border-color: transparent;\n",
       "      border-left-color: var(--fill-color);\n",
       "      border-top-color: var(--fill-color);\n",
       "      border-right-color: var(--fill-color);\n",
       "    }\n",
       "    40% {\n",
       "      border-color: transparent;\n",
       "      border-right-color: var(--fill-color);\n",
       "      border-top-color: var(--fill-color);\n",
       "    }\n",
       "    60% {\n",
       "      border-color: transparent;\n",
       "      border-right-color: var(--fill-color);\n",
       "    }\n",
       "    80% {\n",
       "      border-color: transparent;\n",
       "      border-right-color: var(--fill-color);\n",
       "      border-bottom-color: var(--fill-color);\n",
       "    }\n",
       "    90% {\n",
       "      border-color: transparent;\n",
       "      border-bottom-color: var(--fill-color);\n",
       "    }\n",
       "  }\n",
       "</style>\n",
       "\n",
       "  <script>\n",
       "    async function quickchart(key) {\n",
       "      const quickchartButtonEl =\n",
       "        document.querySelector('#' + key + ' button');\n",
       "      quickchartButtonEl.disabled = true;  // To prevent multiple clicks.\n",
       "      quickchartButtonEl.classList.add('colab-df-spinner');\n",
       "      try {\n",
       "        const charts = await google.colab.kernel.invokeFunction(\n",
       "            'suggestCharts', [key], {});\n",
       "      } catch (error) {\n",
       "        console.error('Error during call to suggestCharts:', error);\n",
       "      }\n",
       "      quickchartButtonEl.classList.remove('colab-df-spinner');\n",
       "      quickchartButtonEl.classList.add('colab-df-quickchart-complete');\n",
       "    }\n",
       "    (() => {\n",
       "      let quickchartButtonEl =\n",
       "        document.querySelector('#df-9c96c748-de26-4e77-b7c4-b5f0791fb8ba button');\n",
       "      quickchartButtonEl.style.display =\n",
       "        google.colab.kernel.accessAllowed ? 'block' : 'none';\n",
       "    })();\n",
       "  </script>\n",
       "</div>\n",
       "    </div>\n",
       "  </div>\n"
      ],
      "text/plain": [
       "               Short description  \\\n",
       "0                    login issue   \n",
       "1                        outlook   \n",
       "2             cant log in to vpn   \n",
       "3  unable to access hr_tool page   \n",
       "4                   skype error    \n",
       "\n",
       "                                         Description             Caller  \\\n",
       "0  -verified user details.(employee# & manager na...  spxjnwir pjlcoqds   \n",
       "1  _x000D_\\n_x000D_\\nreceived from: hmjdrvpb.komu...  hmjdrvpb komuaywn   \n",
       "2  _x000D_\\n_x000D_\\nreceived from: eylqgodm.ybqk...  eylqgodm ybqkwiam   \n",
       "3                      unable to access hr_tool page  xbkucsvz gcpydteq   \n",
       "4                                       skype error   owlgqjme qhcozdfx   \n",
       "\n",
       "  Assignment group                                           New Desc  \n",
       "0            GRP_0  login issue -verified user details.(employee# ...  \n",
       "1            GRP_0  outlook _x000D_\\n_x000D_\\nreceived from: hmjdr...  \n",
       "2            GRP_0  cant log in to vpn _x000D_\\n_x000D_\\nreceived ...  \n",
       "3            GRP_0  unable to access hr_tool page unable to access...  \n",
       "4            GRP_0                          skype error  skype error   "
      ]
     },
     "execution_count": 17,
     "metadata": {},
     "output_type": "execute_result"
    }
   ],
   "source": [
    "dropped_df['New Desc'] = dropped_df['Short description'].apply(lambda x: x + \" \") + dropped_df['Description']\n",
    "dropped_df.head()"
   ]
  },
  {
   "cell_type": "code",
   "execution_count": 18,
   "metadata": {
    "colab": {
     "base_uri": "https://localhost:8080/"
    },
    "id": "bG5C5IDpCsug",
    "outputId": "4432fb03-978a-4889-d4ea-483dd6d6ef91"
   },
   "outputs": [
    {
     "name": "stderr",
     "output_type": "stream",
     "text": [
      "[nltk_data] Downloading package stopwords to /root/nltk_data...\n",
      "[nltk_data]   Unzipping corpora/stopwords.zip.\n",
      "[nltk_data] Downloading package wordnet to /root/nltk_data...\n"
     ]
    },
    {
     "data": {
      "text/plain": [
       "True"
      ]
     },
     "execution_count": 18,
     "metadata": {},
     "output_type": "execute_result"
    }
   ],
   "source": [
    "import re\n",
    "from nltk.corpus import stopwords\n",
    "from nltk.stem import WordNetLemmatizer\n",
    "nltk.download('stopwords')\n",
    "nltk.download('wordnet')"
   ]
  },
  {
   "cell_type": "code",
   "execution_count": 19,
   "metadata": {
    "id": "_6BUsU9g8EsB"
   },
   "outputs": [],
   "source": [
    "def preprocess(x):\n",
    "  # lower case\n",
    "  lower = x.lower()\n",
    "\n",
    "  # remove email\n",
    "  res = re.sub(r'[A-Za-z0-9]*@[A-Za-z]*\\.?[A-Za-z0-9]*', \"\", lower)\n",
    "\n",
    "  # remove urls\n",
    "  res = re.sub(r'https?:\\/\\/.*[\\r\\n]*', ' ', res, flags=re.MULTILINE)\n",
    "\n",
    "  # remove line separator\n",
    "  res = re.sub(r'_x000d_',r' ', res)\n",
    "\n",
    "  # remove digits\n",
    "  res = ''.join([i for i in res if not i.isdigit()])\n",
    "\n",
    "  # remove punctuation and special char. remove char except word and spaces\n",
    "  res = re.sub(r'[^\\w\\s]',' ',res)\n",
    "\n",
    "  # substitute _ with the space\n",
    "  res = re.sub(r'_', ' ', res)\n",
    "\n",
    "\n",
    "\n",
    "  # remove stop word and lemmatize\n",
    "  lemmatizer = WordNetLemmatizer()\n",
    "\n",
    "  words = []\n",
    "  for word in res.split():\n",
    "    if word not in stopwords.words('english'):\n",
    "      words.append(lemmatizer.lemmatize(word, pos=\"v\"))\n",
    "\n",
    "  return \" \".join(words)"
   ]
  },
  {
   "cell_type": "code",
   "execution_count": 20,
   "metadata": {
    "colab": {
     "base_uri": "https://localhost:8080/",
     "height": 36
    },
    "id": "4HEfGFjmC0VH",
    "outputId": "7437805c-d72f-4e51-c991-7ab26e43fbaf"
   },
   "outputs": [
    {
     "data": {
      "application/vnd.google.colaboratory.intrinsic+json": {
       "type": "string"
      },
      "text/plain": [
       "'adjf hr tool run nã estã funcionando sdfkjasd receive ajkldfj'"
      ]
     },
     "execution_count": 20,
     "metadata": {},
     "output_type": "execute_result"
    }
   ],
   "source": [
    "preprocess('adjf hr_tool running is am are nã£o estã¡ $ funcionando!  sdfkjasd5515665 xyz@ddu.com _x000D_\\n_x000d_\\nreceived ajkldfj https://xyz.com')"
   ]
  },
  {
   "cell_type": "code",
   "execution_count": 21,
   "metadata": {
    "colab": {
     "base_uri": "https://localhost:8080/"
    },
    "id": "n2nyALt97GlF",
    "outputId": "ecaab2f5-1a39-4945-bb36-a6cf0a21260e"
   },
   "outputs": [
    {
     "name": "stderr",
     "output_type": "stream",
     "text": [
      "<ipython-input-21-3e2d368074b8>:1: SettingWithCopyWarning: \n",
      "A value is trying to be set on a copy of a slice from a DataFrame.\n",
      "Try using .loc[row_indexer,col_indexer] = value instead\n",
      "\n",
      "See the caveats in the documentation: https://pandas.pydata.org/pandas-docs/stable/user_guide/indexing.html#returning-a-view-versus-a-copy\n",
      "  dropped_df['cleaned_new_desc'] = dropped_df['New Desc'].apply(lambda x: preprocess(x))\n"
     ]
    }
   ],
   "source": [
    "dropped_df['cleaned_new_desc'] = dropped_df['New Desc'].apply(lambda x: preprocess(x))"
   ]
  },
  {
   "cell_type": "code",
   "execution_count": 22,
   "metadata": {
    "colab": {
     "base_uri": "https://localhost:8080/"
    },
    "id": "zIvBLR9n7qcB",
    "outputId": "747ed01f-51be-44cc-93d0-78d4554309f0"
   },
   "outputs": [
    {
     "data": {
      "text/plain": [
       "0       login issue verify user detail employee manage...\n",
       "1       outlook receive hmjdrvpb hello team meet skype...\n",
       "2       cant log vpn receive eylqgodm hi cannot log vp...\n",
       "3       unable access hr tool page unable access hr to...\n",
       "4                                 skype error skype error\n",
       "                              ...                        \n",
       "8495    email come zz mail receive avglmrts good after...\n",
       "8496    telephony software issue telephony software issue\n",
       "8497    vip windows password reset tifpdchb pedxruyf v...\n",
       "8498    machine nã estã funcionando unable access mach...\n",
       "8499    mehreren pc lassen sich verschiedene prgramdnt...\n",
       "Name: cleaned_new_desc, Length: 8491, dtype: object"
      ]
     },
     "execution_count": 22,
     "metadata": {},
     "output_type": "execute_result"
    }
   ],
   "source": [
    "dropped_df['cleaned_new_desc']"
   ]
  },
  {
   "cell_type": "markdown",
   "metadata": {
    "id": "za9hlhsikqHu"
   },
   "source": [
    "### Label Encoding"
   ]
  },
  {
   "cell_type": "code",
   "execution_count": 23,
   "metadata": {
    "id": "eXsl3E8Njffh"
   },
   "outputs": [],
   "source": [
    "from sklearn.preprocessing import LabelEncoder"
   ]
  },
  {
   "cell_type": "code",
   "execution_count": 24,
   "metadata": {
    "colab": {
     "base_uri": "https://localhost:8080/"
    },
    "id": "i6HXrzaRksNX",
    "outputId": "77d7d9d6-2c63-448a-890b-8a3f2b5ee8a0"
   },
   "outputs": [
    {
     "name": "stderr",
     "output_type": "stream",
     "text": [
      "<ipython-input-24-782d64b4f021>:2: SettingWithCopyWarning: \n",
      "A value is trying to be set on a copy of a slice from a DataFrame.\n",
      "Try using .loc[row_indexer,col_indexer] = value instead\n",
      "\n",
      "See the caveats in the documentation: https://pandas.pydata.org/pandas-docs/stable/user_guide/indexing.html#returning-a-view-versus-a-copy\n",
      "  dropped_df['label'] = encoder.fit_transform(dropped_df['Assignment group'])\n"
     ]
    }
   ],
   "source": [
    "encoder = LabelEncoder()\n",
    "dropped_df['label'] = encoder.fit_transform(dropped_df['Assignment group'])"
   ]
  },
  {
   "cell_type": "code",
   "execution_count": 25,
   "metadata": {
    "colab": {
     "base_uri": "https://localhost:8080/",
     "height": 310
    },
    "id": "nuFNL2afkvGw",
    "outputId": "59f01b03-7b1b-4e37-e0c1-ee92ea737553"
   },
   "outputs": [
    {
     "data": {
      "application/vnd.google.colaboratory.intrinsic+json": {
       "summary": "{\n  \"name\": \"dropped_df\",\n  \"rows\": 8491,\n  \"fields\": [\n    {\n      \"column\": \"Short description\",\n      \"properties\": {\n        \"dtype\": \"string\",\n        \"num_unique_values\": 7480,\n        \"samples\": [\n          \"not able to hear any thing \",\n          \"security incidents - ( in33426117 ) : correlation rule triggered: icmp ping failure\",\n          \"job hr_payroll_na_u1 failed in job_scheduler at: 08/31/2016 23:00:00  \"\n        ],\n        \"semantic_type\": \"\",\n        \"description\": \"\"\n      }\n    },\n    {\n      \"column\": \"Description\",\n      \"properties\": {\n        \"dtype\": \"string\",\n        \"num_unique_values\": 7812,\n        \"samples\": [\n          \"ticket update on inplant_860558\",\n          \"my site does not show the grouping by the first level and at the second level is continuous._x000D_\\nfurther, the expand arrows are not responsive._x000D_\\n\",\n          \"hello it service,\\nmy manager serthyei needs to forward the pthsqroz moedyanvess, all the quote drawings are being created and linked to the mm#s as our standard procedure.\\nfor un known reason, this mm 7394628 is not showing the linked drawing. moreover, serthyei was not able to add the document number manually.\\nplease fix this, we need to forward the npc towards successful manufacturing.\\n\\ncrtgyerine: vlymsnej.whlqxcst@gmail.com\\nserthyei: ueywbzks.gepstmfl@gmail.com\\n\"\n        ],\n        \"semantic_type\": \"\",\n        \"description\": \"\"\n      }\n    },\n    {\n      \"column\": \"Caller\",\n      \"properties\": {\n        \"dtype\": \"category\",\n        \"num_unique_values\": 2948,\n        \"samples\": [\n          \"mcphgvnb bdegqtyj\",\n          \"ioafmupg gnmqfrve\",\n          \"lediwjvb tqijrdgw\"\n        ],\n        \"semantic_type\": \"\",\n        \"description\": \"\"\n      }\n    },\n    {\n      \"column\": \"Assignment group\",\n      \"properties\": {\n        \"dtype\": \"category\",\n        \"num_unique_values\": 74,\n        \"samples\": [\n          \"GRP_5\",\n          \"GRP_63\",\n          \"GRP_19\"\n        ],\n        \"semantic_type\": \"\",\n        \"description\": \"\"\n      }\n    },\n    {\n      \"column\": \"New Desc\",\n      \"properties\": {\n        \"dtype\": \"string\",\n        \"num_unique_values\": 7887,\n        \"samples\": [\n          \"unable to install engineering_tool unable to install engineering_tool\",\n          \"emails from common mailbox k-uk.moe@company.com do not appear in telephony_software workflow although there are emails in outlook mailbox, they do not appear in telephony_software.\",\n          \"additional corrections of  sales org 1278 and company address/phone numbers required after germany move 1. sales organisation address 1278 \\u00e2\\u20ac\\u201c phone number and fax number need to be reversed to original phone/fax number from f\\u00c3\\u00bcrth.  0911\\u00e2\\u20ac\\u00a6_x000D_\\n2. plant address plant_124 \\u00e2\\u20ac\\u201c phone /fax numbers need to be adjusted to show germany central phone numbers/fax_x000D_\\n3. company code address of 5278 need to be reverted back! address is in f\\u00c3\\u00bcrth not in germany_x000D_\\n_x000D_\\ndetails are attached to the ticket.\"\n        ],\n        \"semantic_type\": \"\",\n        \"description\": \"\"\n      }\n    },\n    {\n      \"column\": \"cleaned_new_desc\",\n      \"properties\": {\n        \"dtype\": \"string\",\n        \"num_unique_values\": 6729,\n        \"samples\": [\n          \"setup new ws yucgfmiq jamgpnqe setup new ws yucgfmiq jamgpnqe\",\n          \"\\u00e6 \\u00e5 \\u017e ticket comment add receive windy shi \\u00e5 \\u00e6 \\u00e5 \\u017e\\u00e9 \\u00e4 ticket comment add \\u00e3 \\u00e6\\u0153 \\u00e8 \\u00e6 \\u00e4 \\u00e4\\u00be \\u00e6\\u0153 \\u00e5 \\u0161\\u00e7\\u0161 \\u00e6\\u017e \\u00e6 \\u00e4\\u00ba\\u00ba\\u00e4\\u00bd \\u00e7 \\u00ef\\u00bc\\u0153\\u00e5 \\u00e4 \\u00e5 \\u00e8\\u0192\\u00bd\\u00e5\\u0153 \\u00e5 \\u00e9 \\u00e7 \\u00e6 \\u00e5\\u00be \\u00e9 \\u00e4 \\u00e7 \\u00e8 \\u00e7\\u0161 \\u00e3 \\u00e4 \\u00e5 \\u00e7\\u0161 \\u00e5 \\u0153\\u00e7 \\u00e6 \\u00e6\\u0161 \\u00e9\\u0153\\u00e7\\u0161 \\u00e5 \\u00e5 \\u00e3 \\u00e9 \\u00e6\\u0153 \\u00e5 \\u0161\\u00e7\\u0161 \\u00e6\\u017e \\u00e6 \\u00e4\\u00ba\\u00ba\\u00e5 \\u00ef\\u00bc\\u0153\\u00e4 \\u00e7 \\u00e5 \\u00e4 \\u00e4 \\u00e4\\u00bd \\u00e4\\u00ba\\u00ba\\u00e4\\u00bc \\u00e6 \\u00e3 \\u00e5\\u02c6 \\u00e5 \\u00e6\\u02c6 \\u00e5 \\u00e5\\u02c6 \\u00e6\\u0153 \\u00e8 \\u00e6 \\u00e3 \\u00e5 \\u00e6\\u017e\\u0153\\u00e6 \\u00e8 \\u00e6 \\u00e5\\u02c6 \\u00e6\\u0153 \\u00e8 \\u00e6 \\u00ef\\u00bc\\u0153\\u00e8 \\u00e9 \\u0161\\u00e7\\u00ff \\u00e5 \\u00e4 \\u00e4\\u00ba\\u00ba\\u00e5 \\u00e5 \\u00e8 \\u00e6 \\u00e5\\u02c6 \\u00e9 \\u00e3 select follow link view disclaimer alternate language\",\n          \"shop floor app problems vldwtjgr vtzakpol send wednesday august pm nwfodmhc exurcwkm cc dctvfjrn oypnxftq subject amar shop floor app problems help desk experience problems widtqkwzup vtkzuqly tin cell please assign shop floor app support group work issue operators report production order badge post please let know info need\"\n        ],\n        \"semantic_type\": \"\",\n        \"description\": \"\"\n      }\n    },\n    {\n      \"column\": \"label\",\n      \"properties\": {\n        \"dtype\": \"number\",\n        \"std\": 24,\n        \"min\": 0,\n        \"max\": 73,\n        \"num_unique_values\": 74,\n        \"samples\": [\n          45,\n          60,\n          11\n        ],\n        \"semantic_type\": \"\",\n        \"description\": \"\"\n      }\n    }\n  ]\n}",
       "type": "dataframe",
       "variable_name": "dropped_df"
      },
      "text/html": [
       "\n",
       "  <div id=\"df-5236e0fc-f775-4dd6-b21d-25c21cb28cb3\" class=\"colab-df-container\">\n",
       "    <div>\n",
       "<style scoped>\n",
       "    .dataframe tbody tr th:only-of-type {\n",
       "        vertical-align: middle;\n",
       "    }\n",
       "\n",
       "    .dataframe tbody tr th {\n",
       "        vertical-align: top;\n",
       "    }\n",
       "\n",
       "    .dataframe thead th {\n",
       "        text-align: right;\n",
       "    }\n",
       "</style>\n",
       "<table border=\"1\" class=\"dataframe\">\n",
       "  <thead>\n",
       "    <tr style=\"text-align: right;\">\n",
       "      <th></th>\n",
       "      <th>Short description</th>\n",
       "      <th>Description</th>\n",
       "      <th>Caller</th>\n",
       "      <th>Assignment group</th>\n",
       "      <th>New Desc</th>\n",
       "      <th>cleaned_new_desc</th>\n",
       "      <th>label</th>\n",
       "    </tr>\n",
       "  </thead>\n",
       "  <tbody>\n",
       "    <tr>\n",
       "      <th>0</th>\n",
       "      <td>login issue</td>\n",
       "      <td>-verified user details.(employee# &amp; manager na...</td>\n",
       "      <td>spxjnwir pjlcoqds</td>\n",
       "      <td>GRP_0</td>\n",
       "      <td>login issue -verified user details.(employee# ...</td>\n",
       "      <td>login issue verify user detail employee manage...</td>\n",
       "      <td>0</td>\n",
       "    </tr>\n",
       "    <tr>\n",
       "      <th>1</th>\n",
       "      <td>outlook</td>\n",
       "      <td>_x000D_\\n_x000D_\\nreceived from: hmjdrvpb.komu...</td>\n",
       "      <td>hmjdrvpb komuaywn</td>\n",
       "      <td>GRP_0</td>\n",
       "      <td>outlook _x000D_\\n_x000D_\\nreceived from: hmjdr...</td>\n",
       "      <td>outlook receive hmjdrvpb hello team meet skype...</td>\n",
       "      <td>0</td>\n",
       "    </tr>\n",
       "    <tr>\n",
       "      <th>2</th>\n",
       "      <td>cant log in to vpn</td>\n",
       "      <td>_x000D_\\n_x000D_\\nreceived from: eylqgodm.ybqk...</td>\n",
       "      <td>eylqgodm ybqkwiam</td>\n",
       "      <td>GRP_0</td>\n",
       "      <td>cant log in to vpn _x000D_\\n_x000D_\\nreceived ...</td>\n",
       "      <td>cant log vpn receive eylqgodm hi cannot log vp...</td>\n",
       "      <td>0</td>\n",
       "    </tr>\n",
       "    <tr>\n",
       "      <th>3</th>\n",
       "      <td>unable to access hr_tool page</td>\n",
       "      <td>unable to access hr_tool page</td>\n",
       "      <td>xbkucsvz gcpydteq</td>\n",
       "      <td>GRP_0</td>\n",
       "      <td>unable to access hr_tool page unable to access...</td>\n",
       "      <td>unable access hr tool page unable access hr to...</td>\n",
       "      <td>0</td>\n",
       "    </tr>\n",
       "    <tr>\n",
       "      <th>4</th>\n",
       "      <td>skype error</td>\n",
       "      <td>skype error</td>\n",
       "      <td>owlgqjme qhcozdfx</td>\n",
       "      <td>GRP_0</td>\n",
       "      <td>skype error  skype error</td>\n",
       "      <td>skype error skype error</td>\n",
       "      <td>0</td>\n",
       "    </tr>\n",
       "  </tbody>\n",
       "</table>\n",
       "</div>\n",
       "    <div class=\"colab-df-buttons\">\n",
       "\n",
       "  <div class=\"colab-df-container\">\n",
       "    <button class=\"colab-df-convert\" onclick=\"convertToInteractive('df-5236e0fc-f775-4dd6-b21d-25c21cb28cb3')\"\n",
       "            title=\"Convert this dataframe to an interactive table.\"\n",
       "            style=\"display:none;\">\n",
       "\n",
       "  <svg xmlns=\"http://www.w3.org/2000/svg\" height=\"24px\" viewBox=\"0 -960 960 960\">\n",
       "    <path d=\"M120-120v-720h720v720H120Zm60-500h600v-160H180v160Zm220 220h160v-160H400v160Zm0 220h160v-160H400v160ZM180-400h160v-160H180v160Zm440 0h160v-160H620v160ZM180-180h160v-160H180v160Zm440 0h160v-160H620v160Z\"/>\n",
       "  </svg>\n",
       "    </button>\n",
       "\n",
       "  <style>\n",
       "    .colab-df-container {\n",
       "      display:flex;\n",
       "      gap: 12px;\n",
       "    }\n",
       "\n",
       "    .colab-df-convert {\n",
       "      background-color: #E8F0FE;\n",
       "      border: none;\n",
       "      border-radius: 50%;\n",
       "      cursor: pointer;\n",
       "      display: none;\n",
       "      fill: #1967D2;\n",
       "      height: 32px;\n",
       "      padding: 0 0 0 0;\n",
       "      width: 32px;\n",
       "    }\n",
       "\n",
       "    .colab-df-convert:hover {\n",
       "      background-color: #E2EBFA;\n",
       "      box-shadow: 0px 1px 2px rgba(60, 64, 67, 0.3), 0px 1px 3px 1px rgba(60, 64, 67, 0.15);\n",
       "      fill: #174EA6;\n",
       "    }\n",
       "\n",
       "    .colab-df-buttons div {\n",
       "      margin-bottom: 4px;\n",
       "    }\n",
       "\n",
       "    [theme=dark] .colab-df-convert {\n",
       "      background-color: #3B4455;\n",
       "      fill: #D2E3FC;\n",
       "    }\n",
       "\n",
       "    [theme=dark] .colab-df-convert:hover {\n",
       "      background-color: #434B5C;\n",
       "      box-shadow: 0px 1px 3px 1px rgba(0, 0, 0, 0.15);\n",
       "      filter: drop-shadow(0px 1px 2px rgba(0, 0, 0, 0.3));\n",
       "      fill: #FFFFFF;\n",
       "    }\n",
       "  </style>\n",
       "\n",
       "    <script>\n",
       "      const buttonEl =\n",
       "        document.querySelector('#df-5236e0fc-f775-4dd6-b21d-25c21cb28cb3 button.colab-df-convert');\n",
       "      buttonEl.style.display =\n",
       "        google.colab.kernel.accessAllowed ? 'block' : 'none';\n",
       "\n",
       "      async function convertToInteractive(key) {\n",
       "        const element = document.querySelector('#df-5236e0fc-f775-4dd6-b21d-25c21cb28cb3');\n",
       "        const dataTable =\n",
       "          await google.colab.kernel.invokeFunction('convertToInteractive',\n",
       "                                                    [key], {});\n",
       "        if (!dataTable) return;\n",
       "\n",
       "        const docLinkHtml = 'Like what you see? Visit the ' +\n",
       "          '<a target=\"_blank\" href=https://colab.research.google.com/notebooks/data_table.ipynb>data table notebook</a>'\n",
       "          + ' to learn more about interactive tables.';\n",
       "        element.innerHTML = '';\n",
       "        dataTable['output_type'] = 'display_data';\n",
       "        await google.colab.output.renderOutput(dataTable, element);\n",
       "        const docLink = document.createElement('div');\n",
       "        docLink.innerHTML = docLinkHtml;\n",
       "        element.appendChild(docLink);\n",
       "      }\n",
       "    </script>\n",
       "  </div>\n",
       "\n",
       "\n",
       "<div id=\"df-54dc567c-e720-4601-888f-0c84376e7050\">\n",
       "  <button class=\"colab-df-quickchart\" onclick=\"quickchart('df-54dc567c-e720-4601-888f-0c84376e7050')\"\n",
       "            title=\"Suggest charts\"\n",
       "            style=\"display:none;\">\n",
       "\n",
       "<svg xmlns=\"http://www.w3.org/2000/svg\" height=\"24px\"viewBox=\"0 0 24 24\"\n",
       "     width=\"24px\">\n",
       "    <g>\n",
       "        <path d=\"M19 3H5c-1.1 0-2 .9-2 2v14c0 1.1.9 2 2 2h14c1.1 0 2-.9 2-2V5c0-1.1-.9-2-2-2zM9 17H7v-7h2v7zm4 0h-2V7h2v10zm4 0h-2v-4h2v4z\"/>\n",
       "    </g>\n",
       "</svg>\n",
       "  </button>\n",
       "\n",
       "<style>\n",
       "  .colab-df-quickchart {\n",
       "      --bg-color: #E8F0FE;\n",
       "      --fill-color: #1967D2;\n",
       "      --hover-bg-color: #E2EBFA;\n",
       "      --hover-fill-color: #174EA6;\n",
       "      --disabled-fill-color: #AAA;\n",
       "      --disabled-bg-color: #DDD;\n",
       "  }\n",
       "\n",
       "  [theme=dark] .colab-df-quickchart {\n",
       "      --bg-color: #3B4455;\n",
       "      --fill-color: #D2E3FC;\n",
       "      --hover-bg-color: #434B5C;\n",
       "      --hover-fill-color: #FFFFFF;\n",
       "      --disabled-bg-color: #3B4455;\n",
       "      --disabled-fill-color: #666;\n",
       "  }\n",
       "\n",
       "  .colab-df-quickchart {\n",
       "    background-color: var(--bg-color);\n",
       "    border: none;\n",
       "    border-radius: 50%;\n",
       "    cursor: pointer;\n",
       "    display: none;\n",
       "    fill: var(--fill-color);\n",
       "    height: 32px;\n",
       "    padding: 0;\n",
       "    width: 32px;\n",
       "  }\n",
       "\n",
       "  .colab-df-quickchart:hover {\n",
       "    background-color: var(--hover-bg-color);\n",
       "    box-shadow: 0 1px 2px rgba(60, 64, 67, 0.3), 0 1px 3px 1px rgba(60, 64, 67, 0.15);\n",
       "    fill: var(--button-hover-fill-color);\n",
       "  }\n",
       "\n",
       "  .colab-df-quickchart-complete:disabled,\n",
       "  .colab-df-quickchart-complete:disabled:hover {\n",
       "    background-color: var(--disabled-bg-color);\n",
       "    fill: var(--disabled-fill-color);\n",
       "    box-shadow: none;\n",
       "  }\n",
       "\n",
       "  .colab-df-spinner {\n",
       "    border: 2px solid var(--fill-color);\n",
       "    border-color: transparent;\n",
       "    border-bottom-color: var(--fill-color);\n",
       "    animation:\n",
       "      spin 1s steps(1) infinite;\n",
       "  }\n",
       "\n",
       "  @keyframes spin {\n",
       "    0% {\n",
       "      border-color: transparent;\n",
       "      border-bottom-color: var(--fill-color);\n",
       "      border-left-color: var(--fill-color);\n",
       "    }\n",
       "    20% {\n",
       "      border-color: transparent;\n",
       "      border-left-color: var(--fill-color);\n",
       "      border-top-color: var(--fill-color);\n",
       "    }\n",
       "    30% {\n",
       "      border-color: transparent;\n",
       "      border-left-color: var(--fill-color);\n",
       "      border-top-color: var(--fill-color);\n",
       "      border-right-color: var(--fill-color);\n",
       "    }\n",
       "    40% {\n",
       "      border-color: transparent;\n",
       "      border-right-color: var(--fill-color);\n",
       "      border-top-color: var(--fill-color);\n",
       "    }\n",
       "    60% {\n",
       "      border-color: transparent;\n",
       "      border-right-color: var(--fill-color);\n",
       "    }\n",
       "    80% {\n",
       "      border-color: transparent;\n",
       "      border-right-color: var(--fill-color);\n",
       "      border-bottom-color: var(--fill-color);\n",
       "    }\n",
       "    90% {\n",
       "      border-color: transparent;\n",
       "      border-bottom-color: var(--fill-color);\n",
       "    }\n",
       "  }\n",
       "</style>\n",
       "\n",
       "  <script>\n",
       "    async function quickchart(key) {\n",
       "      const quickchartButtonEl =\n",
       "        document.querySelector('#' + key + ' button');\n",
       "      quickchartButtonEl.disabled = true;  // To prevent multiple clicks.\n",
       "      quickchartButtonEl.classList.add('colab-df-spinner');\n",
       "      try {\n",
       "        const charts = await google.colab.kernel.invokeFunction(\n",
       "            'suggestCharts', [key], {});\n",
       "      } catch (error) {\n",
       "        console.error('Error during call to suggestCharts:', error);\n",
       "      }\n",
       "      quickchartButtonEl.classList.remove('colab-df-spinner');\n",
       "      quickchartButtonEl.classList.add('colab-df-quickchart-complete');\n",
       "    }\n",
       "    (() => {\n",
       "      let quickchartButtonEl =\n",
       "        document.querySelector('#df-54dc567c-e720-4601-888f-0c84376e7050 button');\n",
       "      quickchartButtonEl.style.display =\n",
       "        google.colab.kernel.accessAllowed ? 'block' : 'none';\n",
       "    })();\n",
       "  </script>\n",
       "</div>\n",
       "    </div>\n",
       "  </div>\n"
      ],
      "text/plain": [
       "               Short description  \\\n",
       "0                    login issue   \n",
       "1                        outlook   \n",
       "2             cant log in to vpn   \n",
       "3  unable to access hr_tool page   \n",
       "4                   skype error    \n",
       "\n",
       "                                         Description             Caller  \\\n",
       "0  -verified user details.(employee# & manager na...  spxjnwir pjlcoqds   \n",
       "1  _x000D_\\n_x000D_\\nreceived from: hmjdrvpb.komu...  hmjdrvpb komuaywn   \n",
       "2  _x000D_\\n_x000D_\\nreceived from: eylqgodm.ybqk...  eylqgodm ybqkwiam   \n",
       "3                      unable to access hr_tool page  xbkucsvz gcpydteq   \n",
       "4                                       skype error   owlgqjme qhcozdfx   \n",
       "\n",
       "  Assignment group                                           New Desc  \\\n",
       "0            GRP_0  login issue -verified user details.(employee# ...   \n",
       "1            GRP_0  outlook _x000D_\\n_x000D_\\nreceived from: hmjdr...   \n",
       "2            GRP_0  cant log in to vpn _x000D_\\n_x000D_\\nreceived ...   \n",
       "3            GRP_0  unable to access hr_tool page unable to access...   \n",
       "4            GRP_0                          skype error  skype error    \n",
       "\n",
       "                                    cleaned_new_desc  label  \n",
       "0  login issue verify user detail employee manage...      0  \n",
       "1  outlook receive hmjdrvpb hello team meet skype...      0  \n",
       "2  cant log vpn receive eylqgodm hi cannot log vp...      0  \n",
       "3  unable access hr tool page unable access hr to...      0  \n",
       "4                            skype error skype error      0  "
      ]
     },
     "execution_count": 25,
     "metadata": {},
     "output_type": "execute_result"
    }
   ],
   "source": [
    "dropped_df.head()"
   ]
  },
  {
   "cell_type": "code",
   "execution_count": 26,
   "metadata": {
    "colab": {
     "base_uri": "https://localhost:8080/"
    },
    "id": "VlYBJiTYlJXx",
    "outputId": "094c144e-b199-4c04-908d-40ca61ed8099"
   },
   "outputs": [
    {
     "data": {
      "text/plain": [
       "74"
      ]
     },
     "execution_count": 26,
     "metadata": {},
     "output_type": "execute_result"
    }
   ],
   "source": [
    "dropped_df['label'].nunique()"
   ]
  },
  {
   "cell_type": "markdown",
   "metadata": {
    "id": "FaUxzeorl9a7"
   },
   "source": [
    "### Count vectorizer and TF-IDF vectorizer"
   ]
  },
  {
   "cell_type": "code",
   "execution_count": 27,
   "metadata": {
    "id": "FuQtErDjnPFs"
   },
   "outputs": [],
   "source": [
    "from sklearn.model_selection import train_test_split"
   ]
  },
  {
   "cell_type": "code",
   "execution_count": 28,
   "metadata": {
    "id": "MHyHqS1anQJD"
   },
   "outputs": [],
   "source": [
    "X_train, X_test, y_train, y_test = train_test_split(dropped_df['cleaned_new_desc'], dropped_df['label'], test_size=0.30, random_state=42)"
   ]
  },
  {
   "cell_type": "code",
   "execution_count": 29,
   "metadata": {
    "id": "-6_ElkzllRHl"
   },
   "outputs": [],
   "source": [
    "from sklearn.feature_extraction.text import TfidfVectorizer, CountVectorizer"
   ]
  },
  {
   "cell_type": "code",
   "execution_count": 30,
   "metadata": {
    "id": "QJ7QzY6lmEP8"
   },
   "outputs": [],
   "source": [
    "vectorizer = CountVectorizer(ngram_range=(2, 2))\n",
    "X_train_count_emb = vectorizer.fit_transform(X_train)\n",
    "X_test_count_emb = vectorizer.transform(X_test)"
   ]
  },
  {
   "cell_type": "code",
   "execution_count": 31,
   "metadata": {
    "colab": {
     "base_uri": "https://localhost:8080/"
    },
    "id": "6wpHVt7-miyi",
    "outputId": "8d598ce0-043d-48b5-c855-2881f36d9d9d"
   },
   "outputs": [
    {
     "data": {
      "text/plain": [
       "((5943, 53996), (2548, 53996))"
      ]
     },
     "execution_count": 31,
     "metadata": {},
     "output_type": "execute_result"
    }
   ],
   "source": [
    "X_train_count_emb.todense().shape, X_test_count_emb.todense().shape"
   ]
  },
  {
   "cell_type": "code",
   "execution_count": 32,
   "metadata": {
    "id": "JPSmz0a-lrHJ"
   },
   "outputs": [],
   "source": [
    "tfidfvectorizer = TfidfVectorizer(analyzer='word',\n",
    "                                  stop_words='english',\n",
    "                                  max_features= 1000, # keep top 1000 terms\n",
    "                                  max_df = 0.5,\n",
    "                                  smooth_idf=True)\n",
    "\n",
    "X_train_tf_idf_emb = tfidfvectorizer.fit_transform(X_train)\n",
    "X_test_tf_idf_emb = tfidfvectorizer.transform(X_test)"
   ]
  },
  {
   "cell_type": "code",
   "execution_count": 33,
   "metadata": {
    "colab": {
     "base_uri": "https://localhost:8080/"
    },
    "id": "UjQNZZvOmoE2",
    "outputId": "c528382f-6efb-4d7c-b059-c69743cbf3a9"
   },
   "outputs": [
    {
     "data": {
      "text/plain": [
       "((5943, 1000), (2548, 1000))"
      ]
     },
     "execution_count": 33,
     "metadata": {},
     "output_type": "execute_result"
    }
   ],
   "source": [
    "X_train_tf_idf_emb.todense().shape, X_test_tf_idf_emb.todense().shape"
   ]
  },
  {
   "cell_type": "markdown",
   "metadata": {
    "id": "wj-7lbzWkVJX"
   },
   "source": [
    "### Count Vectorizer + SVM\n",
    "\n",
    "\n"
   ]
  },
  {
   "cell_type": "code",
   "execution_count": 34,
   "metadata": {
    "id": "x0zStRX_mj26"
   },
   "outputs": [],
   "source": [
    "from sklearn.svm import SVC\n",
    "from sklearn.pipeline import make_pipeline\n",
    "from sklearn.preprocessing import StandardScaler\n",
    "from sklearn.metrics import accuracy_score, confusion_matrix, precision_score, recall_score, f1_score, precision_recall_curve, auc"
   ]
  },
  {
   "cell_type": "code",
   "execution_count": 35,
   "metadata": {
    "colab": {
     "base_uri": "https://localhost:8080/",
     "height": 74
    },
    "id": "5rqD5pZ2pHn_",
    "outputId": "8eddbb95-564d-4340-d3ec-d755b278db21"
   },
   "outputs": [
    {
     "data": {
      "text/html": [
       "<style>#sk-container-id-1 {color: black;background-color: white;}#sk-container-id-1 pre{padding: 0;}#sk-container-id-1 div.sk-toggleable {background-color: white;}#sk-container-id-1 label.sk-toggleable__label {cursor: pointer;display: block;width: 100%;margin-bottom: 0;padding: 0.3em;box-sizing: border-box;text-align: center;}#sk-container-id-1 label.sk-toggleable__label-arrow:before {content: \"▸\";float: left;margin-right: 0.25em;color: #696969;}#sk-container-id-1 label.sk-toggleable__label-arrow:hover:before {color: black;}#sk-container-id-1 div.sk-estimator:hover label.sk-toggleable__label-arrow:before {color: black;}#sk-container-id-1 div.sk-toggleable__content {max-height: 0;max-width: 0;overflow: hidden;text-align: left;background-color: #f0f8ff;}#sk-container-id-1 div.sk-toggleable__content pre {margin: 0.2em;color: black;border-radius: 0.25em;background-color: #f0f8ff;}#sk-container-id-1 input.sk-toggleable__control:checked~div.sk-toggleable__content {max-height: 200px;max-width: 100%;overflow: auto;}#sk-container-id-1 input.sk-toggleable__control:checked~label.sk-toggleable__label-arrow:before {content: \"▾\";}#sk-container-id-1 div.sk-estimator input.sk-toggleable__control:checked~label.sk-toggleable__label {background-color: #d4ebff;}#sk-container-id-1 div.sk-label input.sk-toggleable__control:checked~label.sk-toggleable__label {background-color: #d4ebff;}#sk-container-id-1 input.sk-hidden--visually {border: 0;clip: rect(1px 1px 1px 1px);clip: rect(1px, 1px, 1px, 1px);height: 1px;margin: -1px;overflow: hidden;padding: 0;position: absolute;width: 1px;}#sk-container-id-1 div.sk-estimator {font-family: monospace;background-color: #f0f8ff;border: 1px dotted black;border-radius: 0.25em;box-sizing: border-box;margin-bottom: 0.5em;}#sk-container-id-1 div.sk-estimator:hover {background-color: #d4ebff;}#sk-container-id-1 div.sk-parallel-item::after {content: \"\";width: 100%;border-bottom: 1px solid gray;flex-grow: 1;}#sk-container-id-1 div.sk-label:hover label.sk-toggleable__label {background-color: #d4ebff;}#sk-container-id-1 div.sk-serial::before {content: \"\";position: absolute;border-left: 1px solid gray;box-sizing: border-box;top: 0;bottom: 0;left: 50%;z-index: 0;}#sk-container-id-1 div.sk-serial {display: flex;flex-direction: column;align-items: center;background-color: white;padding-right: 0.2em;padding-left: 0.2em;position: relative;}#sk-container-id-1 div.sk-item {position: relative;z-index: 1;}#sk-container-id-1 div.sk-parallel {display: flex;align-items: stretch;justify-content: center;background-color: white;position: relative;}#sk-container-id-1 div.sk-item::before, #sk-container-id-1 div.sk-parallel-item::before {content: \"\";position: absolute;border-left: 1px solid gray;box-sizing: border-box;top: 0;bottom: 0;left: 50%;z-index: -1;}#sk-container-id-1 div.sk-parallel-item {display: flex;flex-direction: column;z-index: 1;position: relative;background-color: white;}#sk-container-id-1 div.sk-parallel-item:first-child::after {align-self: flex-end;width: 50%;}#sk-container-id-1 div.sk-parallel-item:last-child::after {align-self: flex-start;width: 50%;}#sk-container-id-1 div.sk-parallel-item:only-child::after {width: 0;}#sk-container-id-1 div.sk-dashed-wrapped {border: 1px dashed gray;margin: 0 0.4em 0.5em 0.4em;box-sizing: border-box;padding-bottom: 0.4em;background-color: white;}#sk-container-id-1 div.sk-label label {font-family: monospace;font-weight: bold;display: inline-block;line-height: 1.2em;}#sk-container-id-1 div.sk-label-container {text-align: center;}#sk-container-id-1 div.sk-container {/* jupyter's `normalize.less` sets `[hidden] { display: none; }` but bootstrap.min.css set `[hidden] { display: none !important; }` so we also need the `!important` here to be able to override the default hidden behavior on the sphinx rendered scikit-learn.org. See: https://github.com/scikit-learn/scikit-learn/issues/21755 */display: inline-block !important;position: relative;}#sk-container-id-1 div.sk-text-repr-fallback {display: none;}</style><div id=\"sk-container-id-1\" class=\"sk-top-container\"><div class=\"sk-text-repr-fallback\"><pre>SVC(gamma=&#x27;auto&#x27;, kernel=&#x27;linear&#x27;)</pre><b>In a Jupyter environment, please rerun this cell to show the HTML representation or trust the notebook. <br />On GitHub, the HTML representation is unable to render, please try loading this page with nbviewer.org.</b></div><div class=\"sk-container\" hidden><div class=\"sk-item\"><div class=\"sk-estimator sk-toggleable\"><input class=\"sk-toggleable__control sk-hidden--visually\" id=\"sk-estimator-id-1\" type=\"checkbox\" checked><label for=\"sk-estimator-id-1\" class=\"sk-toggleable__label sk-toggleable__label-arrow\">SVC</label><div class=\"sk-toggleable__content\"><pre>SVC(gamma=&#x27;auto&#x27;, kernel=&#x27;linear&#x27;)</pre></div></div></div></div></div>"
      ],
      "text/plain": [
       "SVC(gamma='auto', kernel='linear')"
      ]
     },
     "execution_count": 35,
     "metadata": {},
     "output_type": "execute_result"
    }
   ],
   "source": [
    "clf = SVC(gamma='auto', kernel=\"linear\")\n",
    "clf.fit(X_train_count_emb, y_train)"
   ]
  },
  {
   "cell_type": "code",
   "execution_count": 36,
   "metadata": {
    "id": "IV64_E2npTjq"
   },
   "outputs": [],
   "source": [
    "# Using the model to predict the labels of the test data\n",
    "y_train_pred = clf.predict(X_train_count_emb)\n",
    "y_test_pred = clf.predict(X_test_count_emb)\n",
    "\n",
    "# Evaluating the accuracy of the model using the sklearn functions\n",
    "train_accuracy = accuracy_score(y_train,y_train_pred)*100\n",
    "\n",
    "# Evaluating the accuracy of the model using the sklearn functions\n",
    "test_accuracy = accuracy_score(y_test,y_test_pred)*100"
   ]
  },
  {
   "cell_type": "code",
   "execution_count": 37,
   "metadata": {
    "colab": {
     "base_uri": "https://localhost:8080/"
    },
    "id": "5Ajohfj5q67z",
    "outputId": "75ab7ae0-518d-4edd-c7b7-45a18b42c4b6"
   },
   "outputs": [
    {
     "name": "stdout",
     "output_type": "stream",
     "text": [
      "Model: Count vectorizer + SVM\n",
      "Train Accuracy 95.03617701497559\n",
      "Train Recall_score: 0.950361770149756\n",
      "Train Precision_score: 0.956427018238865\n",
      "Train F-score: 0.9490397881617052\n"
     ]
    }
   ],
   "source": [
    "# Printing the results\n",
    "print('Model: Count vectorizer + SVM')\n",
    "print('Train Accuracy', train_accuracy)\n",
    "print('Train Recall_score: ' + str(recall_score(y_train,y_train_pred, average='weighted')))\n",
    "print('Train Precision_score: ' + str(precision_score(y_train,y_train_pred, average='weighted', zero_division=1)))\n",
    "print('Train F-score: ' + str(f1_score(y_train,y_train_pred, average='weighted')))"
   ]
  },
  {
   "cell_type": "code",
   "execution_count": 38,
   "metadata": {
    "colab": {
     "base_uri": "https://localhost:8080/"
    },
    "id": "h7_oM7kXiPXy",
    "outputId": "9eb286b2-3b89-48a2-d326-6c98aa2336a4"
   },
   "outputs": [
    {
     "name": "stdout",
     "output_type": "stream",
     "text": [
      "Model: Count vectorizer + SVM\n",
      "Test Accuracy 62.04866562009419\n",
      "Test Recall_score: 0.6204866562009419\n",
      "Test Precision_score: 0.5714096410270931\n",
      "Test F-score: 0.5446271225485227\n"
     ]
    }
   ],
   "source": [
    "print('Model: Count vectorizer + SVM')\n",
    "print('Test Accuracy', test_accuracy)\n",
    "print('Test Recall_score: ' + str(recall_score(y_test, y_test_pred, average='weighted', zero_division=0)))\n",
    "print('Test Precision_score: ' + str(precision_score(y_test, y_test_pred, average='weighted', zero_division=0)))\n",
    "print('Test F-score: ' + str(f1_score(y_test, y_test_pred, average='weighted')))"
   ]
  },
  {
   "cell_type": "markdown",
   "metadata": {
    "id": "MKYyqI1fkcQC"
   },
   "source": [
    "### Count Vectorizer + Random Forest"
   ]
  },
  {
   "cell_type": "code",
   "execution_count": 39,
   "metadata": {
    "id": "oTqIOne3rIw4"
   },
   "outputs": [],
   "source": [
    "from sklearn.ensemble import RandomForestClassifier"
   ]
  },
  {
   "cell_type": "code",
   "execution_count": 40,
   "metadata": {
    "colab": {
     "base_uri": "https://localhost:8080/",
     "height": 74
    },
    "id": "xlwK8mfLkhoI",
    "outputId": "e1671d78-0066-4837-8fa9-f18ccc5619de"
   },
   "outputs": [
    {
     "data": {
      "text/html": [
       "<style>#sk-container-id-2 {color: black;background-color: white;}#sk-container-id-2 pre{padding: 0;}#sk-container-id-2 div.sk-toggleable {background-color: white;}#sk-container-id-2 label.sk-toggleable__label {cursor: pointer;display: block;width: 100%;margin-bottom: 0;padding: 0.3em;box-sizing: border-box;text-align: center;}#sk-container-id-2 label.sk-toggleable__label-arrow:before {content: \"▸\";float: left;margin-right: 0.25em;color: #696969;}#sk-container-id-2 label.sk-toggleable__label-arrow:hover:before {color: black;}#sk-container-id-2 div.sk-estimator:hover label.sk-toggleable__label-arrow:before {color: black;}#sk-container-id-2 div.sk-toggleable__content {max-height: 0;max-width: 0;overflow: hidden;text-align: left;background-color: #f0f8ff;}#sk-container-id-2 div.sk-toggleable__content pre {margin: 0.2em;color: black;border-radius: 0.25em;background-color: #f0f8ff;}#sk-container-id-2 input.sk-toggleable__control:checked~div.sk-toggleable__content {max-height: 200px;max-width: 100%;overflow: auto;}#sk-container-id-2 input.sk-toggleable__control:checked~label.sk-toggleable__label-arrow:before {content: \"▾\";}#sk-container-id-2 div.sk-estimator input.sk-toggleable__control:checked~label.sk-toggleable__label {background-color: #d4ebff;}#sk-container-id-2 div.sk-label input.sk-toggleable__control:checked~label.sk-toggleable__label {background-color: #d4ebff;}#sk-container-id-2 input.sk-hidden--visually {border: 0;clip: rect(1px 1px 1px 1px);clip: rect(1px, 1px, 1px, 1px);height: 1px;margin: -1px;overflow: hidden;padding: 0;position: absolute;width: 1px;}#sk-container-id-2 div.sk-estimator {font-family: monospace;background-color: #f0f8ff;border: 1px dotted black;border-radius: 0.25em;box-sizing: border-box;margin-bottom: 0.5em;}#sk-container-id-2 div.sk-estimator:hover {background-color: #d4ebff;}#sk-container-id-2 div.sk-parallel-item::after {content: \"\";width: 100%;border-bottom: 1px solid gray;flex-grow: 1;}#sk-container-id-2 div.sk-label:hover label.sk-toggleable__label {background-color: #d4ebff;}#sk-container-id-2 div.sk-serial::before {content: \"\";position: absolute;border-left: 1px solid gray;box-sizing: border-box;top: 0;bottom: 0;left: 50%;z-index: 0;}#sk-container-id-2 div.sk-serial {display: flex;flex-direction: column;align-items: center;background-color: white;padding-right: 0.2em;padding-left: 0.2em;position: relative;}#sk-container-id-2 div.sk-item {position: relative;z-index: 1;}#sk-container-id-2 div.sk-parallel {display: flex;align-items: stretch;justify-content: center;background-color: white;position: relative;}#sk-container-id-2 div.sk-item::before, #sk-container-id-2 div.sk-parallel-item::before {content: \"\";position: absolute;border-left: 1px solid gray;box-sizing: border-box;top: 0;bottom: 0;left: 50%;z-index: -1;}#sk-container-id-2 div.sk-parallel-item {display: flex;flex-direction: column;z-index: 1;position: relative;background-color: white;}#sk-container-id-2 div.sk-parallel-item:first-child::after {align-self: flex-end;width: 50%;}#sk-container-id-2 div.sk-parallel-item:last-child::after {align-self: flex-start;width: 50%;}#sk-container-id-2 div.sk-parallel-item:only-child::after {width: 0;}#sk-container-id-2 div.sk-dashed-wrapped {border: 1px dashed gray;margin: 0 0.4em 0.5em 0.4em;box-sizing: border-box;padding-bottom: 0.4em;background-color: white;}#sk-container-id-2 div.sk-label label {font-family: monospace;font-weight: bold;display: inline-block;line-height: 1.2em;}#sk-container-id-2 div.sk-label-container {text-align: center;}#sk-container-id-2 div.sk-container {/* jupyter's `normalize.less` sets `[hidden] { display: none; }` but bootstrap.min.css set `[hidden] { display: none !important; }` so we also need the `!important` here to be able to override the default hidden behavior on the sphinx rendered scikit-learn.org. See: https://github.com/scikit-learn/scikit-learn/issues/21755 */display: inline-block !important;position: relative;}#sk-container-id-2 div.sk-text-repr-fallback {display: none;}</style><div id=\"sk-container-id-2\" class=\"sk-top-container\"><div class=\"sk-text-repr-fallback\"><pre>RandomForestClassifier(max_depth=50, n_estimators=400)</pre><b>In a Jupyter environment, please rerun this cell to show the HTML representation or trust the notebook. <br />On GitHub, the HTML representation is unable to render, please try loading this page with nbviewer.org.</b></div><div class=\"sk-container\" hidden><div class=\"sk-item\"><div class=\"sk-estimator sk-toggleable\"><input class=\"sk-toggleable__control sk-hidden--visually\" id=\"sk-estimator-id-2\" type=\"checkbox\" checked><label for=\"sk-estimator-id-2\" class=\"sk-toggleable__label sk-toggleable__label-arrow\">RandomForestClassifier</label><div class=\"sk-toggleable__content\"><pre>RandomForestClassifier(max_depth=50, n_estimators=400)</pre></div></div></div></div></div>"
      ],
      "text/plain": [
       "RandomForestClassifier(max_depth=50, n_estimators=400)"
      ]
     },
     "execution_count": 40,
     "metadata": {},
     "output_type": "execute_result"
    }
   ],
   "source": [
    "rf = RandomForestClassifier(n_estimators= 400, max_depth= 50)\n",
    "rf.fit(X_train_count_emb, y_train)"
   ]
  },
  {
   "cell_type": "code",
   "execution_count": 41,
   "metadata": {
    "id": "8BSetAMjksig"
   },
   "outputs": [],
   "source": [
    "y_train_pred = rf.predict(X_train_count_emb)\n",
    "y_test_pred = rf.predict(X_test_count_emb)"
   ]
  },
  {
   "cell_type": "code",
   "execution_count": 42,
   "metadata": {
    "colab": {
     "base_uri": "https://localhost:8080/"
    },
    "id": "wSAOP3vlk4cK",
    "outputId": "20741944-fa48-4d63-cd39-dc64e1277ebd"
   },
   "outputs": [
    {
     "name": "stdout",
     "output_type": "stream",
     "text": [
      "Model: Count vectorizer + Random Forest\n",
      "Train Accuracy 59.6836614504459\n",
      "Train Recall_score: 0.596836614504459\n",
      "Train Precision_score: 0.7470854160239904\n",
      "Train F-score: 0.48888533069155343\n",
      "Model: Count vectorizer + Random Forest\n",
      "Test Accuracy 56.98587127158555\n",
      "Test Recall_score: 0.5698587127158555\n",
      "Test Precision_score: 0.46176840653185275\n",
      "Test F-score: 0.4467619879595236\n"
     ]
    }
   ],
   "source": [
    "# Evaluating the accuracy of the model using the sklearn functions\n",
    "train_accuracy = accuracy_score(y_train,y_train_pred)*100\n",
    "# Evaluating the accuracy of the model using the sklearn functions\n",
    "test_accuracy = accuracy_score(y_test,y_test_pred)*100\n",
    "\n",
    "# Printing the results\n",
    "print('Model: Count vectorizer + Random Forest')\n",
    "print('Train Accuracy', train_accuracy)\n",
    "print('Train Recall_score: ' + str(recall_score(y_train,y_train_pred, average='weighted')))\n",
    "print('Train Precision_score: ' + str(precision_score(y_train,y_train_pred, average='weighted', zero_division=1)))\n",
    "print('Train F-score: ' + str(f1_score(y_train,y_train_pred, average='weighted')))\n",
    "\n",
    "print('Model: Count vectorizer + Random Forest')\n",
    "print('Test Accuracy', test_accuracy)\n",
    "print('Test Recall_score: ' + str(recall_score(y_test, y_test_pred, average='weighted', zero_division=0)))\n",
    "print('Test Precision_score: ' + str(precision_score(y_test, y_test_pred, average='weighted', zero_division=0)))\n",
    "print('Test F-score: ' + str(f1_score(y_test, y_test_pred, average='weighted')))"
   ]
  },
  {
   "cell_type": "markdown",
   "metadata": {
    "id": "RqeoKc8pm-6E"
   },
   "source": [
    "### TF-IDF Vectorizer + SVM"
   ]
  },
  {
   "cell_type": "code",
   "execution_count": 43,
   "metadata": {
    "colab": {
     "base_uri": "https://localhost:8080/",
     "height": 74
    },
    "id": "_UwYB_MvnBLW",
    "outputId": "9e821b4f-2a72-4252-f05d-2413ba51d564"
   },
   "outputs": [
    {
     "data": {
      "text/html": [
       "<style>#sk-container-id-3 {color: black;background-color: white;}#sk-container-id-3 pre{padding: 0;}#sk-container-id-3 div.sk-toggleable {background-color: white;}#sk-container-id-3 label.sk-toggleable__label {cursor: pointer;display: block;width: 100%;margin-bottom: 0;padding: 0.3em;box-sizing: border-box;text-align: center;}#sk-container-id-3 label.sk-toggleable__label-arrow:before {content: \"▸\";float: left;margin-right: 0.25em;color: #696969;}#sk-container-id-3 label.sk-toggleable__label-arrow:hover:before {color: black;}#sk-container-id-3 div.sk-estimator:hover label.sk-toggleable__label-arrow:before {color: black;}#sk-container-id-3 div.sk-toggleable__content {max-height: 0;max-width: 0;overflow: hidden;text-align: left;background-color: #f0f8ff;}#sk-container-id-3 div.sk-toggleable__content pre {margin: 0.2em;color: black;border-radius: 0.25em;background-color: #f0f8ff;}#sk-container-id-3 input.sk-toggleable__control:checked~div.sk-toggleable__content {max-height: 200px;max-width: 100%;overflow: auto;}#sk-container-id-3 input.sk-toggleable__control:checked~label.sk-toggleable__label-arrow:before {content: \"▾\";}#sk-container-id-3 div.sk-estimator input.sk-toggleable__control:checked~label.sk-toggleable__label {background-color: #d4ebff;}#sk-container-id-3 div.sk-label input.sk-toggleable__control:checked~label.sk-toggleable__label {background-color: #d4ebff;}#sk-container-id-3 input.sk-hidden--visually {border: 0;clip: rect(1px 1px 1px 1px);clip: rect(1px, 1px, 1px, 1px);height: 1px;margin: -1px;overflow: hidden;padding: 0;position: absolute;width: 1px;}#sk-container-id-3 div.sk-estimator {font-family: monospace;background-color: #f0f8ff;border: 1px dotted black;border-radius: 0.25em;box-sizing: border-box;margin-bottom: 0.5em;}#sk-container-id-3 div.sk-estimator:hover {background-color: #d4ebff;}#sk-container-id-3 div.sk-parallel-item::after {content: \"\";width: 100%;border-bottom: 1px solid gray;flex-grow: 1;}#sk-container-id-3 div.sk-label:hover label.sk-toggleable__label {background-color: #d4ebff;}#sk-container-id-3 div.sk-serial::before {content: \"\";position: absolute;border-left: 1px solid gray;box-sizing: border-box;top: 0;bottom: 0;left: 50%;z-index: 0;}#sk-container-id-3 div.sk-serial {display: flex;flex-direction: column;align-items: center;background-color: white;padding-right: 0.2em;padding-left: 0.2em;position: relative;}#sk-container-id-3 div.sk-item {position: relative;z-index: 1;}#sk-container-id-3 div.sk-parallel {display: flex;align-items: stretch;justify-content: center;background-color: white;position: relative;}#sk-container-id-3 div.sk-item::before, #sk-container-id-3 div.sk-parallel-item::before {content: \"\";position: absolute;border-left: 1px solid gray;box-sizing: border-box;top: 0;bottom: 0;left: 50%;z-index: -1;}#sk-container-id-3 div.sk-parallel-item {display: flex;flex-direction: column;z-index: 1;position: relative;background-color: white;}#sk-container-id-3 div.sk-parallel-item:first-child::after {align-self: flex-end;width: 50%;}#sk-container-id-3 div.sk-parallel-item:last-child::after {align-self: flex-start;width: 50%;}#sk-container-id-3 div.sk-parallel-item:only-child::after {width: 0;}#sk-container-id-3 div.sk-dashed-wrapped {border: 1px dashed gray;margin: 0 0.4em 0.5em 0.4em;box-sizing: border-box;padding-bottom: 0.4em;background-color: white;}#sk-container-id-3 div.sk-label label {font-family: monospace;font-weight: bold;display: inline-block;line-height: 1.2em;}#sk-container-id-3 div.sk-label-container {text-align: center;}#sk-container-id-3 div.sk-container {/* jupyter's `normalize.less` sets `[hidden] { display: none; }` but bootstrap.min.css set `[hidden] { display: none !important; }` so we also need the `!important` here to be able to override the default hidden behavior on the sphinx rendered scikit-learn.org. See: https://github.com/scikit-learn/scikit-learn/issues/21755 */display: inline-block !important;position: relative;}#sk-container-id-3 div.sk-text-repr-fallback {display: none;}</style><div id=\"sk-container-id-3\" class=\"sk-top-container\"><div class=\"sk-text-repr-fallback\"><pre>SVC(gamma=&#x27;auto&#x27;, kernel=&#x27;linear&#x27;)</pre><b>In a Jupyter environment, please rerun this cell to show the HTML representation or trust the notebook. <br />On GitHub, the HTML representation is unable to render, please try loading this page with nbviewer.org.</b></div><div class=\"sk-container\" hidden><div class=\"sk-item\"><div class=\"sk-estimator sk-toggleable\"><input class=\"sk-toggleable__control sk-hidden--visually\" id=\"sk-estimator-id-3\" type=\"checkbox\" checked><label for=\"sk-estimator-id-3\" class=\"sk-toggleable__label sk-toggleable__label-arrow\">SVC</label><div class=\"sk-toggleable__content\"><pre>SVC(gamma=&#x27;auto&#x27;, kernel=&#x27;linear&#x27;)</pre></div></div></div></div></div>"
      ],
      "text/plain": [
       "SVC(gamma='auto', kernel='linear')"
      ]
     },
     "execution_count": 43,
     "metadata": {},
     "output_type": "execute_result"
    }
   ],
   "source": [
    "clf = SVC(gamma='auto', kernel=\"linear\")\n",
    "clf.fit(X_train_tf_idf_emb, y_train)"
   ]
  },
  {
   "cell_type": "code",
   "execution_count": 44,
   "metadata": {
    "id": "oRmIwgqPnGnF"
   },
   "outputs": [],
   "source": [
    "# Using the model to predict the labels of the test data\n",
    "y_train_pred = clf.predict(X_train_tf_idf_emb)\n",
    "y_test_pred = clf.predict(X_test_tf_idf_emb)"
   ]
  },
  {
   "cell_type": "code",
   "execution_count": 45,
   "metadata": {
    "colab": {
     "base_uri": "https://localhost:8080/"
    },
    "id": "XFAX-5JQnLny",
    "outputId": "7e5657f4-f6d6-4f4d-a07c-db45d6a991bb"
   },
   "outputs": [
    {
     "name": "stdout",
     "output_type": "stream",
     "text": [
      "Model: tf-idf vectorizer + SVM\n",
      "Train Accuracy 73.9862022547535\n",
      "Train Recall_score: 0.739862022547535\n",
      "Train Precision_score: 0.7820385923232105\n",
      "Train F-score: 0.697555922788423\n",
      "Model: tf-idf vectorizer + SVM\n",
      "Test Accuracy 66.87598116169545\n",
      "Test Recall_score: 0.6687598116169545\n",
      "Test Precision_score: 0.6187648460722712\n",
      "Test F-score: 0.600712209609537\n"
     ]
    }
   ],
   "source": [
    "# Evaluating the accuracy of the model using the sklearn functions\n",
    "train_accuracy = accuracy_score(y_train,y_train_pred)*100\n",
    "\n",
    "# Evaluating the accuracy of the model using the sklearn functions\n",
    "test_accuracy = accuracy_score(y_test,y_test_pred)*100\n",
    "\n",
    "# Printing the results\n",
    "print('Model: tf-idf vectorizer + SVM')\n",
    "print('Train Accuracy', train_accuracy)\n",
    "print('Train Recall_score: ' + str(recall_score(y_train,y_train_pred, average='weighted')))\n",
    "print('Train Precision_score: ' + str(precision_score(y_train,y_train_pred, average='weighted', zero_division=1)))\n",
    "print('Train F-score: ' + str(f1_score(y_train,y_train_pred, average='weighted')))\n",
    "\n",
    "print('Model: tf-idf vectorizer + SVM')\n",
    "print('Test Accuracy', test_accuracy)\n",
    "print('Test Recall_score: ' + str(recall_score(y_test, y_test_pred, average='weighted', zero_division=0)))\n",
    "print('Test Precision_score: ' + str(precision_score(y_test, y_test_pred, average='weighted', zero_division=0)))\n",
    "print('Test F-score: ' + str(f1_score(y_test, y_test_pred, average='weighted')))"
   ]
  },
  {
   "cell_type": "markdown",
   "metadata": {
    "id": "-mLxw9ium4qd"
   },
   "source": [
    "### TF-IDF Vectorizer + Random Forest"
   ]
  },
  {
   "cell_type": "code",
   "execution_count": 46,
   "metadata": {
    "colab": {
     "base_uri": "https://localhost:8080/",
     "height": 74
    },
    "id": "sXVu9E2wlIqK",
    "outputId": "08752102-77bd-4100-ed78-7839cbeb6d5e"
   },
   "outputs": [
    {
     "data": {
      "text/html": [
       "<style>#sk-container-id-4 {color: black;background-color: white;}#sk-container-id-4 pre{padding: 0;}#sk-container-id-4 div.sk-toggleable {background-color: white;}#sk-container-id-4 label.sk-toggleable__label {cursor: pointer;display: block;width: 100%;margin-bottom: 0;padding: 0.3em;box-sizing: border-box;text-align: center;}#sk-container-id-4 label.sk-toggleable__label-arrow:before {content: \"▸\";float: left;margin-right: 0.25em;color: #696969;}#sk-container-id-4 label.sk-toggleable__label-arrow:hover:before {color: black;}#sk-container-id-4 div.sk-estimator:hover label.sk-toggleable__label-arrow:before {color: black;}#sk-container-id-4 div.sk-toggleable__content {max-height: 0;max-width: 0;overflow: hidden;text-align: left;background-color: #f0f8ff;}#sk-container-id-4 div.sk-toggleable__content pre {margin: 0.2em;color: black;border-radius: 0.25em;background-color: #f0f8ff;}#sk-container-id-4 input.sk-toggleable__control:checked~div.sk-toggleable__content {max-height: 200px;max-width: 100%;overflow: auto;}#sk-container-id-4 input.sk-toggleable__control:checked~label.sk-toggleable__label-arrow:before {content: \"▾\";}#sk-container-id-4 div.sk-estimator input.sk-toggleable__control:checked~label.sk-toggleable__label {background-color: #d4ebff;}#sk-container-id-4 div.sk-label input.sk-toggleable__control:checked~label.sk-toggleable__label {background-color: #d4ebff;}#sk-container-id-4 input.sk-hidden--visually {border: 0;clip: rect(1px 1px 1px 1px);clip: rect(1px, 1px, 1px, 1px);height: 1px;margin: -1px;overflow: hidden;padding: 0;position: absolute;width: 1px;}#sk-container-id-4 div.sk-estimator {font-family: monospace;background-color: #f0f8ff;border: 1px dotted black;border-radius: 0.25em;box-sizing: border-box;margin-bottom: 0.5em;}#sk-container-id-4 div.sk-estimator:hover {background-color: #d4ebff;}#sk-container-id-4 div.sk-parallel-item::after {content: \"\";width: 100%;border-bottom: 1px solid gray;flex-grow: 1;}#sk-container-id-4 div.sk-label:hover label.sk-toggleable__label {background-color: #d4ebff;}#sk-container-id-4 div.sk-serial::before {content: \"\";position: absolute;border-left: 1px solid gray;box-sizing: border-box;top: 0;bottom: 0;left: 50%;z-index: 0;}#sk-container-id-4 div.sk-serial {display: flex;flex-direction: column;align-items: center;background-color: white;padding-right: 0.2em;padding-left: 0.2em;position: relative;}#sk-container-id-4 div.sk-item {position: relative;z-index: 1;}#sk-container-id-4 div.sk-parallel {display: flex;align-items: stretch;justify-content: center;background-color: white;position: relative;}#sk-container-id-4 div.sk-item::before, #sk-container-id-4 div.sk-parallel-item::before {content: \"\";position: absolute;border-left: 1px solid gray;box-sizing: border-box;top: 0;bottom: 0;left: 50%;z-index: -1;}#sk-container-id-4 div.sk-parallel-item {display: flex;flex-direction: column;z-index: 1;position: relative;background-color: white;}#sk-container-id-4 div.sk-parallel-item:first-child::after {align-self: flex-end;width: 50%;}#sk-container-id-4 div.sk-parallel-item:last-child::after {align-self: flex-start;width: 50%;}#sk-container-id-4 div.sk-parallel-item:only-child::after {width: 0;}#sk-container-id-4 div.sk-dashed-wrapped {border: 1px dashed gray;margin: 0 0.4em 0.5em 0.4em;box-sizing: border-box;padding-bottom: 0.4em;background-color: white;}#sk-container-id-4 div.sk-label label {font-family: monospace;font-weight: bold;display: inline-block;line-height: 1.2em;}#sk-container-id-4 div.sk-label-container {text-align: center;}#sk-container-id-4 div.sk-container {/* jupyter's `normalize.less` sets `[hidden] { display: none; }` but bootstrap.min.css set `[hidden] { display: none !important; }` so we also need the `!important` here to be able to override the default hidden behavior on the sphinx rendered scikit-learn.org. See: https://github.com/scikit-learn/scikit-learn/issues/21755 */display: inline-block !important;position: relative;}#sk-container-id-4 div.sk-text-repr-fallback {display: none;}</style><div id=\"sk-container-id-4\" class=\"sk-top-container\"><div class=\"sk-text-repr-fallback\"><pre>RandomForestClassifier(max_depth=20, n_estimators=400)</pre><b>In a Jupyter environment, please rerun this cell to show the HTML representation or trust the notebook. <br />On GitHub, the HTML representation is unable to render, please try loading this page with nbviewer.org.</b></div><div class=\"sk-container\" hidden><div class=\"sk-item\"><div class=\"sk-estimator sk-toggleable\"><input class=\"sk-toggleable__control sk-hidden--visually\" id=\"sk-estimator-id-4\" type=\"checkbox\" checked><label for=\"sk-estimator-id-4\" class=\"sk-toggleable__label sk-toggleable__label-arrow\">RandomForestClassifier</label><div class=\"sk-toggleable__content\"><pre>RandomForestClassifier(max_depth=20, n_estimators=400)</pre></div></div></div></div></div>"
      ],
      "text/plain": [
       "RandomForestClassifier(max_depth=20, n_estimators=400)"
      ]
     },
     "execution_count": 46,
     "metadata": {},
     "output_type": "execute_result"
    }
   ],
   "source": [
    "rf = RandomForestClassifier(n_estimators= 400, max_depth= 20)\n",
    "rf.fit(X_train_tf_idf_emb, y_train)"
   ]
  },
  {
   "cell_type": "code",
   "execution_count": 47,
   "metadata": {
    "id": "5AQ8jq_An1Bl"
   },
   "outputs": [],
   "source": [
    "y_train_pred = rf.predict(X_train_tf_idf_emb)\n",
    "y_test_pred = rf.predict(X_test_tf_idf_emb)"
   ]
  },
  {
   "cell_type": "code",
   "execution_count": 48,
   "metadata": {
    "colab": {
     "base_uri": "https://localhost:8080/"
    },
    "id": "7nL8XyD5n4Ap",
    "outputId": "600e977a-400f-4088-b0c3-1dfabab8c6ed"
   },
   "outputs": [
    {
     "name": "stdout",
     "output_type": "stream",
     "text": [
      "Model: tf-idf vectorizer + Random Forest\n",
      "Train Accuracy 63.41914857815918\n",
      "Train Recall_score: 0.6341914857815918\n",
      "Train Precision_score: 0.7700072832450384\n",
      "Train F-score: 0.5430149116192334\n",
      "Model: tf-idf vectorizer + Random Forest\n",
      "Test Accuracy 59.7331240188383\n",
      "Test Recall_score: 0.597331240188383\n",
      "Test Precision_score: 0.4892111317691725\n",
      "Test F-score: 0.48550314340449746\n"
     ]
    }
   ],
   "source": [
    "# Evaluating the accuracy of the model using the sklearn functions\n",
    "train_accuracy = accuracy_score(y_train,y_train_pred)*100\n",
    "# Evaluating the accuracy of the model using the sklearn functions\n",
    "test_accuracy = accuracy_score(y_test,y_test_pred)*100\n",
    "\n",
    "# Printing the results\n",
    "print('Model: tf-idf vectorizer + Random Forest')\n",
    "print('Train Accuracy', train_accuracy)\n",
    "print('Train Recall_score: ' + str(recall_score(y_train,y_train_pred, average='weighted')))\n",
    "print('Train Precision_score: ' + str(precision_score(y_train,y_train_pred, average='weighted', zero_division=1)))\n",
    "print('Train F-score: ' + str(f1_score(y_train,y_train_pred, average='weighted')))\n",
    "\n",
    "print('Model: tf-idf vectorizer + Random Forest')\n",
    "print('Test Accuracy', test_accuracy)\n",
    "print('Test Recall_score: ' + str(recall_score(y_test, y_test_pred, average='weighted', zero_division=0)))\n",
    "print('Test Precision_score: ' + str(precision_score(y_test, y_test_pred, average='weighted', zero_division=0)))\n",
    "print('Test F-score: ' + str(f1_score(y_test, y_test_pred, average='weighted')))"
   ]
  },
  {
   "cell_type": "code",
   "execution_count": 48,
   "metadata": {
    "id": "qkDdJFC-oJ7D"
   },
   "outputs": [],
   "source": []
  },
  {
   "cell_type": "markdown",
   "metadata": {
    "id": "U0vy_fNM6iqB"
   },
   "source": [
    "### LLM - Sentence transformer"
   ]
  },
  {
   "cell_type": "code",
   "execution_count": 49,
   "metadata": {
    "colab": {
     "base_uri": "https://localhost:8080/"
    },
    "id": "dlK_nE3x6mCm",
    "outputId": "1e4dba15-8035-4f76-f6d7-6a44ec56072e"
   },
   "outputs": [
    {
     "name": "stdout",
     "output_type": "stream",
     "text": [
      "\u001b[?25l     \u001b[90m━━━━━━━━━━━━━━━━━━━━━━━━━━━━━━━━━━━━━━━━\u001b[0m \u001b[32m0.0/171.5 kB\u001b[0m \u001b[31m?\u001b[0m eta \u001b[36m-:--:--\u001b[0m\r",
      "\u001b[2K     \u001b[91m━━━━━━━━━━━━━━━━━━━━━━━━━━━━━━━━━━━━━━\u001b[0m\u001b[90m╺\u001b[0m\u001b[90m━\u001b[0m \u001b[32m163.8/171.5 kB\u001b[0m \u001b[31m6.2 MB/s\u001b[0m eta \u001b[36m0:00:01\u001b[0m\r",
      "\u001b[2K     \u001b[90m━━━━━━━━━━━━━━━━━━━━━━━━━━━━━━━━━━━━━━━━\u001b[0m \u001b[32m171.5/171.5 kB\u001b[0m \u001b[31m4.5 MB/s\u001b[0m eta \u001b[36m0:00:00\u001b[0m\n",
      "\u001b[?25h"
     ]
    }
   ],
   "source": [
    "# installing the sentence-transformers library\n",
    "!pip install -U sentence-transformers -q"
   ]
  },
  {
   "cell_type": "code",
   "execution_count": 50,
   "metadata": {
    "id": "cOj-jkOwMtji"
   },
   "outputs": [],
   "source": [
    "# to import the model\n",
    "from sentence_transformers import SentenceTransformer\n",
    "import torch"
   ]
  },
  {
   "cell_type": "code",
   "execution_count": 109,
   "metadata": {
    "id": "CQ4ntwVN6mtn"
   },
   "outputs": [],
   "source": [
    "#Defining the model\n",
    "# model = SentenceTransformer('sentence-transformers/all-MiniLM-L6-v2')\n",
    "emb_model = SentenceTransformer('paraphrase-MiniLM-L6-v2')"
   ]
  },
  {
   "cell_type": "code",
   "execution_count": 52,
   "metadata": {
    "id": "rjrcN_bfMzhK"
   },
   "outputs": [],
   "source": [
    "# setting the device to GPU if available, else CPU\n",
    "device = torch.device(\"cuda\" if torch.cuda.is_available() else \"cpu\")"
   ]
  },
  {
   "cell_type": "code",
   "execution_count": 53,
   "metadata": {
    "colab": {
     "base_uri": "https://localhost:8080/",
     "height": 81,
     "referenced_widgets": [
      "893f12abdb8b42adbbc0e995763b9f1c",
      "832f38936630431f9bd1056d73bb2f3e",
      "50bf8823d921455cbba114bebe1b5e59",
      "2f8b0a55594145d8a58ff190264d9ffd",
      "590289384d6a405aa24864f6e54c95c7",
      "cf9c2845295c437ab2bd01897b9d561f",
      "062fd0b6425741739daac8d09727d80a",
      "b941333615034dc3a20f6a68f1efaeb1",
      "a827c5ca0a2549e799a0b8b2e4a6cb25",
      "dd945d3026ed471dafd26cf69f859a67",
      "d1c5b9f8db6541fcbfb4f2e09da6cf14",
      "1d461d9078504e3dabece30e3107f036",
      "4171db5923ea402fb9121804bae97c01",
      "86529c2a37c74adfb40f23acccbeaa10",
      "3969a4dec6594251824c8d6015c56e96",
      "d6fd9c447cef4465a7b00d3bf912a2b2",
      "3ef62d4053404a2f9dbe317b0ea9d4af",
      "b04993f954b84270a597b8df3e150943",
      "9f589d16fa724bafaa59948d95a939c9",
      "65de4fac6b6d43a980c7b71ff8d42d2b",
      "7a2e65a0b0b9458794cc5c650f7735dd",
      "82666fc4c4074a4aaea858014d9b20fc"
     ]
    },
    "id": "SOegBDX2MkrC",
    "outputId": "1c966129-5947-4ed0-81cf-a0df05e3b769"
   },
   "outputs": [
    {
     "data": {
      "application/vnd.jupyter.widget-view+json": {
       "model_id": "893f12abdb8b42adbbc0e995763b9f1c",
       "version_major": 2,
       "version_minor": 0
      },
      "text/plain": [
       "Batches:   0%|          | 0/186 [00:00<?, ?it/s]"
      ]
     },
     "metadata": {},
     "output_type": "display_data"
    },
    {
     "data": {
      "application/vnd.jupyter.widget-view+json": {
       "model_id": "1d461d9078504e3dabece30e3107f036",
       "version_major": 2,
       "version_minor": 0
      },
      "text/plain": [
       "Batches:   0%|          | 0/80 [00:00<?, ?it/s]"
      ]
     },
     "metadata": {},
     "output_type": "display_data"
    }
   ],
   "source": [
    "# encoding the dataset\n",
    "train_embedding_matrix = emb_model.encode(X_train.to_numpy(), show_progress_bar=True, device=device)\n",
    "test_embedding_matrix = emb_model.encode(X_test.to_numpy(), show_progress_bar=True, device=device)"
   ]
  },
  {
   "cell_type": "code",
   "execution_count": 54,
   "metadata": {
    "colab": {
     "base_uri": "https://localhost:8080/"
    },
    "id": "7mpbdpEKR7Lv",
    "outputId": "9259b73a-6f50-4045-9534-b4e79633f6dd"
   },
   "outputs": [
    {
     "data": {
      "text/plain": [
       "((5943, 384), (2548, 384))"
      ]
     },
     "execution_count": 54,
     "metadata": {},
     "output_type": "execute_result"
    }
   ],
   "source": [
    "train_embedding_matrix.shape, test_embedding_matrix.shape"
   ]
  },
  {
   "cell_type": "code",
   "execution_count": 55,
   "metadata": {
    "id": "ATAftv2aNP4y"
   },
   "outputs": [],
   "source": [
    "import tensorflow as tf\n",
    "from keras import optimizers"
   ]
  },
  {
   "cell_type": "code",
   "execution_count": 70,
   "metadata": {
    "id": "gDEIJHS0RPCa"
   },
   "outputs": [],
   "source": [
    "model = tf.keras.models.Sequential()\n",
    "# model.add(tf.keras.layers.BatchNormalization())\n",
    "# model.add(tf.keras.layers.Dense(128, activation = 'relu'))\n",
    "model.add(tf.keras.layers.Dense(512, activation = 'relu'))\n",
    "model.add(tf.keras.layers.Dense(256, activation = 'relu'))\n",
    "model.add(tf.keras.layers.Dropout(0.2))\n",
    "model.add(tf.keras.layers.Dense(74, activation='softmax'))"
   ]
  },
  {
   "cell_type": "code",
   "execution_count": 71,
   "metadata": {
    "id": "1LPvzODLuTjl"
   },
   "outputs": [],
   "source": [
    "def one_hot_encode_number_list(num_list, total_classes):\n",
    "  one_hot = np.zeros((num_list.size, total_classes))\n",
    "  one_hot[np.arange(num_list.size), num_list] = 1\n",
    "\n",
    "  return one_hot"
   ]
  },
  {
   "cell_type": "code",
   "execution_count": 69,
   "metadata": {
    "colab": {
     "base_uri": "https://localhost:8080/"
    },
    "id": "TwW6Cc8YvF1z",
    "outputId": "d5f11a99-dd8a-4307-8860-d648be056f64"
   },
   "outputs": [
    {
     "data": {
      "text/plain": [
       "array([[0., 1., 0., 0.],\n",
       "       [1., 0., 0., 0.],\n",
       "       [0., 0., 0., 1.]])"
      ]
     },
     "execution_count": 69,
     "metadata": {},
     "output_type": "execute_result"
    }
   ],
   "source": [
    "one_hot_encode_number_list(pd.Series([1, 0, 3]), 4)"
   ]
  },
  {
   "cell_type": "code",
   "execution_count": 65,
   "metadata": {
    "colab": {
     "base_uri": "https://localhost:8080/"
    },
    "id": "5Igiu1lIrR0w",
    "outputId": "e1d09226-21b1-4e9b-c2cf-56e0b18c53d4"
   },
   "outputs": [
    {
     "data": {
      "text/plain": [
       "((5943, 74), (2548, 74))"
      ]
     },
     "execution_count": 65,
     "metadata": {},
     "output_type": "execute_result"
    }
   ],
   "source": [
    "y_train_one_hot = one_hot_encode_number_list(y_train, 74)\n",
    "y_test_one_hot = one_hot_encode_number_list(y_test, 74)\n",
    "y_train_one_hot.shape, y_test_one_hot.shape"
   ]
  },
  {
   "cell_type": "code",
   "execution_count": 72,
   "metadata": {
    "colab": {
     "base_uri": "https://localhost:8080/"
    },
    "id": "Inru5j9pRShw",
    "outputId": "a2bfc795-4f34-4bd1-fba4-2ef0246a5b19"
   },
   "outputs": [
    {
     "name": "stdout",
     "output_type": "stream",
     "text": [
      "Epoch 1/50\n",
      "186/186 [==============================] - 7s 19ms/step - loss: 1.8698 - accuracy: 0.5617 - val_loss: 1.4873 - val_accuracy: 0.6209\n",
      "Epoch 2/50\n",
      "186/186 [==============================] - 3s 14ms/step - loss: 1.2964 - accuracy: 0.6470 - val_loss: 1.3554 - val_accuracy: 0.6385\n",
      "Epoch 3/50\n",
      "186/186 [==============================] - 3s 16ms/step - loss: 1.0605 - accuracy: 0.6862 - val_loss: 1.3440 - val_accuracy: 0.6507\n",
      "Epoch 4/50\n",
      "186/186 [==============================] - 4s 23ms/step - loss: 0.8786 - accuracy: 0.7308 - val_loss: 1.3185 - val_accuracy: 0.6523\n",
      "Epoch 5/50\n",
      "186/186 [==============================] - 3s 15ms/step - loss: 0.7074 - accuracy: 0.7809 - val_loss: 1.3425 - val_accuracy: 0.6499\n",
      "Epoch 6/50\n",
      "186/186 [==============================] - 3s 14ms/step - loss: 0.5657 - accuracy: 0.8184 - val_loss: 1.3948 - val_accuracy: 0.6625\n",
      "Epoch 7/50\n",
      "186/186 [==============================] - 3s 15ms/step - loss: 0.4649 - accuracy: 0.8560 - val_loss: 1.5071 - val_accuracy: 0.6589\n",
      "Epoch 8/50\n",
      "186/186 [==============================] - 2s 9ms/step - loss: 0.3791 - accuracy: 0.8802 - val_loss: 1.5014 - val_accuracy: 0.6519\n",
      "Epoch 9/50\n",
      "186/186 [==============================] - 2s 12ms/step - loss: 0.3143 - accuracy: 0.9058 - val_loss: 1.6112 - val_accuracy: 0.6448\n",
      "Epoch 10/50\n",
      "186/186 [==============================] - 2s 9ms/step - loss: 0.2800 - accuracy: 0.9128 - val_loss: 1.6267 - val_accuracy: 0.6668\n",
      "Epoch 11/50\n",
      "186/186 [==============================] - 1s 7ms/step - loss: 0.2523 - accuracy: 0.9218 - val_loss: 1.7640 - val_accuracy: 0.6515\n",
      "Epoch 12/50\n",
      "186/186 [==============================] - 1s 8ms/step - loss: 0.2309 - accuracy: 0.9293 - val_loss: 1.7889 - val_accuracy: 0.6538\n",
      "Epoch 13/50\n",
      "186/186 [==============================] - 1s 8ms/step - loss: 0.2197 - accuracy: 0.9293 - val_loss: 1.8554 - val_accuracy: 0.6578\n",
      "Epoch 14/50\n",
      "186/186 [==============================] - 2s 8ms/step - loss: 0.2132 - accuracy: 0.9303 - val_loss: 1.8277 - val_accuracy: 0.6448\n",
      "Epoch 15/50\n",
      "186/186 [==============================] - 1s 7ms/step - loss: 0.2051 - accuracy: 0.9302 - val_loss: 1.8989 - val_accuracy: 0.6664\n",
      "Epoch 16/50\n",
      "186/186 [==============================] - 2s 8ms/step - loss: 0.2011 - accuracy: 0.9349 - val_loss: 1.8843 - val_accuracy: 0.6562\n",
      "Epoch 17/50\n",
      "186/186 [==============================] - 3s 14ms/step - loss: 0.1887 - accuracy: 0.9362 - val_loss: 1.8908 - val_accuracy: 0.6417\n",
      "Epoch 18/50\n",
      "186/186 [==============================] - 2s 9ms/step - loss: 0.1917 - accuracy: 0.9366 - val_loss: 2.0126 - val_accuracy: 0.6566\n",
      "Epoch 19/50\n",
      "186/186 [==============================] - 2s 8ms/step - loss: 0.1809 - accuracy: 0.9391 - val_loss: 2.0004 - val_accuracy: 0.6527\n",
      "Epoch 20/50\n",
      "186/186 [==============================] - 2s 8ms/step - loss: 0.1801 - accuracy: 0.9384 - val_loss: 2.1953 - val_accuracy: 0.6629\n",
      "Epoch 21/50\n",
      "186/186 [==============================] - 1s 8ms/step - loss: 0.1753 - accuracy: 0.9404 - val_loss: 2.1313 - val_accuracy: 0.6405\n",
      "Epoch 22/50\n",
      "186/186 [==============================] - 2s 9ms/step - loss: 0.1731 - accuracy: 0.9399 - val_loss: 2.1375 - val_accuracy: 0.6637\n",
      "Epoch 23/50\n",
      "186/186 [==============================] - 1s 7ms/step - loss: 0.1795 - accuracy: 0.9401 - val_loss: 2.1961 - val_accuracy: 0.6323\n",
      "Epoch 24/50\n",
      "186/186 [==============================] - 2s 9ms/step - loss: 0.1810 - accuracy: 0.9388 - val_loss: 2.2310 - val_accuracy: 0.6503\n",
      "Epoch 25/50\n",
      "186/186 [==============================] - 3s 17ms/step - loss: 0.1768 - accuracy: 0.9362 - val_loss: 2.2864 - val_accuracy: 0.6527\n",
      "Epoch 26/50\n",
      "186/186 [==============================] - 1s 7ms/step - loss: 0.1781 - accuracy: 0.9388 - val_loss: 2.2414 - val_accuracy: 0.6621\n",
      "Epoch 27/50\n",
      "186/186 [==============================] - 1s 7ms/step - loss: 0.1740 - accuracy: 0.9421 - val_loss: 2.3200 - val_accuracy: 0.6538\n",
      "Epoch 28/50\n",
      "186/186 [==============================] - 1s 8ms/step - loss: 0.1706 - accuracy: 0.9393 - val_loss: 2.2627 - val_accuracy: 0.6550\n",
      "Epoch 29/50\n",
      "186/186 [==============================] - 1s 8ms/step - loss: 0.1693 - accuracy: 0.9406 - val_loss: 2.4212 - val_accuracy: 0.6499\n",
      "Epoch 30/50\n",
      "186/186 [==============================] - 2s 8ms/step - loss: 0.1651 - accuracy: 0.9404 - val_loss: 2.4857 - val_accuracy: 0.6358\n",
      "Epoch 31/50\n",
      "186/186 [==============================] - 1s 8ms/step - loss: 0.1724 - accuracy: 0.9411 - val_loss: 2.4985 - val_accuracy: 0.6527\n",
      "Epoch 32/50\n",
      "186/186 [==============================] - 2s 10ms/step - loss: 0.1713 - accuracy: 0.9382 - val_loss: 2.4093 - val_accuracy: 0.6456\n",
      "Epoch 33/50\n",
      "186/186 [==============================] - 2s 11ms/step - loss: 0.1800 - accuracy: 0.9359 - val_loss: 2.5673 - val_accuracy: 0.6527\n",
      "Epoch 34/50\n",
      "186/186 [==============================] - 2s 8ms/step - loss: 0.1848 - accuracy: 0.9325 - val_loss: 2.6244 - val_accuracy: 0.6550\n",
      "Epoch 35/50\n",
      "186/186 [==============================] - 1s 7ms/step - loss: 0.1702 - accuracy: 0.9399 - val_loss: 2.4461 - val_accuracy: 0.6503\n",
      "Epoch 36/50\n",
      "186/186 [==============================] - 1s 8ms/step - loss: 0.1554 - accuracy: 0.9426 - val_loss: 2.5427 - val_accuracy: 0.6468\n",
      "Epoch 37/50\n",
      "186/186 [==============================] - 1s 7ms/step - loss: 0.1520 - accuracy: 0.9436 - val_loss: 2.6118 - val_accuracy: 0.6570\n",
      "Epoch 38/50\n",
      "186/186 [==============================] - 1s 8ms/step - loss: 0.1533 - accuracy: 0.9441 - val_loss: 2.6473 - val_accuracy: 0.6495\n",
      "Epoch 39/50\n",
      "186/186 [==============================] - 1s 7ms/step - loss: 0.1540 - accuracy: 0.9450 - val_loss: 2.7143 - val_accuracy: 0.6523\n",
      "Epoch 40/50\n",
      "186/186 [==============================] - 2s 11ms/step - loss: 0.1551 - accuracy: 0.9431 - val_loss: 2.7045 - val_accuracy: 0.6617\n",
      "Epoch 41/50\n",
      "186/186 [==============================] - 4s 19ms/step - loss: 0.1519 - accuracy: 0.9425 - val_loss: 2.8607 - val_accuracy: 0.6531\n",
      "Epoch 42/50\n",
      "186/186 [==============================] - 3s 14ms/step - loss: 0.1486 - accuracy: 0.9416 - val_loss: 2.6613 - val_accuracy: 0.6593\n",
      "Epoch 43/50\n",
      "186/186 [==============================] - 3s 14ms/step - loss: 0.1600 - accuracy: 0.9430 - val_loss: 2.7293 - val_accuracy: 0.6303\n",
      "Epoch 44/50\n",
      "186/186 [==============================] - 2s 10ms/step - loss: 0.1667 - accuracy: 0.9413 - val_loss: 2.7541 - val_accuracy: 0.6460\n",
      "Epoch 45/50\n",
      "186/186 [==============================] - 1s 7ms/step - loss: 0.1755 - accuracy: 0.9369 - val_loss: 2.8198 - val_accuracy: 0.6566\n",
      "Epoch 46/50\n",
      "186/186 [==============================] - 2s 11ms/step - loss: 0.1942 - accuracy: 0.9345 - val_loss: 2.6077 - val_accuracy: 0.6303\n",
      "Epoch 47/50\n",
      "186/186 [==============================] - 3s 14ms/step - loss: 0.1536 - accuracy: 0.9446 - val_loss: 2.8221 - val_accuracy: 0.6582\n",
      "Epoch 48/50\n",
      "186/186 [==============================] - 3s 16ms/step - loss: 0.1466 - accuracy: 0.9478 - val_loss: 2.7766 - val_accuracy: 0.6574\n",
      "Epoch 49/50\n",
      "186/186 [==============================] - 3s 17ms/step - loss: 0.1525 - accuracy: 0.9457 - val_loss: 2.8267 - val_accuracy: 0.6531\n",
      "Epoch 50/50\n",
      "186/186 [==============================] - 3s 15ms/step - loss: 0.1594 - accuracy: 0.9441 - val_loss: 2.8912 - val_accuracy: 0.6562\n"
     ]
    },
    {
     "data": {
      "text/plain": [
       "<keras.src.callbacks.History at 0x7f24ea85db40>"
      ]
     },
     "execution_count": 72,
     "metadata": {},
     "output_type": "execute_result"
    }
   ],
   "source": [
    "optimizer = optimizers.Adam(learning_rate = 0.001)\n",
    "model.compile(optimizer=optimizer, loss='categorical_crossentropy', metrics=['accuracy'])\n",
    "model.fit(train_embedding_matrix, y_train_one_hot, validation_data=(test_embedding_matrix, y_test_one_hot), epochs=50)"
   ]
  },
  {
   "cell_type": "code",
   "execution_count": 74,
   "metadata": {
    "colab": {
     "base_uri": "https://localhost:8080/"
    },
    "id": "g2VDwa7idi0H",
    "outputId": "39a0e135-cead-4d02-a58f-4e98ebb45435"
   },
   "outputs": [
    {
     "name": "stdout",
     "output_type": "stream",
     "text": [
      "80/80 [==============================] - 1s 4ms/step\n"
     ]
    }
   ],
   "source": [
    "y_test_pred = model.predict(test_embedding_matrix)"
   ]
  },
  {
   "cell_type": "code",
   "execution_count": 82,
   "metadata": {
    "id": "_Qykli_BeFm3"
   },
   "outputs": [],
   "source": [
    "y_test_pred = one_hot_encode_number_list(np.argmax(y_test_pred, axis = 1), 74)"
   ]
  },
  {
   "cell_type": "code",
   "execution_count": 89,
   "metadata": {
    "colab": {
     "base_uri": "https://localhost:8080/"
    },
    "id": "eJMj4p4rdvNI",
    "outputId": "908a4a56-8caf-4de1-8cd6-a897cc213fc8"
   },
   "outputs": [
    {
     "name": "stdout",
     "output_type": "stream",
     "text": [
      "Model: LLM - Sentence Transformer + DL\n",
      "Test Accuracy 65.62009419152275\n",
      "Test Recall_score: 0.6562009419152276\n",
      "Test Precision_score: 0.6208249340982231\n",
      "Test F-score: 0.6202023518239554\n"
     ]
    }
   ],
   "source": [
    "# Evaluating the accuracy of the model using the sklearn functions\n",
    "test_accuracy = accuracy_score(y_test_one_hot,y_test_pred)*100\n",
    "\n",
    "print('Model: LLM - Sentence Transformer + DL')\n",
    "print('Test Accuracy', test_accuracy)\n",
    "print('Test Recall_score: ' + str(recall_score(y_test_one_hot, y_test_pred, average='weighted', zero_division=0)))\n",
    "print('Test Precision_score: ' + str(precision_score(y_test_one_hot, y_test_pred, average='weighted', zero_division=0)))\n",
    "print('Test F-score: ' + str(f1_score(y_test_one_hot, y_test_pred, average='weighted', zero_division=0)))"
   ]
  },
  {
   "cell_type": "code",
   "execution_count": null,
   "metadata": {
    "id": "tZCS2xlZeAfs"
   },
   "outputs": [],
   "source": []
  },
  {
   "cell_type": "markdown",
   "metadata": {
    "id": "KMI5Ops7tpRM"
   },
   "source": [
    "### Oversampling\n",
    "\n",
    "- took reference of sample solution and tried oversampling to overcome the imbalanced classes"
   ]
  },
  {
   "cell_type": "code",
   "execution_count": 93,
   "metadata": {
    "id": "VIvMCVBhkQ2E"
   },
   "outputs": [],
   "source": [
    "# data with only minority classes\n",
    "incidentsData_Others = dropped_df[dropped_df['Assignment group']!='GRP_0']\n",
    "max_incident_cnt = dropped_df['Assignment group'].value_counts().max()"
   ]
  },
  {
   "cell_type": "code",
   "execution_count": 101,
   "metadata": {
    "colab": {
     "base_uri": "https://localhost:8080/"
    },
    "id": "LkS2wG2voIPR",
    "outputId": "f62a57b1-ba3e-4556-e877-8c465c7df9cc"
   },
   "outputs": [
    {
     "data": {
      "text/plain": [
       "(4523, 7)"
      ]
     },
     "execution_count": 101,
     "metadata": {},
     "output_type": "execute_result"
    }
   ],
   "source": [
    "incidentsData_Others.shape"
   ]
  },
  {
   "cell_type": "code",
   "execution_count": 105,
   "metadata": {
    "colab": {
     "base_uri": "https://localhost:8080/",
     "height": 335
    },
    "id": "d5-emevXkRLv",
    "outputId": "9b667cb3-8a08-4e17-bcc2-ae8ac4e12c14"
   },
   "outputs": [
    {
     "name": "stderr",
     "output_type": "stream",
     "text": [
      "<ipython-input-105-3f6c4107a78a>:23: UserWarning: FixedFormatter should only be used together with FixedLocator\n",
      "  ax.set_xticklabels(ax.get_xticklabels(), rotation=45, ha=\"right\")\n"
     ]
    },
    {
     "data": {
      "image/png": "[encoded data removed]",
      "text/plain": [
       "<Figure size 2200x500 with 1 Axes>"
      ]
     },
     "metadata": {},
     "output_type": "display_data"
    }
   ],
   "source": [
    "# Treat the imbalnce in the 'other' dataset by resampling\n",
    "from sklearn.utils import resample\n",
    "\n",
    "incidentsData_upsampled = incidentsData_Others[0:0]\n",
    "\n",
    "# Upsample minority class\n",
    "for grp in incidentsData_Others['Assignment group'].unique():\n",
    "    incidentsData_Group = incidentsData_Others[incidentsData_Others['Assignment group'] == grp]\n",
    "    resampled = resample(incidentsData_Group,\n",
    "                         replace=True, # sample with replacement\n",
    "                         n_samples=int(max_incident_cnt/2),\n",
    "                         random_state=123) # reproducible results\n",
    "\n",
    "    incidentsData_upsampled = pd.concat([incidentsData_upsampled, resampled], ignore_index=True)\n",
    "\n",
    "incidentsData_Others_upsample = pd.concat([dropped_df[dropped_df['Assignment group']=='GRP_0'],incidentsData_upsampled])\n",
    "incidentsData_Others_upsample.reset_index(inplace=True)\n",
    "\n",
    "descending_order = incidentsData_upsampled['Assignment group'].value_counts().sort_values(ascending=False).index\n",
    "plt.subplots(figsize=(22,5))\n",
    "#add code to rotate the labels\n",
    "ax=sns.countplot(x='Assignment group', data=incidentsData_upsampled,order=descending_order)\n",
    "ax.set_xticklabels(ax.get_xticklabels(), rotation=45, ha=\"right\")\n",
    "plt.tight_layout()\n",
    "plt.show()"
   ]
  },
  {
   "cell_type": "code",
   "execution_count": 106,
   "metadata": {
    "colab": {
     "base_uri": "https://localhost:8080/",
     "height": 327
    },
    "id": "U-rhh7wRmY1h",
    "outputId": "0c712997-62c0-4599-ba63-1f524f4a0c0e"
   },
   "outputs": [
    {
     "data": {
      "application/vnd.google.colaboratory.intrinsic+json": {
       "type": "dataframe",
       "variable_name": "incidentsData_Others_upsample"
      },
      "text/html": [
       "\n",
       "  <div id=\"df-84eee3df-f681-4f31-90a2-5436ec103a16\" class=\"colab-df-container\">\n",
       "    <div>\n",
       "<style scoped>\n",
       "    .dataframe tbody tr th:only-of-type {\n",
       "        vertical-align: middle;\n",
       "    }\n",
       "\n",
       "    .dataframe tbody tr th {\n",
       "        vertical-align: top;\n",
       "    }\n",
       "\n",
       "    .dataframe thead th {\n",
       "        text-align: right;\n",
       "    }\n",
       "</style>\n",
       "<table border=\"1\" class=\"dataframe\">\n",
       "  <thead>\n",
       "    <tr style=\"text-align: right;\">\n",
       "      <th></th>\n",
       "      <th>index</th>\n",
       "      <th>Short description</th>\n",
       "      <th>Description</th>\n",
       "      <th>Caller</th>\n",
       "      <th>Assignment group</th>\n",
       "      <th>New Desc</th>\n",
       "      <th>cleaned_new_desc</th>\n",
       "      <th>label</th>\n",
       "    </tr>\n",
       "  </thead>\n",
       "  <tbody>\n",
       "    <tr>\n",
       "      <th>0</th>\n",
       "      <td>0</td>\n",
       "      <td>login issue</td>\n",
       "      <td>-verified user details.(employee# &amp; manager na...</td>\n",
       "      <td>spxjnwir pjlcoqds</td>\n",
       "      <td>GRP_0</td>\n",
       "      <td>login issue -verified user details.(employee# ...</td>\n",
       "      <td>login issue verify user detail employee manage...</td>\n",
       "      <td>0</td>\n",
       "    </tr>\n",
       "    <tr>\n",
       "      <th>1</th>\n",
       "      <td>1</td>\n",
       "      <td>outlook</td>\n",
       "      <td>_x000D_\\n_x000D_\\nreceived from: hmjdrvpb.komu...</td>\n",
       "      <td>hmjdrvpb komuaywn</td>\n",
       "      <td>GRP_0</td>\n",
       "      <td>outlook _x000D_\\n_x000D_\\nreceived from: hmjdr...</td>\n",
       "      <td>outlook receive hmjdrvpb hello team meet skype...</td>\n",
       "      <td>0</td>\n",
       "    </tr>\n",
       "    <tr>\n",
       "      <th>2</th>\n",
       "      <td>2</td>\n",
       "      <td>cant log in to vpn</td>\n",
       "      <td>_x000D_\\n_x000D_\\nreceived from: eylqgodm.ybqk...</td>\n",
       "      <td>eylqgodm ybqkwiam</td>\n",
       "      <td>GRP_0</td>\n",
       "      <td>cant log in to vpn _x000D_\\n_x000D_\\nreceived ...</td>\n",
       "      <td>cant log vpn receive eylqgodm hi cannot log vp...</td>\n",
       "      <td>0</td>\n",
       "    </tr>\n",
       "    <tr>\n",
       "      <th>3</th>\n",
       "      <td>3</td>\n",
       "      <td>unable to access hr_tool page</td>\n",
       "      <td>unable to access hr_tool page</td>\n",
       "      <td>xbkucsvz gcpydteq</td>\n",
       "      <td>GRP_0</td>\n",
       "      <td>unable to access hr_tool page unable to access...</td>\n",
       "      <td>unable access hr tool page unable access hr to...</td>\n",
       "      <td>0</td>\n",
       "    </tr>\n",
       "    <tr>\n",
       "      <th>4</th>\n",
       "      <td>4</td>\n",
       "      <td>skype error</td>\n",
       "      <td>skype error</td>\n",
       "      <td>owlgqjme qhcozdfx</td>\n",
       "      <td>GRP_0</td>\n",
       "      <td>skype error  skype error</td>\n",
       "      <td>skype error skype error</td>\n",
       "      <td>0</td>\n",
       "    </tr>\n",
       "  </tbody>\n",
       "</table>\n",
       "</div>\n",
       "    <div class=\"colab-df-buttons\">\n",
       "\n",
       "  <div class=\"colab-df-container\">\n",
       "    <button class=\"colab-df-convert\" onclick=\"convertToInteractive('df-84eee3df-f681-4f31-90a2-5436ec103a16')\"\n",
       "            title=\"Convert this dataframe to an interactive table.\"\n",
       "            style=\"display:none;\">\n",
       "\n",
       "  <svg xmlns=\"http://www.w3.org/2000/svg\" height=\"24px\" viewBox=\"0 -960 960 960\">\n",
       "    <path d=\"M120-120v-720h720v720H120Zm60-500h600v-160H180v160Zm220 220h160v-160H400v160Zm0 220h160v-160H400v160ZM180-400h160v-160H180v160Zm440 0h160v-160H620v160ZM180-180h160v-160H180v160Zm440 0h160v-160H620v160Z\"/>\n",
       "  </svg>\n",
       "    </button>\n",
       "\n",
       "  <style>\n",
       "    .colab-df-container {\n",
       "      display:flex;\n",
       "      gap: 12px;\n",
       "    }\n",
       "\n",
       "    .colab-df-convert {\n",
       "      background-color: #E8F0FE;\n",
       "      border: none;\n",
       "      border-radius: 50%;\n",
       "      cursor: pointer;\n",
       "      display: none;\n",
       "      fill: #1967D2;\n",
       "      height: 32px;\n",
       "      padding: 0 0 0 0;\n",
       "      width: 32px;\n",
       "    }\n",
       "\n",
       "    .colab-df-convert:hover {\n",
       "      background-color: #E2EBFA;\n",
       "      box-shadow: 0px 1px 2px rgba(60, 64, 67, 0.3), 0px 1px 3px 1px rgba(60, 64, 67, 0.15);\n",
       "      fill: #174EA6;\n",
       "    }\n",
       "\n",
       "    .colab-df-buttons div {\n",
       "      margin-bottom: 4px;\n",
       "    }\n",
       "\n",
       "    [theme=dark] .colab-df-convert {\n",
       "      background-color: #3B4455;\n",
       "      fill: #D2E3FC;\n",
       "    }\n",
       "\n",
       "    [theme=dark] .colab-df-convert:hover {\n",
       "      background-color: #434B5C;\n",
       "      box-shadow: 0px 1px 3px 1px rgba(0, 0, 0, 0.15);\n",
       "      filter: drop-shadow(0px 1px 2px rgba(0, 0, 0, 0.3));\n",
       "      fill: #FFFFFF;\n",
       "    }\n",
       "  </style>\n",
       "\n",
       "    <script>\n",
       "      const buttonEl =\n",
       "        document.querySelector('#df-84eee3df-f681-4f31-90a2-5436ec103a16 button.colab-df-convert');\n",
       "      buttonEl.style.display =\n",
       "        google.colab.kernel.accessAllowed ? 'block' : 'none';\n",
       "\n",
       "      async function convertToInteractive(key) {\n",
       "        const element = document.querySelector('#df-84eee3df-f681-4f31-90a2-5436ec103a16');\n",
       "        const dataTable =\n",
       "          await google.colab.kernel.invokeFunction('convertToInteractive',\n",
       "                                                    [key], {});\n",
       "        if (!dataTable) return;\n",
       "\n",
       "        const docLinkHtml = 'Like what you see? Visit the ' +\n",
       "          '<a target=\"_blank\" href=https://colab.research.google.com/notebooks/data_table.ipynb>data table notebook</a>'\n",
       "          + ' to learn more about interactive tables.';\n",
       "        element.innerHTML = '';\n",
       "        dataTable['output_type'] = 'display_data';\n",
       "        await google.colab.output.renderOutput(dataTable, element);\n",
       "        const docLink = document.createElement('div');\n",
       "        docLink.innerHTML = docLinkHtml;\n",
       "        element.appendChild(docLink);\n",
       "      }\n",
       "    </script>\n",
       "  </div>\n",
       "\n",
       "\n",
       "<div id=\"df-3ffb779e-67fb-4cd7-bdec-dc4073ef3797\">\n",
       "  <button class=\"colab-df-quickchart\" onclick=\"quickchart('df-3ffb779e-67fb-4cd7-bdec-dc4073ef3797')\"\n",
       "            title=\"Suggest charts\"\n",
       "            style=\"display:none;\">\n",
       "\n",
       "<svg xmlns=\"http://www.w3.org/2000/svg\" height=\"24px\"viewBox=\"0 0 24 24\"\n",
       "     width=\"24px\">\n",
       "    <g>\n",
       "        <path d=\"M19 3H5c-1.1 0-2 .9-2 2v14c0 1.1.9 2 2 2h14c1.1 0 2-.9 2-2V5c0-1.1-.9-2-2-2zM9 17H7v-7h2v7zm4 0h-2V7h2v10zm4 0h-2v-4h2v4z\"/>\n",
       "    </g>\n",
       "</svg>\n",
       "  </button>\n",
       "\n",
       "<style>\n",
       "  .colab-df-quickchart {\n",
       "      --bg-color: #E8F0FE;\n",
       "      --fill-color: #1967D2;\n",
       "      --hover-bg-color: #E2EBFA;\n",
       "      --hover-fill-color: #174EA6;\n",
       "      --disabled-fill-color: #AAA;\n",
       "      --disabled-bg-color: #DDD;\n",
       "  }\n",
       "\n",
       "  [theme=dark] .colab-df-quickchart {\n",
       "      --bg-color: #3B4455;\n",
       "      --fill-color: #D2E3FC;\n",
       "      --hover-bg-color: #434B5C;\n",
       "      --hover-fill-color: #FFFFFF;\n",
       "      --disabled-bg-color: #3B4455;\n",
       "      --disabled-fill-color: #666;\n",
       "  }\n",
       "\n",
       "  .colab-df-quickchart {\n",
       "    background-color: var(--bg-color);\n",
       "    border: none;\n",
       "    border-radius: 50%;\n",
       "    cursor: pointer;\n",
       "    display: none;\n",
       "    fill: var(--fill-color);\n",
       "    height: 32px;\n",
       "    padding: 0;\n",
       "    width: 32px;\n",
       "  }\n",
       "\n",
       "  .colab-df-quickchart:hover {\n",
       "    background-color: var(--hover-bg-color);\n",
       "    box-shadow: 0 1px 2px rgba(60, 64, 67, 0.3), 0 1px 3px 1px rgba(60, 64, 67, 0.15);\n",
       "    fill: var(--button-hover-fill-color);\n",
       "  }\n",
       "\n",
       "  .colab-df-quickchart-complete:disabled,\n",
       "  .colab-df-quickchart-complete:disabled:hover {\n",
       "    background-color: var(--disabled-bg-color);\n",
       "    fill: var(--disabled-fill-color);\n",
       "    box-shadow: none;\n",
       "  }\n",
       "\n",
       "  .colab-df-spinner {\n",
       "    border: 2px solid var(--fill-color);\n",
       "    border-color: transparent;\n",
       "    border-bottom-color: var(--fill-color);\n",
       "    animation:\n",
       "      spin 1s steps(1) infinite;\n",
       "  }\n",
       "\n",
       "  @keyframes spin {\n",
       "    0% {\n",
       "      border-color: transparent;\n",
       "      border-bottom-color: var(--fill-color);\n",
       "      border-left-color: var(--fill-color);\n",
       "    }\n",
       "    20% {\n",
       "      border-color: transparent;\n",
       "      border-left-color: var(--fill-color);\n",
       "      border-top-color: var(--fill-color);\n",
       "    }\n",
       "    30% {\n",
       "      border-color: transparent;\n",
       "      border-left-color: var(--fill-color);\n",
       "      border-top-color: var(--fill-color);\n",
       "      border-right-color: var(--fill-color);\n",
       "    }\n",
       "    40% {\n",
       "      border-color: transparent;\n",
       "      border-right-color: var(--fill-color);\n",
       "      border-top-color: var(--fill-color);\n",
       "    }\n",
       "    60% {\n",
       "      border-color: transparent;\n",
       "      border-right-color: var(--fill-color);\n",
       "    }\n",
       "    80% {\n",
       "      border-color: transparent;\n",
       "      border-right-color: var(--fill-color);\n",
       "      border-bottom-color: var(--fill-color);\n",
       "    }\n",
       "    90% {\n",
       "      border-color: transparent;\n",
       "      border-bottom-color: var(--fill-color);\n",
       "    }\n",
       "  }\n",
       "</style>\n",
       "\n",
       "  <script>\n",
       "    async function quickchart(key) {\n",
       "      const quickchartButtonEl =\n",
       "        document.querySelector('#' + key + ' button');\n",
       "      quickchartButtonEl.disabled = true;  // To prevent multiple clicks.\n",
       "      quickchartButtonEl.classList.add('colab-df-spinner');\n",
       "      try {\n",
       "        const charts = await google.colab.kernel.invokeFunction(\n",
       "            'suggestCharts', [key], {});\n",
       "      } catch (error) {\n",
       "        console.error('Error during call to suggestCharts:', error);\n",
       "      }\n",
       "      quickchartButtonEl.classList.remove('colab-df-spinner');\n",
       "      quickchartButtonEl.classList.add('colab-df-quickchart-complete');\n",
       "    }\n",
       "    (() => {\n",
       "      let quickchartButtonEl =\n",
       "        document.querySelector('#df-3ffb779e-67fb-4cd7-bdec-dc4073ef3797 button');\n",
       "      quickchartButtonEl.style.display =\n",
       "        google.colab.kernel.accessAllowed ? 'block' : 'none';\n",
       "    })();\n",
       "  </script>\n",
       "</div>\n",
       "    </div>\n",
       "  </div>\n"
      ],
      "text/plain": [
       "   index              Short description  \\\n",
       "0      0                    login issue   \n",
       "1      1                        outlook   \n",
       "2      2             cant log in to vpn   \n",
       "3      3  unable to access hr_tool page   \n",
       "4      4                   skype error    \n",
       "\n",
       "                                         Description             Caller  \\\n",
       "0  -verified user details.(employee# & manager na...  spxjnwir pjlcoqds   \n",
       "1  _x000D_\\n_x000D_\\nreceived from: hmjdrvpb.komu...  hmjdrvpb komuaywn   \n",
       "2  _x000D_\\n_x000D_\\nreceived from: eylqgodm.ybqk...  eylqgodm ybqkwiam   \n",
       "3                      unable to access hr_tool page  xbkucsvz gcpydteq   \n",
       "4                                       skype error   owlgqjme qhcozdfx   \n",
       "\n",
       "  Assignment group                                           New Desc  \\\n",
       "0            GRP_0  login issue -verified user details.(employee# ...   \n",
       "1            GRP_0  outlook _x000D_\\n_x000D_\\nreceived from: hmjdr...   \n",
       "2            GRP_0  cant log in to vpn _x000D_\\n_x000D_\\nreceived ...   \n",
       "3            GRP_0  unable to access hr_tool page unable to access...   \n",
       "4            GRP_0                          skype error  skype error    \n",
       "\n",
       "                                    cleaned_new_desc  label  \n",
       "0  login issue verify user detail employee manage...      0  \n",
       "1  outlook receive hmjdrvpb hello team meet skype...      0  \n",
       "2  cant log vpn receive eylqgodm hi cannot log vp...      0  \n",
       "3  unable access hr tool page unable access hr to...      0  \n",
       "4                            skype error skype error      0  "
      ]
     },
     "execution_count": 106,
     "metadata": {},
     "output_type": "execute_result"
    }
   ],
   "source": [
    "incidentsData_Others_upsample.head()"
   ]
  },
  {
   "cell_type": "markdown",
   "metadata": {
    "id": "zGdpioc9uGyo"
   },
   "source": [
    "### TF-IDF + SVM (With Oversampling)"
   ]
  },
  {
   "cell_type": "code",
   "execution_count": 107,
   "metadata": {
    "id": "QPVqxZBjpjKP"
   },
   "outputs": [],
   "source": [
    "X_train, X_test, y_train, y_test = train_test_split(incidentsData_Others_upsample['cleaned_new_desc'], incidentsData_Others_upsample['label'], test_size=0.30, random_state=42)"
   ]
  },
  {
   "cell_type": "code",
   "execution_count": 119,
   "metadata": {
    "id": "GGn5CryupXRP"
   },
   "outputs": [],
   "source": [
    "tfidfvectorizer = TfidfVectorizer(analyzer='word',\n",
    "                                  stop_words='english',\n",
    "                                  max_features= 1000, # keep top 1000 terms\n",
    "                                  max_df = 0.5,\n",
    "                                  smooth_idf=True)\n",
    "\n",
    "X_train_tf_idf_emb = tfidfvectorizer.fit_transform(X_train)\n",
    "X_test_tf_idf_emb = tfidfvectorizer.transform(X_test)"
   ]
  },
  {
   "cell_type": "code",
   "execution_count": 120,
   "metadata": {
    "colab": {
     "base_uri": "https://localhost:8080/"
    },
    "id": "Gv6HV90BpyFF",
    "outputId": "0abd0808-4369-4bd4-e4e8-c58ea0c4f2a2"
   },
   "outputs": [
    {
     "data": {
      "text/plain": [
       "((104160, 1000), (44640, 1000))"
      ]
     },
     "execution_count": 120,
     "metadata": {},
     "output_type": "execute_result"
    }
   ],
   "source": [
    "X_train_tf_idf_emb.todense().shape, X_test_tf_idf_emb.todense().shape"
   ]
  },
  {
   "cell_type": "code",
   "execution_count": 121,
   "metadata": {
    "colab": {
     "base_uri": "https://localhost:8080/",
     "height": 74
    },
    "id": "YuXegy_AqO6R",
    "outputId": "586e0646-55e3-475f-9c5c-db3906d626de"
   },
   "outputs": [
    {
     "data": {
      "text/html": [
       "<style>#sk-container-id-5 {color: black;background-color: white;}#sk-container-id-5 pre{padding: 0;}#sk-container-id-5 div.sk-toggleable {background-color: white;}#sk-container-id-5 label.sk-toggleable__label {cursor: pointer;display: block;width: 100%;margin-bottom: 0;padding: 0.3em;box-sizing: border-box;text-align: center;}#sk-container-id-5 label.sk-toggleable__label-arrow:before {content: \"▸\";float: left;margin-right: 0.25em;color: #696969;}#sk-container-id-5 label.sk-toggleable__label-arrow:hover:before {color: black;}#sk-container-id-5 div.sk-estimator:hover label.sk-toggleable__label-arrow:before {color: black;}#sk-container-id-5 div.sk-toggleable__content {max-height: 0;max-width: 0;overflow: hidden;text-align: left;background-color: #f0f8ff;}#sk-container-id-5 div.sk-toggleable__content pre {margin: 0.2em;color: black;border-radius: 0.25em;background-color: #f0f8ff;}#sk-container-id-5 input.sk-toggleable__control:checked~div.sk-toggleable__content {max-height: 200px;max-width: 100%;overflow: auto;}#sk-container-id-5 input.sk-toggleable__control:checked~label.sk-toggleable__label-arrow:before {content: \"▾\";}#sk-container-id-5 div.sk-estimator input.sk-toggleable__control:checked~label.sk-toggleable__label {background-color: #d4ebff;}#sk-container-id-5 div.sk-label input.sk-toggleable__control:checked~label.sk-toggleable__label {background-color: #d4ebff;}#sk-container-id-5 input.sk-hidden--visually {border: 0;clip: rect(1px 1px 1px 1px);clip: rect(1px, 1px, 1px, 1px);height: 1px;margin: -1px;overflow: hidden;padding: 0;position: absolute;width: 1px;}#sk-container-id-5 div.sk-estimator {font-family: monospace;background-color: #f0f8ff;border: 1px dotted black;border-radius: 0.25em;box-sizing: border-box;margin-bottom: 0.5em;}#sk-container-id-5 div.sk-estimator:hover {background-color: #d4ebff;}#sk-container-id-5 div.sk-parallel-item::after {content: \"\";width: 100%;border-bottom: 1px solid gray;flex-grow: 1;}#sk-container-id-5 div.sk-label:hover label.sk-toggleable__label {background-color: #d4ebff;}#sk-container-id-5 div.sk-serial::before {content: \"\";position: absolute;border-left: 1px solid gray;box-sizing: border-box;top: 0;bottom: 0;left: 50%;z-index: 0;}#sk-container-id-5 div.sk-serial {display: flex;flex-direction: column;align-items: center;background-color: white;padding-right: 0.2em;padding-left: 0.2em;position: relative;}#sk-container-id-5 div.sk-item {position: relative;z-index: 1;}#sk-container-id-5 div.sk-parallel {display: flex;align-items: stretch;justify-content: center;background-color: white;position: relative;}#sk-container-id-5 div.sk-item::before, #sk-container-id-5 div.sk-parallel-item::before {content: \"\";position: absolute;border-left: 1px solid gray;box-sizing: border-box;top: 0;bottom: 0;left: 50%;z-index: -1;}#sk-container-id-5 div.sk-parallel-item {display: flex;flex-direction: column;z-index: 1;position: relative;background-color: white;}#sk-container-id-5 div.sk-parallel-item:first-child::after {align-self: flex-end;width: 50%;}#sk-container-id-5 div.sk-parallel-item:last-child::after {align-self: flex-start;width: 50%;}#sk-container-id-5 div.sk-parallel-item:only-child::after {width: 0;}#sk-container-id-5 div.sk-dashed-wrapped {border: 1px dashed gray;margin: 0 0.4em 0.5em 0.4em;box-sizing: border-box;padding-bottom: 0.4em;background-color: white;}#sk-container-id-5 div.sk-label label {font-family: monospace;font-weight: bold;display: inline-block;line-height: 1.2em;}#sk-container-id-5 div.sk-label-container {text-align: center;}#sk-container-id-5 div.sk-container {/* jupyter's `normalize.less` sets `[hidden] { display: none; }` but bootstrap.min.css set `[hidden] { display: none !important; }` so we also need the `!important` here to be able to override the default hidden behavior on the sphinx rendered scikit-learn.org. See: https://github.com/scikit-learn/scikit-learn/issues/21755 */display: inline-block !important;position: relative;}#sk-container-id-5 div.sk-text-repr-fallback {display: none;}</style><div id=\"sk-container-id-5\" class=\"sk-top-container\"><div class=\"sk-text-repr-fallback\"><pre>SVC(gamma=&#x27;auto&#x27;, kernel=&#x27;linear&#x27;)</pre><b>In a Jupyter environment, please rerun this cell to show the HTML representation or trust the notebook. <br />On GitHub, the HTML representation is unable to render, please try loading this page with nbviewer.org.</b></div><div class=\"sk-container\" hidden><div class=\"sk-item\"><div class=\"sk-estimator sk-toggleable\"><input class=\"sk-toggleable__control sk-hidden--visually\" id=\"sk-estimator-id-5\" type=\"checkbox\" checked><label for=\"sk-estimator-id-5\" class=\"sk-toggleable__label sk-toggleable__label-arrow\">SVC</label><div class=\"sk-toggleable__content\"><pre>SVC(gamma=&#x27;auto&#x27;, kernel=&#x27;linear&#x27;)</pre></div></div></div></div></div>"
      ],
      "text/plain": [
       "SVC(gamma='auto', kernel='linear')"
      ]
     },
     "execution_count": 121,
     "metadata": {},
     "output_type": "execute_result"
    }
   ],
   "source": [
    "clf = SVC(gamma='auto', kernel=\"linear\")\n",
    "clf.fit(X_train_tf_idf_emb, y_train)"
   ]
  },
  {
   "cell_type": "code",
   "execution_count": 122,
   "metadata": {
    "id": "aKNb3P81tQ9D"
   },
   "outputs": [],
   "source": [
    "# Using the model to predict the labels of the test data\n",
    "y_train_pred = clf.predict(X_train_tf_idf_emb)\n",
    "y_test_pred = clf.predict(X_test_tf_idf_emb)"
   ]
  },
  {
   "cell_type": "code",
   "execution_count": 124,
   "metadata": {
    "colab": {
     "base_uri": "https://localhost:8080/"
    },
    "id": "rdgElCNptUsp",
    "outputId": "76f146e9-8f0b-43c4-d687-4af4c05fa147"
   },
   "outputs": [
    {
     "name": "stdout",
     "output_type": "stream",
     "text": [
      "Model: tf-idf vectorizer + SVM (With Oversampling)\n",
      "Train Accuracy 93.11059907834101\n",
      "Train Recall_score: 0.9311059907834102\n",
      "Train Precision_score: 0.9499986401844845\n",
      "Train F-score: 0.9339453451009803\n",
      "Model: tf-idf vectorizer + SVM (With Oversampling)\n",
      "Test Accuracy 92.93682795698925\n",
      "Test Recall_score: 0.9293682795698924\n",
      "Test Precision_score: 0.9477419793785195\n",
      "Test F-score: 0.9318087703125447\n"
     ]
    }
   ],
   "source": [
    "# Evaluating the accuracy of the model using the sklearn functions\n",
    "train_accuracy = accuracy_score(y_train,y_train_pred)*100\n",
    "\n",
    "# Evaluating the accuracy of the model using the sklearn functions\n",
    "test_accuracy = accuracy_score(y_test,y_test_pred)*100\n",
    "\n",
    "# Printing the results\n",
    "print('Model: tf-idf vectorizer + SVM (With Oversampling)')\n",
    "print('Train Accuracy', train_accuracy)\n",
    "print('Train Recall_score: ' + str(recall_score(y_train,y_train_pred, average='weighted')))\n",
    "print('Train Precision_score: ' + str(precision_score(y_train,y_train_pred, average='weighted', zero_division=1)))\n",
    "print('Train F-score: ' + str(f1_score(y_train,y_train_pred, average='weighted')))\n",
    "\n",
    "print('Model: tf-idf vectorizer + SVM (With Oversampling)')\n",
    "print('Test Accuracy', test_accuracy)\n",
    "print('Test Recall_score: ' + str(recall_score(y_test, y_test_pred, average='weighted', zero_division=0)))\n",
    "print('Test Precision_score: ' + str(precision_score(y_test, y_test_pred, average='weighted', zero_division=0)))\n",
    "print('Test F-score: ' + str(f1_score(y_test, y_test_pred, average='weighted')))"
   ]
  },
  {
   "cell_type": "code",
   "execution_count": null,
   "metadata": {
    "id": "eXjPDLMJtZYE"
   },
   "outputs": [],
   "source": []
  }
 ],
 "metadata": {
  "colab": {
   "provenance": []
  },
  "kernelspec": {
   "display_name": "Python 3 (ipykernel)",
   "language": "python",
   "name": "python3"
  },
  "language_info": {
   "codemirror_mode": {
    "name": "ipython",
    "version": 3
   },
   "file_extension": ".py",
   "mimetype": "text/x-python",
   "name": "python",
   "nbconvert_exporter": "python",
   "pygments_lexer": "ipython3",
   "version": "3.11.5"
  },
  "widgets": {
   "application/vnd.jupyter.widget-state+json": {
    "062fd0b6425741739daac8d09727d80a": {
     "model_module": "@jupyter-widgets/controls",
     "model_module_version": "1.5.0",
     "model_name": "DescriptionStyleModel",
     "state": {
      "_model_module": "@jupyter-widgets/controls",
      "_model_module_version": "1.5.0",
      "_model_name": "DescriptionStyleModel",
      "_view_count": null,
      "_view_module": "@jupyter-widgets/base",
      "_view_module_version": "1.2.0",
      "_view_name": "StyleView",
      "description_width": ""
     }
    },
    "1d461d9078504e3dabece30e3107f036": {
     "model_module": "@jupyter-widgets/controls",
     "model_module_version": "1.5.0",
     "model_name": "HBoxModel",
     "state": {
      "_dom_classes": [],
      "_model_module": "@jupyter-widgets/controls",
      "_model_module_version": "1.5.0",
      "_model_name": "HBoxModel",
      "_view_count": null,
      "_view_module": "@jupyter-widgets/controls",
      "_view_module_version": "1.5.0",
      "_view_name": "HBoxView",
      "box_style": "",
      "children": [
       "IPY_MODEL_4171db5923ea402fb9121804bae97c01",
       "IPY_MODEL_86529c2a37c74adfb40f23acccbeaa10",
       "IPY_MODEL_3969a4dec6594251824c8d6015c56e96"
      ],
      "layout": "IPY_MODEL_d6fd9c447cef4465a7b00d3bf912a2b2"
     }
    },
    "2f8b0a55594145d8a58ff190264d9ffd": {
     "model_module": "@jupyter-widgets/controls",
     "model_module_version": "1.5.0",
     "model_name": "HTMLModel",
     "state": {
      "_dom_classes": [],
      "_model_module": "@jupyter-widgets/controls",
      "_model_module_version": "1.5.0",
      "_model_name": "HTMLModel",
      "_view_count": null,
      "_view_module": "@jupyter-widgets/controls",
      "_view_module_version": "1.5.0",
      "_view_name": "HTMLView",
      "description": "",
      "description_tooltip": null,
      "layout": "IPY_MODEL_dd945d3026ed471dafd26cf69f859a67",
      "placeholder": "​",
      "style": "IPY_MODEL_d1c5b9f8db6541fcbfb4f2e09da6cf14",
      "value": " 186/186 [03:19&lt;00:00,  6.52it/s]"
     }
    },
    "3969a4dec6594251824c8d6015c56e96": {
     "model_module": "@jupyter-widgets/controls",
     "model_module_version": "1.5.0",
     "model_name": "HTMLModel",
     "state": {
      "_dom_classes": [],
      "_model_module": "@jupyter-widgets/controls",
      "_model_module_version": "1.5.0",
      "_model_name": "HTMLModel",
      "_view_count": null,
      "_view_module": "@jupyter-widgets/controls",
      "_view_module_version": "1.5.0",
      "_view_name": "HTMLView",
      "description": "",
      "description_tooltip": null,
      "layout": "IPY_MODEL_7a2e65a0b0b9458794cc5c650f7735dd",
      "placeholder": "​",
      "style": "IPY_MODEL_82666fc4c4074a4aaea858014d9b20fc",
      "value": " 80/80 [01:09&lt;00:00,  4.12it/s]"
     }
    },
    "3ef62d4053404a2f9dbe317b0ea9d4af": {
     "model_module": "@jupyter-widgets/base",
     "model_module_version": "1.2.0",
     "model_name": "LayoutModel",
     "state": {
      "_model_module": "@jupyter-widgets/base",
      "_model_module_version": "1.2.0",
      "_model_name": "LayoutModel",
      "_view_count": null,
      "_view_module": "@jupyter-widgets/base",
      "_view_module_version": "1.2.0",
      "_view_name": "LayoutView",
      "align_content": null,
      "align_items": null,
      "align_self": null,
      "border": null,
      "bottom": null,
      "display": null,
      "flex": null,
      "flex_flow": null,
      "grid_area": null,
      "grid_auto_columns": null,
      "grid_auto_flow": null,
      "grid_auto_rows": null,
      "grid_column": null,
      "grid_gap": null,
      "grid_row": null,
      "grid_template_areas": null,
      "grid_template_columns": null,
      "grid_template_rows": null,
      "height": null,
      "justify_content": null,
      "justify_items": null,
      "left": null,
      "margin": null,
      "max_height": null,
      "max_width": null,
      "min_height": null,
      "min_width": null,
      "object_fit": null,
      "object_position": null,
      "order": null,
      "overflow": null,
      "overflow_x": null,
      "overflow_y": null,
      "padding": null,
      "right": null,
      "top": null,
      "visibility": null,
      "width": null
     }
    },
    "4171db5923ea402fb9121804bae97c01": {
     "model_module": "@jupyter-widgets/controls",
     "model_module_version": "1.5.0",
     "model_name": "HTMLModel",
     "state": {
      "_dom_classes": [],
      "_model_module": "@jupyter-widgets/controls",
      "_model_module_version": "1.5.0",
      "_model_name": "HTMLModel",
      "_view_count": null,
      "_view_module": "@jupyter-widgets/controls",
      "_view_module_version": "1.5.0",
      "_view_name": "HTMLView",
      "description": "",
      "description_tooltip": null,
      "layout": "IPY_MODEL_3ef62d4053404a2f9dbe317b0ea9d4af",
      "placeholder": "​",
      "style": "IPY_MODEL_b04993f954b84270a597b8df3e150943",
      "value": "Batches: 100%"
     }
    },
    "50bf8823d921455cbba114bebe1b5e59": {
     "model_module": "@jupyter-widgets/controls",
     "model_module_version": "1.5.0",
     "model_name": "FloatProgressModel",
     "state": {
      "_dom_classes": [],
      "_model_module": "@jupyter-widgets/controls",
      "_model_module_version": "1.5.0",
      "_model_name": "FloatProgressModel",
      "_view_count": null,
      "_view_module": "@jupyter-widgets/controls",
      "_view_module_version": "1.5.0",
      "_view_name": "ProgressView",
      "bar_style": "success",
      "description": "",
      "description_tooltip": null,
      "layout": "IPY_MODEL_b941333615034dc3a20f6a68f1efaeb1",
      "max": 186,
      "min": 0,
      "orientation": "horizontal",
      "style": "IPY_MODEL_a827c5ca0a2549e799a0b8b2e4a6cb25",
      "value": 186
     }
    },
    "590289384d6a405aa24864f6e54c95c7": {
     "model_module": "@jupyter-widgets/base",
     "model_module_version": "1.2.0",
     "model_name": "LayoutModel",
     "state": {
      "_model_module": "@jupyter-widgets/base",
      "_model_module_version": "1.2.0",
      "_model_name": "LayoutModel",
      "_view_count": null,
      "_view_module": "@jupyter-widgets/base",
      "_view_module_version": "1.2.0",
      "_view_name": "LayoutView",
      "align_content": null,
      "align_items": null,
      "align_self": null,
      "border": null,
      "bottom": null,
      "display": null,
      "flex": null,
      "flex_flow": null,
      "grid_area": null,
      "grid_auto_columns": null,
      "grid_auto_flow": null,
      "grid_auto_rows": null,
      "grid_column": null,
      "grid_gap": null,
      "grid_row": null,
      "grid_template_areas": null,
      "grid_template_columns": null,
      "grid_template_rows": null,
      "height": null,
      "justify_content": null,
      "justify_items": null,
      "left": null,
      "margin": null,
      "max_height": null,
      "max_width": null,
      "min_height": null,
      "min_width": null,
      "object_fit": null,
      "object_position": null,
      "order": null,
      "overflow": null,
      "overflow_x": null,
      "overflow_y": null,
      "padding": null,
      "right": null,
      "top": null,
      "visibility": null,
      "width": null
     }
    },
    "65de4fac6b6d43a980c7b71ff8d42d2b": {
     "model_module": "@jupyter-widgets/controls",
     "model_module_version": "1.5.0",
     "model_name": "ProgressStyleModel",
     "state": {
      "_model_module": "@jupyter-widgets/controls",
      "_model_module_version": "1.5.0",
      "_model_name": "ProgressStyleModel",
      "_view_count": null,
      "_view_module": "@jupyter-widgets/base",
      "_view_module_version": "1.2.0",
      "_view_name": "StyleView",
      "bar_color": null,
      "description_width": ""
     }
    },
    "7a2e65a0b0b9458794cc5c650f7735dd": {
     "model_module": "@jupyter-widgets/base",
     "model_module_version": "1.2.0",
     "model_name": "LayoutModel",
     "state": {
      "_model_module": "@jupyter-widgets/base",
      "_model_module_version": "1.2.0",
      "_model_name": "LayoutModel",
      "_view_count": null,
      "_view_module": "@jupyter-widgets/base",
      "_view_module_version": "1.2.0",
      "_view_name": "LayoutView",
      "align_content": null,
      "align_items": null,
      "align_self": null,
      "border": null,
      "bottom": null,
      "display": null,
      "flex": null,
      "flex_flow": null,
      "grid_area": null,
      "grid_auto_columns": null,
      "grid_auto_flow": null,
      "grid_auto_rows": null,
      "grid_column": null,
      "grid_gap": null,
      "grid_row": null,
      "grid_template_areas": null,
      "grid_template_columns": null,
      "grid_template_rows": null,
      "height": null,
      "justify_content": null,
      "justify_items": null,
      "left": null,
      "margin": null,
      "max_height": null,
      "max_width": null,
      "min_height": null,
      "min_width": null,
      "object_fit": null,
      "object_position": null,
      "order": null,
      "overflow": null,
      "overflow_x": null,
      "overflow_y": null,
      "padding": null,
      "right": null,
      "top": null,
      "visibility": null,
      "width": null
     }
    },
    "82666fc4c4074a4aaea858014d9b20fc": {
     "model_module": "@jupyter-widgets/controls",
     "model_module_version": "1.5.0",
     "model_name": "DescriptionStyleModel",
     "state": {
      "_model_module": "@jupyter-widgets/controls",
      "_model_module_version": "1.5.0",
      "_model_name": "DescriptionStyleModel",
      "_view_count": null,
      "_view_module": "@jupyter-widgets/base",
      "_view_module_version": "1.2.0",
      "_view_name": "StyleView",
      "description_width": ""
     }
    },
    "832f38936630431f9bd1056d73bb2f3e": {
     "model_module": "@jupyter-widgets/controls",
     "model_module_version": "1.5.0",
     "model_name": "HTMLModel",
     "state": {
      "_dom_classes": [],
      "_model_module": "@jupyter-widgets/controls",
      "_model_module_version": "1.5.0",
      "_model_name": "HTMLModel",
      "_view_count": null,
      "_view_module": "@jupyter-widgets/controls",
      "_view_module_version": "1.5.0",
      "_view_name": "HTMLView",
      "description": "",
      "description_tooltip": null,
      "layout": "IPY_MODEL_cf9c2845295c437ab2bd01897b9d561f",
      "placeholder": "​",
      "style": "IPY_MODEL_062fd0b6425741739daac8d09727d80a",
      "value": "Batches: 100%"
     }
    },
    "86529c2a37c74adfb40f23acccbeaa10": {
     "model_module": "@jupyter-widgets/controls",
     "model_module_version": "1.5.0",
     "model_name": "FloatProgressModel",
     "state": {
      "_dom_classes": [],
      "_model_module": "@jupyter-widgets/controls",
      "_model_module_version": "1.5.0",
      "_model_name": "FloatProgressModel",
      "_view_count": null,
      "_view_module": "@jupyter-widgets/controls",
      "_view_module_version": "1.5.0",
      "_view_name": "ProgressView",
      "bar_style": "success",
      "description": "",
      "description_tooltip": null,
      "layout": "IPY_MODEL_9f589d16fa724bafaa59948d95a939c9",
      "max": 80,
      "min": 0,
      "orientation": "horizontal",
      "style": "IPY_MODEL_65de4fac6b6d43a980c7b71ff8d42d2b",
      "value": 80
     }
    },
    "893f12abdb8b42adbbc0e995763b9f1c": {
     "model_module": "@jupyter-widgets/controls",
     "model_module_version": "1.5.0",
     "model_name": "HBoxModel",
     "state": {
      "_dom_classes": [],
      "_model_module": "@jupyter-widgets/controls",
      "_model_module_version": "1.5.0",
      "_model_name": "HBoxModel",
      "_view_count": null,
      "_view_module": "@jupyter-widgets/controls",
      "_view_module_version": "1.5.0",
      "_view_name": "HBoxView",
      "box_style": "",
      "children": [
       "IPY_MODEL_832f38936630431f9bd1056d73bb2f3e",
       "IPY_MODEL_50bf8823d921455cbba114bebe1b5e59",
       "IPY_MODEL_2f8b0a55594145d8a58ff190264d9ffd"
      ],
      "layout": "IPY_MODEL_590289384d6a405aa24864f6e54c95c7"
     }
    },
    "9f589d16fa724bafaa59948d95a939c9": {
     "model_module": "@jupyter-widgets/base",
     "model_module_version": "1.2.0",
     "model_name": "LayoutModel",
     "state": {
      "_model_module": "@jupyter-widgets/base",
      "_model_module_version": "1.2.0",
      "_model_name": "LayoutModel",
      "_view_count": null,
      "_view_module": "@jupyter-widgets/base",
      "_view_module_version": "1.2.0",
      "_view_name": "LayoutView",
      "align_content": null,
      "align_items": null,
      "align_self": null,
      "border": null,
      "bottom": null,
      "display": null,
      "flex": null,
      "flex_flow": null,
      "grid_area": null,
      "grid_auto_columns": null,
      "grid_auto_flow": null,
      "grid_auto_rows": null,
      "grid_column": null,
      "grid_gap": null,
      "grid_row": null,
      "grid_template_areas": null,
      "grid_template_columns": null,
      "grid_template_rows": null,
      "height": null,
      "justify_content": null,
      "justify_items": null,
      "left": null,
      "margin": null,
      "max_height": null,
      "max_width": null,
      "min_height": null,
      "min_width": null,
      "object_fit": null,
      "object_position": null,
      "order": null,
      "overflow": null,
      "overflow_x": null,
      "overflow_y": null,
      "padding": null,
      "right": null,
      "top": null,
      "visibility": null,
      "width": null
     }
    },
    "a827c5ca0a2549e799a0b8b2e4a6cb25": {
     "model_module": "@jupyter-widgets/controls",
     "model_module_version": "1.5.0",
     "model_name": "ProgressStyleModel",
     "state": {
      "_model_module": "@jupyter-widgets/controls",
      "_model_module_version": "1.5.0",
      "_model_name": "ProgressStyleModel",
      "_view_count": null,
      "_view_module": "@jupyter-widgets/base",
      "_view_module_version": "1.2.0",
      "_view_name": "StyleView",
      "bar_color": null,
      "description_width": ""
     }
    },
    "b04993f954b84270a597b8df3e150943": {
     "model_module": "@jupyter-widgets/controls",
     "model_module_version": "1.5.0",
     "model_name": "DescriptionStyleModel",
     "state": {
      "_model_module": "@jupyter-widgets/controls",
      "_model_module_version": "1.5.0",
      "_model_name": "DescriptionStyleModel",
      "_view_count": null,
      "_view_module": "@jupyter-widgets/base",
      "_view_module_version": "1.2.0",
      "_view_name": "StyleView",
      "description_width": ""
     }
    },
    "b941333615034dc3a20f6a68f1efaeb1": {
     "model_module": "@jupyter-widgets/base",
     "model_module_version": "1.2.0",
     "model_name": "LayoutModel",
     "state": {
      "_model_module": "@jupyter-widgets/base",
      "_model_module_version": "1.2.0",
      "_model_name": "LayoutModel",
      "_view_count": null,
      "_view_module": "@jupyter-widgets/base",
      "_view_module_version": "1.2.0",
      "_view_name": "LayoutView",
      "align_content": null,
      "align_items": null,
      "align_self": null,
      "border": null,
      "bottom": null,
      "display": null,
      "flex": null,
      "flex_flow": null,
      "grid_area": null,
      "grid_auto_columns": null,
      "grid_auto_flow": null,
      "grid_auto_rows": null,
      "grid_column": null,
      "grid_gap": null,
      "grid_row": null,
      "grid_template_areas": null,
      "grid_template_columns": null,
      "grid_template_rows": null,
      "height": null,
      "justify_content": null,
      "justify_items": null,
      "left": null,
      "margin": null,
      "max_height": null,
      "max_width": null,
      "min_height": null,
      "min_width": null,
      "object_fit": null,
      "object_position": null,
      "order": null,
      "overflow": null,
      "overflow_x": null,
      "overflow_y": null,
      "padding": null,
      "right": null,
      "top": null,
      "visibility": null,
      "width": null
     }
    },
    "cf9c2845295c437ab2bd01897b9d561f": {
     "model_module": "@jupyter-widgets/base",
     "model_module_version": "1.2.0",
     "model_name": "LayoutModel",
     "state": {
      "_model_module": "@jupyter-widgets/base",
      "_model_module_version": "1.2.0",
      "_model_name": "LayoutModel",
      "_view_count": null,
      "_view_module": "@jupyter-widgets/base",
      "_view_module_version": "1.2.0",
      "_view_name": "LayoutView",
      "align_content": null,
      "align_items": null,
      "align_self": null,
      "border": null,
      "bottom": null,
      "display": null,
      "flex": null,
      "flex_flow": null,
      "grid_area": null,
      "grid_auto_columns": null,
      "grid_auto_flow": null,
      "grid_auto_rows": null,
      "grid_column": null,
      "grid_gap": null,
      "grid_row": null,
      "grid_template_areas": null,
      "grid_template_columns": null,
      "grid_template_rows": null,
      "height": null,
      "justify_content": null,
      "justify_items": null,
      "left": null,
      "margin": null,
      "max_height": null,
      "max_width": null,
      "min_height": null,
      "min_width": null,
      "object_fit": null,
      "object_position": null,
      "order": null,
      "overflow": null,
      "overflow_x": null,
      "overflow_y": null,
      "padding": null,
      "right": null,
      "top": null,
      "visibility": null,
      "width": null
     }
    },
    "d1c5b9f8db6541fcbfb4f2e09da6cf14": {
     "model_module": "@jupyter-widgets/controls",
     "model_module_version": "1.5.0",
     "model_name": "DescriptionStyleModel",
     "state": {
      "_model_module": "@jupyter-widgets/controls",
      "_model_module_version": "1.5.0",
      "_model_name": "DescriptionStyleModel",
      "_view_count": null,
      "_view_module": "@jupyter-widgets/base",
      "_view_module_version": "1.2.0",
      "_view_name": "StyleView",
      "description_width": ""
     }
    },
    "d6fd9c447cef4465a7b00d3bf912a2b2": {
     "model_module": "@jupyter-widgets/base",
     "model_module_version": "1.2.0",
     "model_name": "LayoutModel",
     "state": {
      "_model_module": "@jupyter-widgets/base",
      "_model_module_version": "1.2.0",
      "_model_name": "LayoutModel",
      "_view_count": null,
      "_view_module": "@jupyter-widgets/base",
      "_view_module_version": "1.2.0",
      "_view_name": "LayoutView",
      "align_content": null,
      "align_items": null,
      "align_self": null,
      "border": null,
      "bottom": null,
      "display": null,
      "flex": null,
      "flex_flow": null,
      "grid_area": null,
      "grid_auto_columns": null,
      "grid_auto_flow": null,
      "grid_auto_rows": null,
      "grid_column": null,
      "grid_gap": null,
      "grid_row": null,
      "grid_template_areas": null,
      "grid_template_columns": null,
      "grid_template_rows": null,
      "height": null,
      "justify_content": null,
      "justify_items": null,
      "left": null,
      "margin": null,
      "max_height": null,
      "max_width": null,
      "min_height": null,
      "min_width": null,
      "object_fit": null,
      "object_position": null,
      "order": null,
      "overflow": null,
      "overflow_x": null,
      "overflow_y": null,
      "padding": null,
      "right": null,
      "top": null,
      "visibility": null,
      "width": null
     }
    },
    "dd945d3026ed471dafd26cf69f859a67": {
     "model_module": "@jupyter-widgets/base",
     "model_module_version": "1.2.0",
     "model_name": "LayoutModel",
     "state": {
      "_model_module": "@jupyter-widgets/base",
      "_model_module_version": "1.2.0",
      "_model_name": "LayoutModel",
      "_view_count": null,
      "_view_module": "@jupyter-widgets/base",
      "_view_module_version": "1.2.0",
      "_view_name": "LayoutView",
      "align_content": null,
      "align_items": null,
      "align_self": null,
      "border": null,
      "bottom": null,
      "display": null,
      "flex": null,
      "flex_flow": null,
      "grid_area": null,
      "grid_auto_columns": null,
      "grid_auto_flow": null,
      "grid_auto_rows": null,
      "grid_column": null,
      "grid_gap": null,
      "grid_row": null,
      "grid_template_areas": null,
      "grid_template_columns": null,
      "grid_template_rows": null,
      "height": null,
      "justify_content": null,
      "justify_items": null,
      "left": null,
      "margin": null,
      "max_height": null,
      "max_width": null,
      "min_height": null,
      "min_width": null,
      "object_fit": null,
      "object_position": null,
      "order": null,
      "overflow": null,
      "overflow_x": null,
      "overflow_y": null,
      "padding": null,
      "right": null,
      "top": null,
      "visibility": null,
      "width": null
     }
    }
   }
  }
 },
 "nbformat": 4,
 "nbformat_minor": 1
}
